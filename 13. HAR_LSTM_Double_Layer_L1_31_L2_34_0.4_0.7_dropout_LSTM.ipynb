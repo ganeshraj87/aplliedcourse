{
 "cells": [
  {
   "cell_type": "code",
   "execution_count": 0,
   "metadata": {
    "colab": {},
    "colab_type": "code",
    "id": "bPfuVwYP4nCw"
   },
   "outputs": [],
   "source": [
    "# Importing Libraries"
   ]
  },
  {
   "cell_type": "code",
   "execution_count": 1,
   "metadata": {
    "colab": {
     "base_uri": "https://localhost:8080/",
     "height": 122
    },
    "colab_type": "code",
    "id": "IQSanVNq5YeZ",
    "outputId": "7d64c953-69d9-482c-9261-3d539cc1c825"
   },
   "outputs": [
    {
     "name": "stdout",
     "output_type": "stream",
     "text": [
      "Go to this URL in a browser: https://accounts.google.com/o/oauth2/auth?client_id=947318989803-6bn6qk8qdgf4n4g3pfee6491hc0brc4i.apps.googleusercontent.com&redirect_uri=urn%3aietf%3awg%3aoauth%3a2.0%3aoob&response_type=code&scope=email%20https%3a%2f%2fwww.googleapis.com%2fauth%2fdocs.test%20https%3a%2f%2fwww.googleapis.com%2fauth%2fdrive%20https%3a%2f%2fwww.googleapis.com%2fauth%2fdrive.photos.readonly%20https%3a%2f%2fwww.googleapis.com%2fauth%2fpeopleapi.readonly\n",
      "\n",
      "Enter your authorization code:\n",
      "··········\n",
      "Mounted at /content/drive\n"
     ]
    }
   ],
   "source": [
    "from google.colab import drive\n",
    "drive.mount('/content/drive')"
   ]
  },
  {
   "cell_type": "code",
   "execution_count": 2,
   "metadata": {
    "colab": {
     "base_uri": "https://localhost:8080/",
     "height": 170
    },
    "colab_type": "code",
    "id": "fIr4cHRX5Xjb",
    "outputId": "8872f00d-2328-47b0-826e-2c6b54c903fa"
   },
   "outputs": [
    {
     "name": "stdout",
     "output_type": "stream",
     "text": [
      "Collecting patool\n",
      "\u001b[?25l  Downloading https://files.pythonhosted.org/packages/43/94/52243ddff508780dd2d8110964320ab4851134a55ab102285b46e740f76a/patool-1.12-py2.py3-none-any.whl (77kB)\n",
      "\r",
      "\u001b[K     |████▎                           | 10kB 18.0MB/s eta 0:00:01\r",
      "\u001b[K     |████████▌                       | 20kB 1.6MB/s eta 0:00:01\r",
      "\u001b[K     |████████████▊                   | 30kB 2.4MB/s eta 0:00:01\r",
      "\u001b[K     |█████████████████               | 40kB 1.6MB/s eta 0:00:01\r",
      "\u001b[K     |█████████████████████▏          | 51kB 2.0MB/s eta 0:00:01\r",
      "\u001b[K     |█████████████████████████▍      | 61kB 2.4MB/s eta 0:00:01\r",
      "\u001b[K     |█████████████████████████████▋  | 71kB 2.8MB/s eta 0:00:01\r",
      "\u001b[K     |████████████████████████████████| 81kB 2.5MB/s \n",
      "\u001b[?25hInstalling collected packages: patool\n",
      "Successfully installed patool-1.12\n",
      "patool: Extracting /content/drive/My Drive/HumanActivityRecognition.zip ...\n",
      "patool: running /usr/bin/7z x -o./Unpack_wny74lr4 -- \"/content/drive/My Drive/HumanActivityRecognition.zip\"\n",
      "patool: ... /content/drive/My Drive/HumanActivityRecognition.zip extracted to `HumanActivityRecognition' (multiple files in root).\n"
     ]
    },
    {
     "data": {
      "text/plain": [
       "'HumanActivityRecognition'"
      ]
     },
     "execution_count": 2,
     "metadata": {
      "tags": []
     },
     "output_type": "execute_result"
    }
   ],
   "source": [
    "!pip3 install patool\n",
    "import patoolib\n",
    "patoolib.extract_archive('/content/drive/My Drive/HumanActivityRecognition.zip')"
   ]
  },
  {
   "cell_type": "code",
   "execution_count": 0,
   "metadata": {
    "colab": {},
    "colab_type": "code",
    "id": "5TjZYC0S4nC9"
   },
   "outputs": [],
   "source": [
    "import pandas as pd\n",
    "import numpy as np"
   ]
  },
  {
   "cell_type": "code",
   "execution_count": 0,
   "metadata": {
    "colab": {},
    "colab_type": "code",
    "id": "6eX9G-W14nDF"
   },
   "outputs": [],
   "source": [
    "# Activities are the class labels\n",
    "# It is a 6 class classification\n",
    "ACTIVITIES = {\n",
    "    0: 'WALKING',\n",
    "    1: 'WALKING_UPSTAIRS',\n",
    "    2: 'WALKING_DOWNSTAIRS',\n",
    "    3: 'SITTING',\n",
    "    4: 'STANDING',\n",
    "    5: 'LAYING',\n",
    "}\n",
    "\n",
    "# Utility function to print the confusion matrix\n",
    "def confusion_matrix(Y_true, Y_pred):\n",
    "    Y_true = pd.Series([ACTIVITIES[y] for y in np.argmax(Y_true, axis=1)])\n",
    "    Y_pred = pd.Series([ACTIVITIES[y] for y in np.argmax(Y_pred, axis=1)])\n",
    "\n",
    "    return pd.crosstab(Y_true, Y_pred, rownames=['True'], colnames=['Pred'])"
   ]
  },
  {
   "cell_type": "markdown",
   "metadata": {
    "colab_type": "text",
    "id": "w_XAdzM24nDM"
   },
   "source": [
    "### Data"
   ]
  },
  {
   "cell_type": "code",
   "execution_count": 0,
   "metadata": {
    "colab": {},
    "colab_type": "code",
    "id": "ol1aYZBv4nDP"
   },
   "outputs": [],
   "source": [
    "# Data directory\n",
    "DATADIR = 'UCI_HAR_Dataset'"
   ]
  },
  {
   "cell_type": "code",
   "execution_count": 0,
   "metadata": {
    "colab": {},
    "colab_type": "code",
    "id": "E6v-8k0d4nDW"
   },
   "outputs": [],
   "source": [
    "# Raw data signals\n",
    "# Signals are from Accelerometer and Gyroscope\n",
    "# The signals are in x,y,z directions\n",
    "# Sensor signals are filtered to have only body acceleration\n",
    "# excluding the acceleration due to gravity\n",
    "# Triaxial acceleration from the accelerometer is total acceleration\n",
    "SIGNALS = [\n",
    "    \"body_acc_x\",\n",
    "    \"body_acc_y\",\n",
    "    \"body_acc_z\",\n",
    "    \"body_gyro_x\",\n",
    "    \"body_gyro_y\",\n",
    "    \"body_gyro_z\",\n",
    "    \"total_acc_x\",\n",
    "    \"total_acc_y\",\n",
    "    \"total_acc_z\"\n",
    "]"
   ]
  },
  {
   "cell_type": "code",
   "execution_count": 0,
   "metadata": {
    "colab": {},
    "colab_type": "code",
    "id": "0qnMjxat4nDd"
   },
   "outputs": [],
   "source": [
    "# Utility function to read the data from csv file\n",
    "def _read_csv(filename):\n",
    "    return pd.read_csv(filename, delim_whitespace=True, header=None)\n",
    "\n",
    "# Utility function to load the load\n",
    "def load_signals(subset):\n",
    "    signals_data = []\n",
    "\n",
    "    for signal in SIGNALS:\n",
    "        filename = f'/content/HumanActivityRecognition/HAR/UCI_HAR_Dataset/{subset}/Inertial Signals/{signal}_{subset}.txt'\n",
    "        signals_data.append(\n",
    "            _read_csv(filename).as_matrix()\n",
    "        ) \n",
    "\n",
    "    # Transpose is used to change the dimensionality of the output,\n",
    "    # aggregating the signals by combination of sample/timestep.\n",
    "    # Resultant shape is (7352 train/2947 test samples, 128 timesteps, 9 signals)\n",
    "    return np.transpose(signals_data, (1, 2, 0))"
   ]
  },
  {
   "cell_type": "code",
   "execution_count": 0,
   "metadata": {
    "colab": {},
    "colab_type": "code",
    "id": "NKVqn2g14nDm"
   },
   "outputs": [],
   "source": [
    "\n",
    "def load_y(subset):\n",
    "    \"\"\"\n",
    "    The objective that we are trying to predict is a integer, from 1 to 6,\n",
    "    that represents a human activity. We return a binary representation of \n",
    "    every sample objective as a 6 bits vector using One Hot Encoding\n",
    "    (https://pandas.pydata.org/pandas-docs/stable/generated/pandas.get_dummies.html)\n",
    "    \"\"\"\n",
    "   \n",
    "    filename = f'/content/HumanActivityRecognition/HAR/UCI_HAR_Dataset/{subset}/y_{subset}.txt'\n",
    "    y = _read_csv(filename)[0]\n",
    "\n",
    "    return pd.get_dummies(y).as_matrix()"
   ]
  },
  {
   "cell_type": "code",
   "execution_count": 0,
   "metadata": {
    "colab": {},
    "colab_type": "code",
    "id": "Tzkjp4A24nDt"
   },
   "outputs": [],
   "source": [
    "def load_data():\n",
    "    \"\"\"\n",
    "    Obtain the dataset from multiple files.\n",
    "    Returns: X_train, X_test, y_train, y_test\n",
    "    \"\"\"\n",
    "    X_train, X_test = load_signals('train'), load_signals('test')\n",
    "    y_train, y_test = load_y('train'), load_y('test')\n",
    "\n",
    "    return X_train, X_test, y_train, y_test"
   ]
  },
  {
   "cell_type": "code",
   "execution_count": 0,
   "metadata": {
    "colab": {},
    "colab_type": "code",
    "id": "B1Qz2Der4nD1"
   },
   "outputs": [],
   "source": [
    "# Importing tensorflow\n",
    "np.random.seed(42)\n",
    "import tensorflow as tf\n",
    "tf.set_random_seed(42)"
   ]
  },
  {
   "cell_type": "code",
   "execution_count": 0,
   "metadata": {
    "colab": {},
    "colab_type": "code",
    "id": "cqBifQ1V4nD9"
   },
   "outputs": [],
   "source": [
    "# Configuring a session\n",
    "session_conf = tf.ConfigProto(\n",
    "    intra_op_parallelism_threads=1,\n",
    "    inter_op_parallelism_threads=1\n",
    ")"
   ]
  },
  {
   "cell_type": "code",
   "execution_count": 0,
   "metadata": {
    "colab": {},
    "colab_type": "code",
    "id": "NUff6Bmd4nEI"
   },
   "outputs": [],
   "source": [
    "# Import Keras\n",
    "from keras import backend as K\n",
    "sess = tf.Session(graph=tf.get_default_graph(), config=session_conf)\n",
    "K.set_session(sess)"
   ]
  },
  {
   "cell_type": "code",
   "execution_count": 0,
   "metadata": {
    "colab": {},
    "colab_type": "code",
    "id": "PV6rVx1j4nEO"
   },
   "outputs": [],
   "source": [
    "# Importing libraries\n",
    "from keras.models import Sequential\n",
    "from keras.layers import LSTM\n",
    "from keras.layers.core import Dense, Dropout"
   ]
  },
  {
   "cell_type": "code",
   "execution_count": 0,
   "metadata": {
    "colab": {},
    "colab_type": "code",
    "id": "v2CAgsgb4nEU"
   },
   "outputs": [],
   "source": [
    "# Initializing parameters\n",
    "epochs = 28\n",
    "batch_size = 16\n",
    "n_hidden1 = 31\n",
    "n_hidden2 = 34"
   ]
  },
  {
   "cell_type": "code",
   "execution_count": 0,
   "metadata": {
    "colab": {},
    "colab_type": "code",
    "id": "4-4UbJlX4nEa"
   },
   "outputs": [],
   "source": [
    "# Utility function to count the number of classes\n",
    "def _count_classes(y):\n",
    "    return len(set([tuple(category) for category in y]))"
   ]
  },
  {
   "cell_type": "code",
   "execution_count": 120,
   "metadata": {
    "colab": {
     "base_uri": "https://localhost:8080/",
     "height": 85
    },
    "colab_type": "code",
    "id": "6ptV0Z8O4nEh",
    "outputId": "ebaf6023-4b56-4b42-b244-d17b6a5af717"
   },
   "outputs": [
    {
     "name": "stderr",
     "output_type": "stream",
     "text": [
      "/usr/local/lib/python3.6/dist-packages/ipykernel_launcher.py:11: FutureWarning: Method .as_matrix will be removed in a future version. Use .values instead.\n",
      "  # This is added back by InteractiveShellApp.init_path()\n",
      "/usr/local/lib/python3.6/dist-packages/ipykernel_launcher.py:13: FutureWarning: Method .as_matrix will be removed in a future version. Use .values instead.\n",
      "  del sys.path[0]\n"
     ]
    }
   ],
   "source": [
    "# Loading the train and test data\n",
    "X_train, X_test, Y_train, Y_test = load_data()"
   ]
  },
  {
   "cell_type": "code",
   "execution_count": 121,
   "metadata": {
    "colab": {
     "base_uri": "https://localhost:8080/",
     "height": 68
    },
    "colab_type": "code",
    "id": "3C3YyHHD4nEn",
    "outputId": "268e1289-c577-4e32-f96a-36507a73e185"
   },
   "outputs": [
    {
     "name": "stdout",
     "output_type": "stream",
     "text": [
      "128\n",
      "9\n",
      "7352\n"
     ]
    }
   ],
   "source": [
    "timesteps = len(X_train[0])\n",
    "input_dim = len(X_train[0][0])\n",
    "n_classes = _count_classes(Y_train)\n",
    "\n",
    "print(timesteps)\n",
    "print(input_dim)\n",
    "print(len(X_train))"
   ]
  },
  {
   "cell_type": "markdown",
   "metadata": {
    "colab_type": "text",
    "id": "DqEKELgc4nEv"
   },
   "source": [
    "- Defining the Architecture of LSTM"
   ]
  },
  {
   "cell_type": "code",
   "execution_count": 122,
   "metadata": {
    "colab": {
     "base_uri": "https://localhost:8080/",
     "height": 323
    },
    "colab_type": "code",
    "id": "GKRzvx4N4nEx",
    "outputId": "9daceb91-ee8a-42f6-9fa9-1a601a6f3ecc"
   },
   "outputs": [
    {
     "name": "stdout",
     "output_type": "stream",
     "text": [
      "Model: \"sequential_14\"\n",
      "_________________________________________________________________\n",
      "Layer (type)                 Output Shape              Param #   \n",
      "=================================================================\n",
      "lstm_27 (LSTM)               (None, 128, 31)           5084      \n",
      "_________________________________________________________________\n",
      "dropout_27 (Dropout)         (None, 128, 31)           0         \n",
      "_________________________________________________________________\n",
      "lstm_28 (LSTM)               (None, 34)                8976      \n",
      "_________________________________________________________________\n",
      "dropout_28 (Dropout)         (None, 34)                0         \n",
      "_________________________________________________________________\n",
      "dense_14 (Dense)             (None, 6)                 210       \n",
      "=================================================================\n",
      "Total params: 14,270\n",
      "Trainable params: 14,270\n",
      "Non-trainable params: 0\n",
      "_________________________________________________________________\n"
     ]
    }
   ],
   "source": [
    "# Initiliazing the sequential model\n",
    "model = Sequential()\n",
    "from keras.callbacks import EarlyStopping\n",
    "from keras.callbacks import ModelCheckpoint\n",
    "from keras.models import load_model\n",
    "\n",
    "# Configuring the parameters\n",
    "model.add(LSTM(n_hidden1, input_shape=(timesteps, input_dim),return_sequences = True)) #,\n",
    "# Adding a dropout layer\n",
    "model.add(Dropout(0.4))\n",
    "\n",
    "model.add(LSTM(n_hidden2, input_shape=(timesteps, input_dim)))\n",
    "# # Adding a dropout layer\n",
    "model.add(Dropout(0.7))\n",
    "# Adding a dense output layer with sigmoid activation\n",
    "model.add(Dense(n_classes, activation='sigmoid'))\n",
    "model.summary()"
   ]
  },
  {
   "cell_type": "code",
   "execution_count": 0,
   "metadata": {
    "colab": {},
    "colab_type": "code",
    "id": "iEumPPg-4nE3"
   },
   "outputs": [],
   "source": [
    "# Compiling the model\n",
    "model.compile(loss='categorical_crossentropy',\n",
    "              optimizer='rmsprop',\n",
    "              metrics=['accuracy'])"
   ]
  },
  {
   "cell_type": "code",
   "execution_count": 124,
   "metadata": {
    "colab": {
     "base_uri": "https://localhost:8080/",
     "height": 1000
    },
    "colab_type": "code",
    "id": "H0NZd3qQ4nE8",
    "outputId": "b170c93f-0a5c-4db9-dfb1-37aa3b1dfc57"
   },
   "outputs": [
    {
     "name": "stdout",
     "output_type": "stream",
     "text": [
      "Train on 7352 samples, validate on 2947 samples\n",
      "Epoch 1/28\n",
      "7352/7352 [==============================] - 80s 11ms/step - loss: 1.3133 - acc: 0.4544 - val_loss: 1.0180 - val_acc: 0.5779\n",
      "Epoch 2/28\n",
      "7352/7352 [==============================] - 72s 10ms/step - loss: 0.9327 - acc: 0.5975 - val_loss: 0.8259 - val_acc: 0.6271\n",
      "Epoch 3/28\n",
      "7352/7352 [==============================] - 73s 10ms/step - loss: 0.8002 - acc: 0.6285 - val_loss: 0.8054 - val_acc: 0.6227\n",
      "Epoch 4/28\n",
      "7352/7352 [==============================] - 74s 10ms/step - loss: 0.7564 - acc: 0.6409 - val_loss: 0.7818 - val_acc: 0.6210\n",
      "Epoch 5/28\n",
      "7352/7352 [==============================] - 73s 10ms/step - loss: 0.7475 - acc: 0.6457 - val_loss: 0.7894 - val_acc: 0.6223\n",
      "Epoch 6/28\n",
      "7352/7352 [==============================] - 74s 10ms/step - loss: 0.7315 - acc: 0.6499 - val_loss: 0.9027 - val_acc: 0.6054\n",
      "Epoch 7/28\n",
      "7352/7352 [==============================] - 73s 10ms/step - loss: 0.6993 - acc: 0.6568 - val_loss: 0.7988 - val_acc: 0.6200\n",
      "Epoch 8/28\n",
      "7352/7352 [==============================] - 73s 10ms/step - loss: 0.6968 - acc: 0.6536 - val_loss: 0.8979 - val_acc: 0.6125\n",
      "Epoch 9/28\n",
      "7352/7352 [==============================] - 73s 10ms/step - loss: 0.6515 - acc: 0.6643 - val_loss: 0.7197 - val_acc: 0.6210\n",
      "Epoch 10/28\n",
      "7352/7352 [==============================] - 73s 10ms/step - loss: 0.6020 - acc: 0.6712 - val_loss: 0.7570 - val_acc: 0.6152\n",
      "Epoch 11/28\n",
      "7352/7352 [==============================] - 73s 10ms/step - loss: 0.5975 - acc: 0.6808 - val_loss: 0.6153 - val_acc: 0.6284\n",
      "Epoch 12/28\n",
      "7352/7352 [==============================] - 72s 10ms/step - loss: 0.5582 - acc: 0.7157 - val_loss: 0.6488 - val_acc: 0.6196\n",
      "Epoch 13/28\n",
      "7352/7352 [==============================] - 74s 10ms/step - loss: 0.5150 - acc: 0.7946 - val_loss: 0.6463 - val_acc: 0.8782\n",
      "Epoch 14/28\n",
      "7352/7352 [==============================] - 74s 10ms/step - loss: 0.4822 - acc: 0.8357 - val_loss: 0.5451 - val_acc: 0.8911\n",
      "Epoch 15/28\n",
      "7352/7352 [==============================] - 72s 10ms/step - loss: 0.4076 - acc: 0.8828 - val_loss: 0.4545 - val_acc: 0.8850\n",
      "Epoch 16/28\n",
      "7352/7352 [==============================] - 72s 10ms/step - loss: 0.3360 - acc: 0.9063 - val_loss: 0.5114 - val_acc: 0.8578\n",
      "Epoch 17/28\n",
      "7352/7352 [==============================] - 74s 10ms/step - loss: 0.3161 - acc: 0.9053 - val_loss: 0.5672 - val_acc: 0.8775\n",
      "Epoch 18/28\n",
      "7352/7352 [==============================] - 75s 10ms/step - loss: 0.2639 - acc: 0.9241 - val_loss: 0.5785 - val_acc: 0.8975\n",
      "Epoch 19/28\n",
      "7352/7352 [==============================] - 72s 10ms/step - loss: 0.2611 - acc: 0.9274 - val_loss: 0.8392 - val_acc: 0.8649\n",
      "Epoch 20/28\n",
      "7352/7352 [==============================] - 72s 10ms/step - loss: 0.2579 - acc: 0.9234 - val_loss: 0.5132 - val_acc: 0.8839\n",
      "Epoch 21/28\n",
      "7352/7352 [==============================] - 72s 10ms/step - loss: 0.2531 - acc: 0.9297 - val_loss: 0.5169 - val_acc: 0.8924\n",
      "Epoch 22/28\n",
      "7352/7352 [==============================] - 72s 10ms/step - loss: 0.2867 - acc: 0.9275 - val_loss: 0.6168 - val_acc: 0.8887\n",
      "Epoch 23/28\n",
      "7352/7352 [==============================] - 72s 10ms/step - loss: 0.2268 - acc: 0.9334 - val_loss: 0.7760 - val_acc: 0.8697\n",
      "Epoch 24/28\n",
      "7352/7352 [==============================] - 72s 10ms/step - loss: 0.2254 - acc: 0.9331 - val_loss: 0.8598 - val_acc: 0.8697\n",
      "Epoch 25/28\n",
      "7352/7352 [==============================] - 72s 10ms/step - loss: 0.2294 - acc: 0.9368 - val_loss: 0.7258 - val_acc: 0.8843\n",
      "Epoch 26/28\n",
      "7352/7352 [==============================] - 74s 10ms/step - loss: 0.1978 - acc: 0.9329 - val_loss: 0.6014 - val_acc: 0.8887\n",
      "Epoch 27/28\n",
      "7352/7352 [==============================] - 72s 10ms/step - loss: 0.2246 - acc: 0.9316 - val_loss: 0.7234 - val_acc: 0.8985\n",
      "Epoch 28/28\n",
      "7352/7352 [==============================] - 72s 10ms/step - loss: 0.2124 - acc: 0.9336 - val_loss: 0.5799 - val_acc: 0.9043\n"
     ]
    },
    {
     "data": {
      "text/plain": [
       "<keras.callbacks.History at 0x7f976d5e9518>"
      ]
     },
     "execution_count": 124,
     "metadata": {
      "tags": []
     },
     "output_type": "execute_result"
    }
   ],
   "source": [
    "# Training the model\n",
    "model.fit(X_train,\n",
    "          Y_train,\n",
    "          batch_size=batch_size,\n",
    "          validation_data=(X_test, Y_test),\n",
    "          epochs=epochs,)\n",
    "\n",
    " \n",
    "# evaluate the model\n",
    " "
   ]
  },
  {
   "cell_type": "code",
   "execution_count": 125,
   "metadata": {
    "colab": {
     "base_uri": "https://localhost:8080/",
     "height": 187
    },
    "colab_type": "code",
    "id": "ypYxoW-p4nFD",
    "outputId": "0f0dea68-665c-4e10-e0f0-f7a637b6ece3"
   },
   "outputs": [
    {
     "name": "stdout",
     "output_type": "stream",
     "text": [
      "Pred                LAYING  SITTING  ...  WALKING_DOWNSTAIRS  WALKING_UPSTAIRS\n",
      "True                                 ...                                      \n",
      "LAYING                 510        0  ...                   0                 0\n",
      "SITTING                  1      382  ...                   5                 3\n",
      "STANDING                 0       68  ...                   0                 0\n",
      "WALKING                  0        0  ...                   8                29\n",
      "WALKING_DOWNSTAIRS       0        0  ...                 408                11\n",
      "WALKING_UPSTAIRS         0        0  ...                   8               448\n",
      "\n",
      "[6 rows x 6 columns]\n"
     ]
    }
   ],
   "source": [
    "# Confusion Matrix\n",
    "print(confusion_matrix(Y_test, model.predict(X_test)))"
   ]
  },
  {
   "cell_type": "code",
   "execution_count": 126,
   "metadata": {
    "colab": {
     "base_uri": "https://localhost:8080/",
     "height": 34
    },
    "colab_type": "code",
    "id": "CwNdKRG14nFJ",
    "outputId": "2421ad5e-5baf-439d-a539-5cd8cd081cb6"
   },
   "outputs": [
    {
     "name": "stdout",
     "output_type": "stream",
     "text": [
      "2947/2947 [==============================] - 2s 836us/step\n"
     ]
    }
   ],
   "source": [
    "score = model.evaluate(X_test, Y_test)"
   ]
  },
  {
   "cell_type": "code",
   "execution_count": 127,
   "metadata": {
    "colab": {
     "base_uri": "https://localhost:8080/",
     "height": 34
    },
    "colab_type": "code",
    "id": "ce-3ypQM4nFO",
    "outputId": "ab43ce52-41e0-461c-e561-f9d3ffec4943"
   },
   "outputs": [
    {
     "data": {
      "text/plain": [
       "[0.5798575633825492, 0.9043094672548354]"
      ]
     },
     "execution_count": 127,
     "metadata": {
      "tags": []
     },
     "output_type": "execute_result"
    }
   ],
   "source": [
    "score"
   ]
  },
  {
   "cell_type": "markdown",
   "metadata": {},
   "source": [
    "#### Summary"
   ]
  },
  {
   "cell_type": "markdown",
   "metadata": {
    "colab_type": "text",
    "id": "VcURu_ht4nFU"
   },
   "source": [
    "- With a two layer architecture we got 90.4% accuracy and a loss of 0.57\n",
    "\n"
   ]
  }
 ],
 "metadata": {
  "colab": {
   "collapsed_sections": [],
   "name": "HAR_LSTM_Double_Layer_31_34_0.4_0.7_LSTM.ipynb",
   "provenance": []
  },
  "kernelspec": {
   "display_name": "Python 3",
   "language": "python",
   "name": "python3"
  },
  "language_info": {
   "codemirror_mode": {
    "name": "ipython",
    "version": 3
   },
   "file_extension": ".py",
   "mimetype": "text/x-python",
   "name": "python",
   "nbconvert_exporter": "python",
   "pygments_lexer": "ipython3",
   "version": "3.7.1"
  }
 },
 "nbformat": 4,
 "nbformat_minor": 1
}
