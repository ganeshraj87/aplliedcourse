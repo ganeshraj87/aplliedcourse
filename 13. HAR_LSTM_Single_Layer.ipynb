{
 "cells": [
  {
   "cell_type": "code",
   "execution_count": 0,
   "metadata": {
    "colab": {},
    "colab_type": "code",
    "id": "bPfuVwYP4nCw"
   },
   "outputs": [],
   "source": [
    "# Importing Libraries"
   ]
  },
  {
   "cell_type": "code",
   "execution_count": 24,
   "metadata": {
    "colab": {
     "base_uri": "https://localhost:8080/",
     "height": 122
    },
    "colab_type": "code",
    "id": "IQSanVNq5YeZ",
    "outputId": "0a5f63eb-d03b-4637-b9b0-ae78ff53df09"
   },
   "outputs": [
    {
     "name": "stdout",
     "output_type": "stream",
     "text": [
      "Go to this URL in a browser: https://accounts.google.com/o/oauth2/auth?client_id=947318989803-6bn6qk8qdgf4n4g3pfee6491hc0brc4i.apps.googleusercontent.com&redirect_uri=urn%3aietf%3awg%3aoauth%3a2.0%3aoob&response_type=code&scope=email%20https%3a%2f%2fwww.googleapis.com%2fauth%2fdocs.test%20https%3a%2f%2fwww.googleapis.com%2fauth%2fdrive%20https%3a%2f%2fwww.googleapis.com%2fauth%2fdrive.photos.readonly%20https%3a%2f%2fwww.googleapis.com%2fauth%2fpeopleapi.readonly\n",
      "\n",
      "Enter your authorization code:\n",
      "··········\n",
      "Mounted at /content/drive\n"
     ]
    }
   ],
   "source": [
    "from google.colab import drive\n",
    "drive.mount('/content/drive')"
   ]
  },
  {
   "cell_type": "code",
   "execution_count": 25,
   "metadata": {
    "colab": {
     "base_uri": "https://localhost:8080/",
     "height": 170
    },
    "colab_type": "code",
    "id": "fIr4cHRX5Xjb",
    "outputId": "c84b99fc-03f5-4274-ec84-b996924d4c07"
   },
   "outputs": [
    {
     "name": "stdout",
     "output_type": "stream",
     "text": [
      "Collecting patool\n",
      "\u001b[?25l  Downloading https://files.pythonhosted.org/packages/43/94/52243ddff508780dd2d8110964320ab4851134a55ab102285b46e740f76a/patool-1.12-py2.py3-none-any.whl (77kB)\n",
      "\u001b[K     |████████████████████████████████| 81kB 1.4MB/s \n",
      "\u001b[?25hInstalling collected packages: patool\n",
      "Successfully installed patool-1.12\n",
      "patool: Extracting /content/drive/My Drive/HumanActivityRecognition.zip ...\n",
      "patool: running /usr/bin/7z x -o./Unpack_awsrkuu_ -- \"/content/drive/My Drive/HumanActivityRecognition.zip\"\n",
      "patool: ... /content/drive/My Drive/HumanActivityRecognition.zip extracted to `HumanActivityRecognition' (multiple files in root).\n"
     ]
    },
    {
     "data": {
      "text/plain": [
       "'HumanActivityRecognition'"
      ]
     },
     "execution_count": 25,
     "metadata": {
      "tags": []
     },
     "output_type": "execute_result"
    }
   ],
   "source": [
    "!pip3 install patool\n",
    "import patoolib\n",
    "patoolib.extract_archive('/content/drive/My Drive/HumanActivityRecognition.zip')"
   ]
  },
  {
   "cell_type": "code",
   "execution_count": 0,
   "metadata": {
    "colab": {},
    "colab_type": "code",
    "id": "5TjZYC0S4nC9"
   },
   "outputs": [],
   "source": [
    "import pandas as pd\n",
    "import numpy as np"
   ]
  },
  {
   "cell_type": "code",
   "execution_count": 0,
   "metadata": {
    "colab": {},
    "colab_type": "code",
    "id": "6eX9G-W14nDF"
   },
   "outputs": [],
   "source": [
    "# Activities are the class labels\n",
    "# It is a 6 class classification\n",
    "ACTIVITIES = {\n",
    "    0: 'WALKING',\n",
    "    1: 'WALKING_UPSTAIRS',\n",
    "    2: 'WALKING_DOWNSTAIRS',\n",
    "    3: 'SITTING',\n",
    "    4: 'STANDING',\n",
    "    5: 'LAYING',\n",
    "}\n",
    "\n",
    "# Utility function to print the confusion matrix\n",
    "def confusion_matrix(Y_true, Y_pred):\n",
    "    Y_true = pd.Series([ACTIVITIES[y] for y in np.argmax(Y_true, axis=1)])\n",
    "    Y_pred = pd.Series([ACTIVITIES[y] for y in np.argmax(Y_pred, axis=1)])\n",
    "\n",
    "    return pd.crosstab(Y_true, Y_pred, rownames=['True'], colnames=['Pred'])"
   ]
  },
  {
   "cell_type": "markdown",
   "metadata": {
    "colab_type": "text",
    "id": "w_XAdzM24nDM"
   },
   "source": [
    "### Data"
   ]
  },
  {
   "cell_type": "code",
   "execution_count": 0,
   "metadata": {
    "colab": {},
    "colab_type": "code",
    "id": "ol1aYZBv4nDP"
   },
   "outputs": [],
   "source": [
    "# Data directory\n",
    "DATADIR = 'UCI_HAR_Dataset'"
   ]
  },
  {
   "cell_type": "code",
   "execution_count": 0,
   "metadata": {
    "colab": {},
    "colab_type": "code",
    "id": "E6v-8k0d4nDW"
   },
   "outputs": [],
   "source": [
    "# Raw data signals\n",
    "# Signals are from Accelerometer and Gyroscope\n",
    "# The signals are in x,y,z directions\n",
    "# Sensor signals are filtered to have only body acceleration\n",
    "# excluding the acceleration due to gravity\n",
    "# Triaxial acceleration from the accelerometer is total acceleration\n",
    "SIGNALS = [\n",
    "    \"body_acc_x\",\n",
    "    \"body_acc_y\",\n",
    "    \"body_acc_z\",\n",
    "    \"body_gyro_x\",\n",
    "    \"body_gyro_y\",\n",
    "    \"body_gyro_z\",\n",
    "    \"total_acc_x\",\n",
    "    \"total_acc_y\",\n",
    "    \"total_acc_z\"\n",
    "]"
   ]
  },
  {
   "cell_type": "code",
   "execution_count": 0,
   "metadata": {
    "colab": {},
    "colab_type": "code",
    "id": "0qnMjxat4nDd"
   },
   "outputs": [],
   "source": [
    "# Utility function to read the data from csv file\n",
    "def _read_csv(filename):\n",
    "    return pd.read_csv(filename, delim_whitespace=True, header=None)\n",
    "\n",
    "# Utility function to load the load\n",
    "def load_signals(subset):\n",
    "    signals_data = []\n",
    "\n",
    "    for signal in SIGNALS:\n",
    "        filename = f'/content/HumanActivityRecognition/HAR/UCI_HAR_Dataset/{subset}/Inertial Signals/{signal}_{subset}.txt'\n",
    "        signals_data.append(\n",
    "            _read_csv(filename).as_matrix()\n",
    "        ) \n",
    "\n",
    "    # Transpose is used to change the dimensionality of the output,\n",
    "    # aggregating the signals by combination of sample/timestep.\n",
    "    # Resultant shape is (7352 train/2947 test samples, 128 timesteps, 9 signals)\n",
    "    return np.transpose(signals_data, (1, 2, 0))"
   ]
  },
  {
   "cell_type": "code",
   "execution_count": 0,
   "metadata": {
    "colab": {},
    "colab_type": "code",
    "id": "NKVqn2g14nDm"
   },
   "outputs": [],
   "source": [
    "\n",
    "def load_y(subset):\n",
    "    \"\"\"\n",
    "    The objective that we are trying to predict is a integer, from 1 to 6,\n",
    "    that represents a human activity. We return a binary representation of \n",
    "    every sample objective as a 6 bits vector using One Hot Encoding\n",
    "    (https://pandas.pydata.org/pandas-docs/stable/generated/pandas.get_dummies.html)\n",
    "    \"\"\"\n",
    "   \n",
    "    filename = f'/content/HumanActivityRecognition/HAR/UCI_HAR_Dataset/{subset}/y_{subset}.txt'\n",
    "    y = _read_csv(filename)[0]\n",
    "\n",
    "    return pd.get_dummies(y).as_matrix()"
   ]
  },
  {
   "cell_type": "code",
   "execution_count": 0,
   "metadata": {
    "colab": {},
    "colab_type": "code",
    "id": "Tzkjp4A24nDt"
   },
   "outputs": [],
   "source": [
    "def load_data():\n",
    "    \"\"\"\n",
    "    Obtain the dataset from multiple files.\n",
    "    Returns: X_train, X_test, y_train, y_test\n",
    "    \"\"\"\n",
    "    X_train, X_test = load_signals('train'), load_signals('test')\n",
    "    y_train, y_test = load_y('train'), load_y('test')\n",
    "\n",
    "    return X_train, X_test, y_train, y_test"
   ]
  },
  {
   "cell_type": "code",
   "execution_count": 0,
   "metadata": {
    "colab": {},
    "colab_type": "code",
    "id": "B1Qz2Der4nD1"
   },
   "outputs": [],
   "source": [
    "# Importing tensorflow\n",
    "np.random.seed(42)\n",
    "import tensorflow as tf\n",
    "tf.set_random_seed(42)"
   ]
  },
  {
   "cell_type": "code",
   "execution_count": 0,
   "metadata": {
    "colab": {},
    "colab_type": "code",
    "id": "cqBifQ1V4nD9"
   },
   "outputs": [],
   "source": [
    "# Configuring a session\n",
    "session_conf = tf.ConfigProto(\n",
    "    intra_op_parallelism_threads=1,\n",
    "    inter_op_parallelism_threads=1\n",
    ")"
   ]
  },
  {
   "cell_type": "code",
   "execution_count": 0,
   "metadata": {
    "colab": {},
    "colab_type": "code",
    "id": "NUff6Bmd4nEI"
   },
   "outputs": [],
   "source": [
    "# Import Keras\n",
    "from keras import backend as K\n",
    "sess = tf.Session(graph=tf.get_default_graph(), config=session_conf)\n",
    "K.set_session(sess)"
   ]
  },
  {
   "cell_type": "code",
   "execution_count": 0,
   "metadata": {
    "colab": {},
    "colab_type": "code",
    "id": "PV6rVx1j4nEO"
   },
   "outputs": [],
   "source": [
    "# Importing libraries\n",
    "from keras.models import Sequential\n",
    "from keras.layers import LSTM\n",
    "from keras.layers.core import Dense, Dropout"
   ]
  },
  {
   "cell_type": "code",
   "execution_count": 0,
   "metadata": {
    "colab": {},
    "colab_type": "code",
    "id": "v2CAgsgb4nEU"
   },
   "outputs": [],
   "source": [
    "# Initializing parameters\n",
    "epochs = 32\n",
    "batch_size = 16\n",
    "n_hidden1 = 66\n",
    "# n_hidden2 = 66"
   ]
  },
  {
   "cell_type": "code",
   "execution_count": 0,
   "metadata": {
    "colab": {},
    "colab_type": "code",
    "id": "4-4UbJlX4nEa"
   },
   "outputs": [],
   "source": [
    "# Utility function to count the number of classes\n",
    "def _count_classes(y):\n",
    "    return len(set([tuple(category) for category in y]))"
   ]
  },
  {
   "cell_type": "code",
   "execution_count": 46,
   "metadata": {
    "colab": {
     "base_uri": "https://localhost:8080/",
     "height": 85
    },
    "colab_type": "code",
    "id": "6ptV0Z8O4nEh",
    "outputId": "086cf05a-e28c-4bf2-ca7e-c54cc84779c4"
   },
   "outputs": [
    {
     "name": "stderr",
     "output_type": "stream",
     "text": [
      "/usr/local/lib/python3.6/dist-packages/ipykernel_launcher.py:11: FutureWarning: Method .as_matrix will be removed in a future version. Use .values instead.\n",
      "  # This is added back by InteractiveShellApp.init_path()\n",
      "/usr/local/lib/python3.6/dist-packages/ipykernel_launcher.py:13: FutureWarning: Method .as_matrix will be removed in a future version. Use .values instead.\n",
      "  del sys.path[0]\n"
     ]
    }
   ],
   "source": [
    "# Loading the train and test data\n",
    "X_train, X_test, Y_train, Y_test = load_data()"
   ]
  },
  {
   "cell_type": "code",
   "execution_count": 47,
   "metadata": {
    "colab": {
     "base_uri": "https://localhost:8080/",
     "height": 68
    },
    "colab_type": "code",
    "id": "3C3YyHHD4nEn",
    "outputId": "37aac81f-a278-4ff0-d3ee-295c73fb296f"
   },
   "outputs": [
    {
     "name": "stdout",
     "output_type": "stream",
     "text": [
      "128\n",
      "9\n",
      "7352\n"
     ]
    }
   ],
   "source": [
    "timesteps = len(X_train[0])\n",
    "input_dim = len(X_train[0][0])\n",
    "n_classes = _count_classes(Y_train)\n",
    "\n",
    "print(timesteps)\n",
    "print(input_dim)\n",
    "print(len(X_train))"
   ]
  },
  {
   "cell_type": "markdown",
   "metadata": {
    "colab_type": "text",
    "id": "DqEKELgc4nEv"
   },
   "source": [
    "- Defining the Architecture of LSTM"
   ]
  },
  {
   "cell_type": "code",
   "execution_count": 48,
   "metadata": {
    "colab": {
     "base_uri": "https://localhost:8080/",
     "height": 255
    },
    "colab_type": "code",
    "id": "GKRzvx4N4nEx",
    "outputId": "99a3424c-4ccc-4a18-ffef-35c1e3c80994"
   },
   "outputs": [
    {
     "name": "stdout",
     "output_type": "stream",
     "text": [
      "Model: \"sequential_2\"\n",
      "_________________________________________________________________\n",
      "Layer (type)                 Output Shape              Param #   \n",
      "=================================================================\n",
      "lstm_2 (LSTM)                (None, 66)                20064     \n",
      "_________________________________________________________________\n",
      "dropout_2 (Dropout)          (None, 66)                0         \n",
      "_________________________________________________________________\n",
      "dense_2 (Dense)              (None, 6)                 402       \n",
      "=================================================================\n",
      "Total params: 20,466\n",
      "Trainable params: 20,466\n",
      "Non-trainable params: 0\n",
      "_________________________________________________________________\n"
     ]
    }
   ],
   "source": [
    "# Initiliazing the sequential model\n",
    "model = Sequential()\n",
    "from keras.callbacks import EarlyStopping\n",
    "from keras.callbacks import ModelCheckpoint\n",
    "from keras.models import load_model\n",
    "\n",
    "# Configuring the parameters\n",
    "model.add(LSTM(n_hidden1, input_shape=(timesteps, input_dim))) #,,return_sequences = True\n",
    "# Adding a dropout layer\n",
    "model.add(Dropout(0.2))\n",
    "\n",
    "# model.add(LSTM(n_hidden2, input_shape=(timesteps, input_dim)))\n",
    "# # Adding a dropout layer\n",
    "# model.add(Dropout(0.7))\n",
    "# Adding a dense output layer with sigmoid activation\n",
    "model.add(Dense(n_classes, activation='sigmoid'))\n",
    "model.summary()"
   ]
  },
  {
   "cell_type": "code",
   "execution_count": 0,
   "metadata": {
    "colab": {},
    "colab_type": "code",
    "id": "iEumPPg-4nE3"
   },
   "outputs": [],
   "source": [
    "# Compiling the model\n",
    "model.compile(loss='categorical_crossentropy',\n",
    "              optimizer='rmsprop',\n",
    "              metrics=['accuracy'])"
   ]
  },
  {
   "cell_type": "code",
   "execution_count": 50,
   "metadata": {
    "colab": {
     "base_uri": "https://localhost:8080/",
     "height": 1000
    },
    "colab_type": "code",
    "id": "H0NZd3qQ4nE8",
    "outputId": "70eb1f92-20db-4644-a95b-63fb9778fdf2"
   },
   "outputs": [
    {
     "name": "stdout",
     "output_type": "stream",
     "text": [
      "Train on 7352 samples, validate on 2947 samples\n",
      "Epoch 1/32\n",
      "7352/7352 [==============================] - 42s 6ms/step - loss: 1.1468 - acc: 0.4974 - val_loss: 0.9718 - val_acc: 0.5779\n",
      "Epoch 2/32\n",
      "7352/7352 [==============================] - 40s 5ms/step - loss: 0.8351 - acc: 0.6129 - val_loss: 0.8328 - val_acc: 0.6074\n",
      "Epoch 3/32\n",
      "7352/7352 [==============================] - 40s 5ms/step - loss: 0.6960 - acc: 0.6748 - val_loss: 0.7534 - val_acc: 0.7085\n",
      "Epoch 4/32\n",
      "7352/7352 [==============================] - 41s 6ms/step - loss: 0.5724 - acc: 0.7871 - val_loss: 0.5295 - val_acc: 0.8127\n",
      "Epoch 5/32\n",
      "7352/7352 [==============================] - 40s 5ms/step - loss: 0.3648 - acc: 0.8799 - val_loss: 0.5936 - val_acc: 0.8303\n",
      "Epoch 6/32\n",
      "7352/7352 [==============================] - 40s 5ms/step - loss: 0.2763 - acc: 0.9052 - val_loss: 0.4078 - val_acc: 0.8493\n",
      "Epoch 7/32\n",
      "7352/7352 [==============================] - 41s 6ms/step - loss: 0.2198 - acc: 0.9252 - val_loss: 0.3227 - val_acc: 0.8931\n",
      "Epoch 8/32\n",
      "7352/7352 [==============================] - 40s 5ms/step - loss: 0.1823 - acc: 0.9374 - val_loss: 0.2567 - val_acc: 0.9138\n",
      "Epoch 9/32\n",
      "7352/7352 [==============================] - 40s 5ms/step - loss: 0.1705 - acc: 0.9388 - val_loss: 0.2990 - val_acc: 0.9046\n",
      "Epoch 10/32\n",
      "7352/7352 [==============================] - 40s 5ms/step - loss: 0.1581 - acc: 0.9403 - val_loss: 0.2954 - val_acc: 0.9016\n",
      "Epoch 11/32\n",
      "7352/7352 [==============================] - 40s 5ms/step - loss: 0.1477 - acc: 0.9484 - val_loss: 0.3717 - val_acc: 0.9057\n",
      "Epoch 12/32\n",
      "7352/7352 [==============================] - 40s 5ms/step - loss: 0.1602 - acc: 0.9391 - val_loss: 0.3181 - val_acc: 0.8972\n",
      "Epoch 13/32\n",
      "7352/7352 [==============================] - 40s 5ms/step - loss: 0.1407 - acc: 0.9502 - val_loss: 0.2872 - val_acc: 0.8992\n",
      "Epoch 14/32\n",
      "7352/7352 [==============================] - 40s 5ms/step - loss: 0.1376 - acc: 0.9478 - val_loss: 0.3902 - val_acc: 0.8999\n",
      "Epoch 15/32\n",
      "7352/7352 [==============================] - 41s 6ms/step - loss: 0.1338 - acc: 0.9491 - val_loss: 0.6023 - val_acc: 0.8789\n",
      "Epoch 16/32\n",
      "7352/7352 [==============================] - 41s 6ms/step - loss: 0.1339 - acc: 0.9501 - val_loss: 0.4209 - val_acc: 0.8979\n",
      "Epoch 17/32\n",
      "7352/7352 [==============================] - 40s 6ms/step - loss: 0.1693 - acc: 0.9384 - val_loss: 0.3419 - val_acc: 0.8989\n",
      "Epoch 18/32\n",
      "7352/7352 [==============================] - 40s 5ms/step - loss: 0.1356 - acc: 0.9513 - val_loss: 0.5303 - val_acc: 0.8850\n",
      "Epoch 19/32\n",
      "7352/7352 [==============================] - 41s 6ms/step - loss: 0.1378 - acc: 0.9498 - val_loss: 0.4059 - val_acc: 0.8968\n",
      "Epoch 20/32\n",
      "7352/7352 [==============================] - 40s 5ms/step - loss: 0.1368 - acc: 0.9512 - val_loss: 0.4248 - val_acc: 0.9023\n",
      "Epoch 21/32\n",
      "7352/7352 [==============================] - 41s 6ms/step - loss: 0.1331 - acc: 0.9486 - val_loss: 0.4898 - val_acc: 0.8829\n",
      "Epoch 22/32\n",
      "7352/7352 [==============================] - 41s 6ms/step - loss: 0.1323 - acc: 0.9516 - val_loss: 0.5119 - val_acc: 0.8951\n",
      "Epoch 23/32\n",
      "7352/7352 [==============================] - 41s 6ms/step - loss: 0.1397 - acc: 0.9501 - val_loss: 0.3859 - val_acc: 0.9019\n",
      "Epoch 24/32\n",
      "7352/7352 [==============================] - 41s 6ms/step - loss: 0.1327 - acc: 0.9501 - val_loss: 0.3200 - val_acc: 0.9135\n",
      "Epoch 25/32\n",
      "7352/7352 [==============================] - 41s 6ms/step - loss: 0.1290 - acc: 0.9498 - val_loss: 0.2496 - val_acc: 0.9294\n",
      "Epoch 26/32\n",
      "7352/7352 [==============================] - 41s 6ms/step - loss: 0.1279 - acc: 0.9494 - val_loss: 0.3840 - val_acc: 0.9097\n",
      "Epoch 27/32\n",
      "7352/7352 [==============================] - 41s 6ms/step - loss: 0.1546 - acc: 0.9456 - val_loss: 0.3094 - val_acc: 0.9057\n",
      "Epoch 28/32\n",
      "7352/7352 [==============================] - 41s 6ms/step - loss: 0.1279 - acc: 0.9521 - val_loss: 0.3303 - val_acc: 0.9057\n",
      "Epoch 29/32\n",
      "7352/7352 [==============================] - 40s 6ms/step - loss: 0.1188 - acc: 0.9520 - val_loss: 0.3774 - val_acc: 0.9101\n",
      "Epoch 30/32\n",
      "7352/7352 [==============================] - 41s 6ms/step - loss: 0.1120 - acc: 0.9553 - val_loss: 0.3410 - val_acc: 0.9172\n",
      "Epoch 31/32\n",
      "7352/7352 [==============================] - 41s 6ms/step - loss: 0.1245 - acc: 0.9521 - val_loss: 0.2935 - val_acc: 0.9070\n",
      "Epoch 32/32\n",
      "7352/7352 [==============================] - 40s 5ms/step - loss: 0.1219 - acc: 0.9521 - val_loss: 0.3748 - val_acc: 0.9162\n"
     ]
    },
    {
     "data": {
      "text/plain": [
       "<keras.callbacks.History at 0x7fc0cb4d3a58>"
      ]
     },
     "execution_count": 50,
     "metadata": {
      "tags": []
     },
     "output_type": "execute_result"
    }
   ],
   "source": [
    "# Training the model\n",
    "model.fit(X_train,\n",
    "          Y_train,\n",
    "          batch_size=batch_size,\n",
    "          validation_data=(X_test, Y_test),\n",
    "          epochs=epochs)\n",
    "\n",
    " \n",
    "# evaluate the model\n",
    " "
   ]
  },
  {
   "cell_type": "code",
   "execution_count": 52,
   "metadata": {
    "colab": {
     "base_uri": "https://localhost:8080/",
     "height": 187
    },
    "colab_type": "code",
    "id": "ypYxoW-p4nFD",
    "outputId": "639a6ee5-4106-4be4-bea4-4ca17571f644"
   },
   "outputs": [
    {
     "name": "stdout",
     "output_type": "stream",
     "text": [
      "Pred                LAYING  SITTING  ...  WALKING_DOWNSTAIRS  WALKING_UPSTAIRS\n",
      "True                                 ...                                      \n",
      "LAYING                 510        0  ...                   0                 0\n",
      "SITTING                  0      415  ...                   2                 0\n",
      "STANDING                 0      100  ...                   0                 0\n",
      "WALKING                  0        1  ...                  17                 8\n",
      "WALKING_DOWNSTAIRS       0        0  ...                 419                 0\n",
      "WALKING_UPSTAIRS         0        0  ...                   0               454\n",
      "\n",
      "[6 rows x 6 columns]\n"
     ]
    }
   ],
   "source": [
    "# Confusion Matrix\n",
    "print(confusion_matrix(Y_test, model.predict(X_test)))"
   ]
  },
  {
   "cell_type": "code",
   "execution_count": 53,
   "metadata": {
    "colab": {
     "base_uri": "https://localhost:8080/",
     "height": 34
    },
    "colab_type": "code",
    "id": "CwNdKRG14nFJ",
    "outputId": "25ef264d-d2a9-4164-cad1-ace6cac7cc72"
   },
   "outputs": [
    {
     "name": "stdout",
     "output_type": "stream",
     "text": [
      "2947/2947 [==============================] - 2s 560us/step\n"
     ]
    }
   ],
   "source": [
    "score = model.evaluate(X_test, Y_test)"
   ]
  },
  {
   "cell_type": "code",
   "execution_count": 54,
   "metadata": {
    "colab": {
     "base_uri": "https://localhost:8080/",
     "height": 34
    },
    "colab_type": "code",
    "id": "ce-3ypQM4nFO",
    "outputId": "cae0fdc0-afb1-4502-c9ca-132eac40cf1a"
   },
   "outputs": [
    {
     "data": {
      "text/plain": [
       "[0.37476612998923525, 0.9161859518154055]"
      ]
     },
     "execution_count": 54,
     "metadata": {
      "tags": []
     },
     "output_type": "execute_result"
    }
   ],
   "source": [
    "score"
   ]
  },
  {
   "cell_type": "markdown",
   "metadata": {},
   "source": [
    "#### Summary"
   ]
  },
  {
   "cell_type": "markdown",
   "metadata": {
    "colab_type": "text",
    "id": "VcURu_ht4nFU"
   },
   "source": [
    "- With a simple single layer architecture and a dropout of 0.2 we got 92.94% accuracy and a loss of 0.24 from the best model.\n",
    "\n"
   ]
  },
  {
   "cell_type": "code",
   "execution_count": null,
   "metadata": {},
   "outputs": [],
   "source": []
  }
 ],
 "metadata": {
  "colab": {
   "collapsed_sections": [],
   "name": "HAR_LSTM_Single_Layer.ipynb",
   "provenance": []
  },
  "kernelspec": {
   "display_name": "Python 3",
   "language": "python",
   "name": "python3"
  },
  "language_info": {
   "codemirror_mode": {
    "name": "ipython",
    "version": 3
   },
   "file_extension": ".py",
   "mimetype": "text/x-python",
   "name": "python",
   "nbconvert_exporter": "python",
   "pygments_lexer": "ipython3",
   "version": "3.7.1"
  }
 },
 "nbformat": 4,
 "nbformat_minor": 1
}
