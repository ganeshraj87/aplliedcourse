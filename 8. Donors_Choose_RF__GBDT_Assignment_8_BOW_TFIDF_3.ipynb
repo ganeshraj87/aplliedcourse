{
 "cells": [
  {
   "cell_type": "markdown",
   "metadata": {
    "colab_type": "text",
    "id": "275pTdhAKHuw"
   },
   "source": [
    "#### Random Forest and GBDT Algorithm on Donors_Choose dataset"
   ]
  },
  {
   "cell_type": "code",
   "execution_count": 1,
   "metadata": {
    "colab": {
     "base_uri": "https://localhost:8080/",
     "height": 122
    },
    "colab_type": "code",
    "id": "N5LZ39__KQA5",
    "outputId": "ed7e213b-7e11-4a0c-fa91-2525fd3e71b7"
   },
   "outputs": [
    {
     "name": "stdout",
     "output_type": "stream",
     "text": [
      "Go to this URL in a browser: https://accounts.google.com/o/oauth2/auth?client_id=947318989803-6bn6qk8qdgf4n4g3pfee6491hc0brc4i.apps.googleusercontent.com&redirect_uri=urn%3aietf%3awg%3aoauth%3a2.0%3aoob&response_type=code&scope=email%20https%3a%2f%2fwww.googleapis.com%2fauth%2fdocs.test%20https%3a%2f%2fwww.googleapis.com%2fauth%2fdrive%20https%3a%2f%2fwww.googleapis.com%2fauth%2fdrive.photos.readonly%20https%3a%2f%2fwww.googleapis.com%2fauth%2fpeopleapi.readonly\n",
      "\n",
      "Enter your authorization code:\n",
      "··········\n",
      "Mounted at /content/drive\n"
     ]
    }
   ],
   "source": [
    "from google.colab import drive\n",
    "drive.mount('/content/drive')"
   ]
  },
  {
   "cell_type": "code",
   "execution_count": 0,
   "metadata": {
    "colab": {},
    "colab_type": "code",
    "id": "huZ0jD2kKHu7"
   },
   "outputs": [],
   "source": [
    "%matplotlib inline\n",
    "import warnings\n",
    "warnings.filterwarnings(\"ignore\")\n",
    "import sqlite3\n",
    "import pandas as pd\n",
    "import numpy as np\n",
    "import nltk\n",
    "import gc\n",
    "gc.enable()\n",
    "gc.DEBUG_SAVEALL\n",
    "import string\n",
    "import matplotlib.pyplot as plt\n",
    "import seaborn as sns\n",
    "from sklearn.feature_extraction.text import TfidfTransformer\n",
    "from sklearn.feature_extraction.text import TfidfVectorizer\n",
    "\n",
    "from sklearn.feature_extraction.text import CountVectorizer\n",
    "from sklearn.metrics import confusion_matrix\n",
    "from sklearn import metrics\n",
    "from sklearn.metrics import roc_curve, auc\n",
    "from nltk.stem.porter import PorterStemmer\n",
    "\n",
    "import re\n",
    "# Tutorial about Python regular expressions: https://pymotw.com/2/re/\n",
    "import string\n",
    "from nltk.corpus import stopwords\n",
    "from nltk.stem import PorterStemmer\n",
    "from nltk.stem.wordnet import WordNetLemmatizer\n",
    "\n",
    "from gensim.models import Word2Vec\n",
    "from gensim.models import KeyedVectors\n",
    "import pickle\n",
    "\n",
    "from tqdm import tqdm\n",
    "import os\n",
    "import math \n",
    "# from plotly import plotly\n",
    "# import plotly.offline as offline\n",
    "# import plotly.graph_objs as go\n",
    "# offline.init_notebook_mode()\n",
    "from collections import Counter\n",
    "gc.set_threshold(2, 1, 1)"
   ]
  },
  {
   "cell_type": "markdown",
   "metadata": {
    "colab_type": "text",
    "id": "QuJGrYSCKHve"
   },
   "source": [
    "#### 2.1 Loading Input Data"
   ]
  },
  {
   "cell_type": "code",
   "execution_count": 0,
   "metadata": {
    "colab": {},
    "colab_type": "code",
    "id": "SnIQjwI0KHvh"
   },
   "outputs": [],
   "source": [
    "# %load_ext memory_profiler\n",
    "s=0\n",
    "# We are taking samples of 0's and 1's and appending them to overcome memory error\n",
    "project_data = pd.read_csv('/content/drive/My Drive/train_data.csv')\n",
    "# project_data=project_data.dropna(how='any')\n",
    "project_data_1 = project_data[project_data['project_is_approved'] == s+1]\n",
    "project_data_0 = project_data[project_data['project_is_approved'] == s]\n",
    "project_data=project_data.fillna(\"\")\n",
    "project_data_1=project_data_1.head(10000)\n",
    "project_data_0=project_data_0.tail(10000)\n",
    "project_data_1=project_data_1.append(project_data_0)\n",
    "project_data=project_data_1\n",
    "resource_data = pd.read_csv('/content/drive/My Drive/resources.csv')\n",
    "\n",
    "#Sorting them by columns to spread the zeros and one's unevenly in the 'project_is_approved' column\n",
    "project_data.sort_values(by=['project_essay_1'])\n",
    "project_data.sort_values(by=['project_essay_2'], ascending=False)\n",
    "project_data.sort_values(by=['project_essay_3'])\n",
    "project_data.sort_values(by=['project_essay_4'], ascending=False)\n",
    "project_data_1=None\n",
    "project_data_0=None"
   ]
  },
  {
   "cell_type": "code",
   "execution_count": 4,
   "metadata": {
    "colab": {
     "base_uri": "https://localhost:8080/",
     "height": 153
    },
    "colab_type": "code",
    "id": "hsZmkruJKHwL",
    "outputId": "b30ec89e-49b4-4d80-c10e-09c115bf9652"
   },
   "outputs": [
    {
     "name": "stdout",
     "output_type": "stream",
     "text": [
      "Number of data points in train data (20000, 17)\n",
      "--------------------------------------------------\n",
      "The attributes of data : ['Unnamed: 0' 'id' 'teacher_id' 'teacher_prefix' 'school_state'\n",
      " 'project_submitted_datetime' 'project_grade_category'\n",
      " 'project_subject_categories' 'project_subject_subcategories'\n",
      " 'project_title' 'project_essay_1' 'project_essay_2' 'project_essay_3'\n",
      " 'project_essay_4' 'project_resource_summary'\n",
      " 'teacher_number_of_previously_posted_projects' 'project_is_approved']\n"
     ]
    }
   ],
   "source": [
    "print(\"Number of data points in train data\", project_data.shape)\n",
    "print('-'*50)\n",
    "print(\"The attributes of data :\", project_data.columns.values)"
   ]
  },
  {
   "cell_type": "code",
   "execution_count": 5,
   "metadata": {
    "colab": {
     "base_uri": "https://localhost:8080/",
     "height": 114
    },
    "colab_type": "code",
    "id": "7CX7mZ2iKHwW",
    "outputId": "f73f6fa5-8e14-496d-8317-b0351007ceb6"
   },
   "outputs": [
    {
     "name": "stdout",
     "output_type": "stream",
     "text": [
      "Number of data points in resource data (1541272, 4)\n",
      "['id' 'description' 'quantity' 'price']\n"
     ]
    },
    {
     "data": {
      "text/html": [
       "<div>\n",
       "<style scoped>\n",
       "    .dataframe tbody tr th:only-of-type {\n",
       "        vertical-align: middle;\n",
       "    }\n",
       "\n",
       "    .dataframe tbody tr th {\n",
       "        vertical-align: top;\n",
       "    }\n",
       "\n",
       "    .dataframe thead th {\n",
       "        text-align: right;\n",
       "    }\n",
       "</style>\n",
       "<table border=\"1\" class=\"dataframe\">\n",
       "  <thead>\n",
       "    <tr style=\"text-align: right;\">\n",
       "      <th></th>\n",
       "      <th>id</th>\n",
       "      <th>description</th>\n",
       "      <th>quantity</th>\n",
       "      <th>price</th>\n",
       "    </tr>\n",
       "  </thead>\n",
       "  <tbody>\n",
       "    <tr>\n",
       "      <th>0</th>\n",
       "      <td>p233245</td>\n",
       "      <td>LC652 - Lakeshore Double-Space Mobile Drying Rack</td>\n",
       "      <td>1</td>\n",
       "      <td>149.0</td>\n",
       "    </tr>\n",
       "  </tbody>\n",
       "</table>\n",
       "</div>"
      ],
      "text/plain": [
       "        id                                        description  quantity  price\n",
       "0  p233245  LC652 - Lakeshore Double-Space Mobile Drying Rack         1  149.0"
      ]
     },
     "execution_count": 5,
     "metadata": {
      "tags": []
     },
     "output_type": "execute_result"
    }
   ],
   "source": [
    "print(\"Number of data points in resource data\", resource_data.shape)\n",
    "print(resource_data.columns.values)\n",
    "resource_data.head(1)\n",
    "# project_data.head(2)"
   ]
  },
  {
   "cell_type": "code",
   "execution_count": 6,
   "metadata": {
    "colab": {
     "base_uri": "https://localhost:8080/",
     "height": 34
    },
    "colab_type": "code",
    "id": "a0aGyWsQKHwh",
    "outputId": "20762f5c-aa22-4419-f6b2-84505407e75b"
   },
   "outputs": [
    {
     "data": {
      "text/plain": [
       "32"
      ]
     },
     "execution_count": 6,
     "metadata": {
      "tags": []
     },
     "output_type": "execute_result"
    }
   ],
   "source": [
    "y = project_data['project_is_approved'].values\n",
    "X = project_data.drop(['project_is_approved'], axis=1)\n",
    "X.head(1)\n",
    "project_data=None\n",
    "gc.collect()\n",
    "gc.enable()\n",
    "gc.DEBUG_SAVEALL"
   ]
  },
  {
   "cell_type": "markdown",
   "metadata": {
    "colab_type": "text",
    "id": "Dxv_cIfKKHwo"
   },
   "source": [
    "#### 2.2 Getting the Data Model Ready:Preprocessing and Vectorizing categorical features"
   ]
  },
  {
   "cell_type": "markdown",
   "metadata": {
    "colab_type": "text",
    "id": "CVZYl2S7KHwr"
   },
   "source": [
    "#### 2.2.1 Preprocessing:project_grade_category"
   ]
  },
  {
   "cell_type": "code",
   "execution_count": 0,
   "metadata": {
    "colab": {},
    "colab_type": "code",
    "id": "c6V_tmITKHwt"
   },
   "outputs": [],
   "source": [
    "sub_catogories = list(X['project_grade_category'].values)\n",
    "# remove special characters from list of strings python: https://stackoverflow.com/a/47301924/4084039\n",
    "\n",
    "# https://www.geeksforgeeks.org/removing-stop-words-nltk-python/\n",
    "# https://stackoverflow.com/questions/23669024/how-to-strip-a-specific-word-from-a-string\n",
    "# https://stackoverflow.com/questions/8270092/remove-all-whitespace-in-a-string-in-python\n",
    "\n",
    "sub_cat_list = []\n",
    "for i in sub_catogories:\n",
    "    temp = \"\"\n",
    "    # consider we have text like this \"Math & Science, Warmth, Care & Hunger\"\n",
    "    for j in i.split(','): # it will split it in three parts [\"Math & Science\", \"Warmth\", \"Care & Hunger\"]\n",
    "        if 'The' in j.split(): # this will split each of the catogory based on space \"Math & Science\"=> \"Math\",\"&\", \"Science\"\n",
    "            j=j.replace('The','') # if we have the words \"The\" we are going to replace it with ''(i.e removing 'The')\n",
    "        j = j.replace(' ','') # we are placeing all the ' '(space) with ''(empty) ex:\"Math & Science\"=>\"Math&Science\"\n",
    "        temp +=j.strip()+\" \"#\" abc \".strip() will return \"abc\", remove the trailing spaces\n",
    "        temp = temp.replace('&','_')\n",
    "    sub_cat_list.append(temp.strip())\n",
    "X['project_grade_category'] = sub_cat_list"
   ]
  },
  {
   "cell_type": "code",
   "execution_count": 8,
   "metadata": {
    "colab": {
     "base_uri": "https://localhost:8080/",
     "height": 34
    },
    "colab_type": "code",
    "id": "eMpZiXV9KHw1",
    "outputId": "47dcf33f-a841-4d9c-98de-f7a12d2829eb"
   },
   "outputs": [
    {
     "data": {
      "text/plain": [
       "32"
      ]
     },
     "execution_count": 8,
     "metadata": {
      "tags": []
     },
     "output_type": "execute_result"
    }
   ],
   "source": [
    "sub_catogories=None\n",
    "sub_cat_list=None\n",
    "temp=None\n",
    "i=None\n",
    "j=None\n",
    "catogories=None\n",
    "cat_list=None\n",
    "temp=None\n",
    "my_counter=None\n",
    "word=None\n",
    "cat_dict=None\n",
    "gc.collect()\n",
    "gc.enable()\n",
    "gc.DEBUG_SAVEALL"
   ]
  },
  {
   "cell_type": "markdown",
   "metadata": {
    "colab_type": "text",
    "id": "7hjSLYPGKHw7"
   },
   "source": [
    "#### 2.2.2 Preprocessing:project_subject_categories"
   ]
  },
  {
   "cell_type": "code",
   "execution_count": 9,
   "metadata": {
    "colab": {
     "base_uri": "https://localhost:8080/",
     "height": 233
    },
    "colab_type": "code",
    "id": "nIek7uHxKHw9",
    "outputId": "77b194da-aca2-4308-b571-58806672d08f"
   },
   "outputs": [
    {
     "data": {
      "text/html": [
       "<div>\n",
       "<style scoped>\n",
       "    .dataframe tbody tr th:only-of-type {\n",
       "        vertical-align: middle;\n",
       "    }\n",
       "\n",
       "    .dataframe tbody tr th {\n",
       "        vertical-align: top;\n",
       "    }\n",
       "\n",
       "    .dataframe thead th {\n",
       "        text-align: right;\n",
       "    }\n",
       "</style>\n",
       "<table border=\"1\" class=\"dataframe\">\n",
       "  <thead>\n",
       "    <tr style=\"text-align: right;\">\n",
       "      <th></th>\n",
       "      <th>Unnamed: 0</th>\n",
       "      <th>id</th>\n",
       "      <th>teacher_id</th>\n",
       "      <th>teacher_prefix</th>\n",
       "      <th>school_state</th>\n",
       "      <th>project_submitted_datetime</th>\n",
       "      <th>project_grade_category</th>\n",
       "      <th>project_subject_subcategories</th>\n",
       "      <th>project_title</th>\n",
       "      <th>project_essay_1</th>\n",
       "      <th>project_essay_2</th>\n",
       "      <th>project_essay_3</th>\n",
       "      <th>project_essay_4</th>\n",
       "      <th>project_resource_summary</th>\n",
       "      <th>teacher_number_of_previously_posted_projects</th>\n",
       "      <th>clean_categories</th>\n",
       "    </tr>\n",
       "  </thead>\n",
       "  <tbody>\n",
       "    <tr>\n",
       "      <th>1</th>\n",
       "      <td>140945</td>\n",
       "      <td>p258326</td>\n",
       "      <td>897464ce9ddc600bced1151f324dd63a</td>\n",
       "      <td>Mr.</td>\n",
       "      <td>FL</td>\n",
       "      <td>10/25/2016 9:22</td>\n",
       "      <td>Grades6-8</td>\n",
       "      <td>Civics &amp; Government, Team Sports</td>\n",
       "      <td>Wanted: Projector for Hungry Learners</td>\n",
       "      <td>Our students arrive to our school eager to lea...</td>\n",
       "      <td>The projector we need for our school is very c...</td>\n",
       "      <td>NaN</td>\n",
       "      <td>NaN</td>\n",
       "      <td>My students need a projector to help with view...</td>\n",
       "      <td>7</td>\n",
       "      <td>History_Civics Health_Sports</td>\n",
       "    </tr>\n",
       "    <tr>\n",
       "      <th>3</th>\n",
       "      <td>45</td>\n",
       "      <td>p246581</td>\n",
       "      <td>f3cb9bffbba169bef1a77b243e620b60</td>\n",
       "      <td>Mrs.</td>\n",
       "      <td>KY</td>\n",
       "      <td>10/6/2016 21:16</td>\n",
       "      <td>GradesPreK-2</td>\n",
       "      <td>Literacy, Mathematics</td>\n",
       "      <td>Techie Kindergarteners</td>\n",
       "      <td>I work at a unique school filled with both ESL...</td>\n",
       "      <td>My students live in high poverty conditions wi...</td>\n",
       "      <td>NaN</td>\n",
       "      <td>NaN</td>\n",
       "      <td>My students need to engage in Reading and Math...</td>\n",
       "      <td>4</td>\n",
       "      <td>Literacy_Language Math_Science</td>\n",
       "    </tr>\n",
       "  </tbody>\n",
       "</table>\n",
       "</div>"
      ],
      "text/plain": [
       "   Unnamed: 0  ...                clean_categories\n",
       "1      140945  ...    History_Civics Health_Sports\n",
       "3          45  ...  Literacy_Language Math_Science\n",
       "\n",
       "[2 rows x 16 columns]"
      ]
     },
     "execution_count": 9,
     "metadata": {
      "tags": []
     },
     "output_type": "execute_result"
    }
   ],
   "source": [
    "catogories = list(X['project_subject_categories'].values)\n",
    "# remove special characters from list of strings python: https://stackoverflow.com/a/47301924/4084039\n",
    "\n",
    "# https://www.geeksforgeeks.org/removing-stop-words-nltk-python/\n",
    "# https://stackoverflow.com/questions/23669024/how-to-strip-a-specific-word-from-a-string\n",
    "# https://stackoverflow.com/questions/8270092/remove-all-whitespace-in-a-string-in-python\n",
    "cat_list = []\n",
    "for i in catogories:\n",
    "    temp = \"\"\n",
    "    # consider we have text like this \"Math & Science, Warmth, Care & Hunger\"\n",
    "    for j in i.split(','): # it will split it in three parts [\"Math & Science\", \"Warmth\", \"Care & Hunger\"]\n",
    "        if 'The' in j.split(): # this will split each of the catogory based on space \"Math & Science\"=> \"Math\",\"&\", \"Science\"\n",
    "            j=j.replace('The','') # if we have the words \"The\" we are going to replace it with ''(i.e removing 'The')\n",
    "        j = j.replace(' ','') # we are placeing all the ' '(space) with ''(empty) ex:\"Math & Science\"=>\"Math&Science\"\n",
    "        temp+=j.strip()+\" \" #\" abc \".strip() will return \"abc\", remove the trailing spaces\n",
    "        temp = temp.replace('&','_') # we are replacing the & value into \n",
    "    cat_list.append(temp.strip())\n",
    "\n",
    "X['clean_categories'] = cat_list\n",
    "X.drop(['project_subject_categories'], axis=1, inplace=True)\n",
    "X.head(2)"
   ]
  },
  {
   "cell_type": "markdown",
   "metadata": {
    "colab_type": "text",
    "id": "8F9AazdyKHxF"
   },
   "source": [
    "#### 2.2.3 Preprocessing:project_subject_subcategories"
   ]
  },
  {
   "cell_type": "code",
   "execution_count": 0,
   "metadata": {
    "colab": {},
    "colab_type": "code",
    "id": "T7C8fg6yKHxH"
   },
   "outputs": [],
   "source": [
    "sub_catogories = list(X['project_subject_subcategories'].values)\n",
    "# remove special characters from list of strings python: https://stackoverflow.com/a/47301924/4084039\n",
    "\n",
    "# https://www.geeksforgeeks.org/removing-stop-words-nltk-python/\n",
    "# https://stackoverflow.com/questions/23669024/how-to-strip-a-specific-word-from-a-string\n",
    "# https://stackoverflow.com/questions/8270092/remove-all-whitespace-in-a-string-in-python\n",
    "\n",
    "sub_cat_list = []\n",
    "for i in sub_catogories:\n",
    "    temp = \"\"\n",
    "    # consider we have text like this \"Math & Science, Warmth, Care & Hunger\"\n",
    "    for j in i.split(','): # it will split it in three parts [\"Math & Science\", \"Warmth\", \"Care & Hunger\"]\n",
    "        if 'The' in j.split(): # this will split each of the catogory based on space \"Math & Science\"=> \"Math\",\"&\", \"Science\"\n",
    "            j=j.replace('The','') # if we have the words \"The\" we are going to replace it with ''(i.e removing 'The')\n",
    "        j = j.replace(' ','') # we are placeing all the ' '(space) with ''(empty) ex:\"Math & Science\"=>\"Math&Science\"\n",
    "        temp +=j.strip()+\" \"#\" abc \".strip() will return \"abc\", remove the trailing spaces\n",
    "        temp = temp.replace('&','_')\n",
    "    sub_cat_list.append(temp.strip())"
   ]
  },
  {
   "cell_type": "code",
   "execution_count": 11,
   "metadata": {
    "colab": {
     "base_uri": "https://localhost:8080/",
     "height": 233
    },
    "colab_type": "code",
    "id": "MqYUvF00KHxN",
    "outputId": "ef2a97d4-763d-4daa-bab7-7abada36be06"
   },
   "outputs": [
    {
     "data": {
      "text/html": [
       "<div>\n",
       "<style scoped>\n",
       "    .dataframe tbody tr th:only-of-type {\n",
       "        vertical-align: middle;\n",
       "    }\n",
       "\n",
       "    .dataframe tbody tr th {\n",
       "        vertical-align: top;\n",
       "    }\n",
       "\n",
       "    .dataframe thead th {\n",
       "        text-align: right;\n",
       "    }\n",
       "</style>\n",
       "<table border=\"1\" class=\"dataframe\">\n",
       "  <thead>\n",
       "    <tr style=\"text-align: right;\">\n",
       "      <th></th>\n",
       "      <th>Unnamed: 0</th>\n",
       "      <th>id</th>\n",
       "      <th>teacher_id</th>\n",
       "      <th>teacher_prefix</th>\n",
       "      <th>school_state</th>\n",
       "      <th>project_submitted_datetime</th>\n",
       "      <th>project_grade_category</th>\n",
       "      <th>project_title</th>\n",
       "      <th>project_essay_1</th>\n",
       "      <th>project_essay_2</th>\n",
       "      <th>project_essay_3</th>\n",
       "      <th>project_essay_4</th>\n",
       "      <th>project_resource_summary</th>\n",
       "      <th>teacher_number_of_previously_posted_projects</th>\n",
       "      <th>clean_categories</th>\n",
       "      <th>clean_subcategories</th>\n",
       "    </tr>\n",
       "  </thead>\n",
       "  <tbody>\n",
       "    <tr>\n",
       "      <th>1</th>\n",
       "      <td>140945</td>\n",
       "      <td>p258326</td>\n",
       "      <td>897464ce9ddc600bced1151f324dd63a</td>\n",
       "      <td>Mr.</td>\n",
       "      <td>FL</td>\n",
       "      <td>10/25/2016 9:22</td>\n",
       "      <td>Grades6-8</td>\n",
       "      <td>Wanted: Projector for Hungry Learners</td>\n",
       "      <td>Our students arrive to our school eager to lea...</td>\n",
       "      <td>The projector we need for our school is very c...</td>\n",
       "      <td>NaN</td>\n",
       "      <td>NaN</td>\n",
       "      <td>My students need a projector to help with view...</td>\n",
       "      <td>7</td>\n",
       "      <td>History_Civics Health_Sports</td>\n",
       "      <td>Civics_Government TeamSports</td>\n",
       "    </tr>\n",
       "    <tr>\n",
       "      <th>3</th>\n",
       "      <td>45</td>\n",
       "      <td>p246581</td>\n",
       "      <td>f3cb9bffbba169bef1a77b243e620b60</td>\n",
       "      <td>Mrs.</td>\n",
       "      <td>KY</td>\n",
       "      <td>10/6/2016 21:16</td>\n",
       "      <td>GradesPreK-2</td>\n",
       "      <td>Techie Kindergarteners</td>\n",
       "      <td>I work at a unique school filled with both ESL...</td>\n",
       "      <td>My students live in high poverty conditions wi...</td>\n",
       "      <td>NaN</td>\n",
       "      <td>NaN</td>\n",
       "      <td>My students need to engage in Reading and Math...</td>\n",
       "      <td>4</td>\n",
       "      <td>Literacy_Language Math_Science</td>\n",
       "      <td>Literacy Mathematics</td>\n",
       "    </tr>\n",
       "  </tbody>\n",
       "</table>\n",
       "</div>"
      ],
      "text/plain": [
       "   Unnamed: 0  ...           clean_subcategories\n",
       "1      140945  ...  Civics_Government TeamSports\n",
       "3          45  ...          Literacy Mathematics\n",
       "\n",
       "[2 rows x 16 columns]"
      ]
     },
     "execution_count": 11,
     "metadata": {
      "tags": []
     },
     "output_type": "execute_result"
    }
   ],
   "source": [
    "X['clean_subcategories'] = sub_cat_list\n",
    "X.drop(['project_subject_subcategories'], axis=1, inplace=True)\n",
    "X.head(2)"
   ]
  },
  {
   "cell_type": "markdown",
   "metadata": {
    "colab_type": "text",
    "id": "VQVRUl8jKHxT"
   },
   "source": [
    "#### 2.2.4 New Column:digits in summary"
   ]
  },
  {
   "cell_type": "code",
   "execution_count": 0,
   "metadata": {
    "colab": {},
    "colab_type": "code",
    "id": "-D-GaJ9uKHxV"
   },
   "outputs": [],
   "source": [
    "# Creating a new column 'digits_in_summary' which contains flags of 1 for /\n",
    "# 'project_resource_summary' containing numeric specification in their requiremnt.\n",
    "project_resource_summary = []\n",
    "new=[]\n",
    "\n",
    "project_resource_summary = list(X['project_resource_summary'].values)\n",
    "\n",
    "for i in project_resource_summary:\n",
    "    # consider we have text like this \"Math & Science, Warmth, Care & Hunger\"\n",
    "    for j in i.split(' '):\n",
    "        if j.isdigit():\n",
    "            new.append(1)\n",
    "            break\n",
    "        else:\n",
    "            continue\n",
    "    else:\n",
    "        new.append(0)\n",
    "              \n",
    "\n",
    "X['digits_in_summary']=new"
   ]
  },
  {
   "cell_type": "code",
   "execution_count": 13,
   "metadata": {
    "colab": {
     "base_uri": "https://localhost:8080/",
     "height": 34
    },
    "colab_type": "code",
    "id": "8JIszmCiKHxb",
    "outputId": "e68e2c94-2c5a-45af-e55c-3dea9f2bbe48"
   },
   "outputs": [
    {
     "data": {
      "text/plain": [
       "32"
      ]
     },
     "execution_count": 13,
     "metadata": {
      "tags": []
     },
     "output_type": "execute_result"
    }
   ],
   "source": [
    "#To make best use of the memory we are setting the variable names to 'None' and performing garbage collection.\n",
    "project_resource_summary=None\n",
    "new=None\n",
    "new1=None\n",
    "i=None\n",
    "j=None\n",
    "a=None\n",
    "\n",
    "gc.collect()\n",
    "gc.enable()\n",
    "gc.DEBUG_SAVEALL"
   ]
  },
  {
   "cell_type": "markdown",
   "metadata": {
    "colab_type": "text",
    "id": "EvzWx9SIKHxi"
   },
   "source": [
    "#### 2.2.5 Preprocessing:Text features (Project Essay's)"
   ]
  },
  {
   "cell_type": "code",
   "execution_count": 0,
   "metadata": {
    "colab": {},
    "colab_type": "code",
    "id": "zQaGS9LyKHxk"
   },
   "outputs": [],
   "source": [
    "# merge two column text dataframe: \n",
    "X[\"essay\"] = X[\"project_essay_1\"].map(str) +\\\n",
    "                        X[\"project_essay_2\"].map(str) + \\\n",
    "                        X[\"project_essay_3\"].map(str) + \\\n",
    "                        X[\"project_essay_4\"].map(str)\n"
   ]
  },
  {
   "cell_type": "code",
   "execution_count": 15,
   "metadata": {
    "colab": {
     "base_uri": "https://localhost:8080/",
     "height": 34
    },
    "colab_type": "code",
    "id": "m6JE5ut3KHxr",
    "outputId": "0e786451-e482-475e-8c4d-d40e013e9a11"
   },
   "outputs": [
    {
     "data": {
      "text/plain": [
       "(20000, 14)"
      ]
     },
     "execution_count": 15,
     "metadata": {
      "tags": []
     },
     "output_type": "execute_result"
    }
   ],
   "source": [
    "X = X.drop(['project_essay_1', 'project_essay_2','project_essay_3', 'project_essay_4'], axis=1)\n",
    "X.shape"
   ]
  },
  {
   "cell_type": "markdown",
   "metadata": {
    "colab_type": "text",
    "id": "c0t5PjisKHxy"
   },
   "source": [
    "#### 2.2.6 Adding column Cost per project in dataset"
   ]
  },
  {
   "cell_type": "code",
   "execution_count": 16,
   "metadata": {
    "colab": {
     "base_uri": "https://localhost:8080/",
     "height": 34
    },
    "colab_type": "code",
    "id": "HIpOqKhaKHx0",
    "outputId": "24a64eec-58c6-49b4-acf1-57cb8f62f0d0"
   },
   "outputs": [
    {
     "data": {
      "text/plain": [
       "pandas.core.frame.DataFrame"
      ]
     },
     "execution_count": 16,
     "metadata": {
      "tags": []
     },
     "output_type": "execute_result"
    }
   ],
   "source": [
    "# https://stackoverflow.com/questions/22407798/how-to-reset-a-dataframes-indexes-for-all-groups-in-one-step\n",
    "price_data = resource_data.groupby('id').agg({'price':'sum', 'quantity':'sum'}).reset_index()\n",
    "price_data.head(2)\n",
    "type(price_data)"
   ]
  },
  {
   "cell_type": "code",
   "execution_count": 17,
   "metadata": {
    "colab": {
     "base_uri": "https://localhost:8080/",
     "height": 369
    },
    "colab_type": "code",
    "id": "bRqKF_K_KHx6",
    "outputId": "f5b821aa-fa00-42f9-9345-d74b7edd9e64",
    "scrolled": true
   },
   "outputs": [
    {
     "data": {
      "text/html": [
       "<div>\n",
       "<style scoped>\n",
       "    .dataframe tbody tr th:only-of-type {\n",
       "        vertical-align: middle;\n",
       "    }\n",
       "\n",
       "    .dataframe tbody tr th {\n",
       "        vertical-align: top;\n",
       "    }\n",
       "\n",
       "    .dataframe thead th {\n",
       "        text-align: right;\n",
       "    }\n",
       "</style>\n",
       "<table border=\"1\" class=\"dataframe\">\n",
       "  <thead>\n",
       "    <tr style=\"text-align: right;\">\n",
       "      <th></th>\n",
       "      <th>Unnamed: 0</th>\n",
       "      <th>id</th>\n",
       "      <th>teacher_id</th>\n",
       "      <th>teacher_prefix</th>\n",
       "      <th>school_state</th>\n",
       "      <th>project_submitted_datetime</th>\n",
       "      <th>project_grade_category</th>\n",
       "      <th>project_title</th>\n",
       "      <th>project_resource_summary</th>\n",
       "      <th>teacher_number_of_previously_posted_projects</th>\n",
       "      <th>clean_categories</th>\n",
       "      <th>clean_subcategories</th>\n",
       "      <th>digits_in_summary</th>\n",
       "      <th>essay</th>\n",
       "      <th>price</th>\n",
       "      <th>quantity</th>\n",
       "    </tr>\n",
       "  </thead>\n",
       "  <tbody>\n",
       "    <tr>\n",
       "      <th>0</th>\n",
       "      <td>140945</td>\n",
       "      <td>p258326</td>\n",
       "      <td>897464ce9ddc600bced1151f324dd63a</td>\n",
       "      <td>Mr.</td>\n",
       "      <td>FL</td>\n",
       "      <td>10/25/2016 9:22</td>\n",
       "      <td>Grades6-8</td>\n",
       "      <td>Wanted: Projector for Hungry Learners</td>\n",
       "      <td>My students need a projector to help with view...</td>\n",
       "      <td>7</td>\n",
       "      <td>History_Civics Health_Sports</td>\n",
       "      <td>Civics_Government TeamSports</td>\n",
       "      <td>0</td>\n",
       "      <td>Our students arrive to our school eager to lea...</td>\n",
       "      <td>299.0</td>\n",
       "      <td>1</td>\n",
       "    </tr>\n",
       "    <tr>\n",
       "      <th>1</th>\n",
       "      <td>45</td>\n",
       "      <td>p246581</td>\n",
       "      <td>f3cb9bffbba169bef1a77b243e620b60</td>\n",
       "      <td>Mrs.</td>\n",
       "      <td>KY</td>\n",
       "      <td>10/6/2016 21:16</td>\n",
       "      <td>GradesPreK-2</td>\n",
       "      <td>Techie Kindergarteners</td>\n",
       "      <td>My students need to engage in Reading and Math...</td>\n",
       "      <td>4</td>\n",
       "      <td>Literacy_Language Math_Science</td>\n",
       "      <td>Literacy Mathematics</td>\n",
       "      <td>0</td>\n",
       "      <td>I work at a unique school filled with both ESL...</td>\n",
       "      <td>232.9</td>\n",
       "      <td>4</td>\n",
       "    </tr>\n",
       "  </tbody>\n",
       "</table>\n",
       "</div>"
      ],
      "text/plain": [
       "   Unnamed: 0       id  ...  price quantity\n",
       "0      140945  p258326  ...  299.0        1\n",
       "1          45  p246581  ...  232.9        4\n",
       "\n",
       "[2 rows x 16 columns]"
      ]
     },
     "execution_count": 17,
     "metadata": {
      "tags": []
     },
     "output_type": "execute_result"
    }
   ],
   "source": [
    "# join two dataframes in python: \n",
    "X = pd.merge(X, price_data, on='id', how='left')\n",
    "X.head(2)"
   ]
  },
  {
   "cell_type": "code",
   "execution_count": 18,
   "metadata": {
    "colab": {
     "base_uri": "https://localhost:8080/",
     "height": 34
    },
    "colab_type": "code",
    "id": "fV0PxrYxKHyA",
    "outputId": "fe57a432-087d-458c-f158-812e1a2039a9"
   },
   "outputs": [
    {
     "data": {
      "text/plain": [
       "32"
      ]
     },
     "execution_count": 18,
     "metadata": {
      "tags": []
     },
     "output_type": "execute_result"
    }
   ],
   "source": [
    "#To make best use of the memory we are setting the variable names to 'None' and performing garbage collection.\n",
    "resource_data=None\n",
    "price_data=None\n",
    "gc.collect()\n",
    "gc.enable()\n",
    "gc.DEBUG_SAVEALL"
   ]
  },
  {
   "cell_type": "markdown",
   "metadata": {
    "colab_type": "text",
    "id": "kD9ADD7UKHyF"
   },
   "source": [
    "#### 2.2.7 Text Preprocessing:Essay Text"
   ]
  },
  {
   "cell_type": "code",
   "execution_count": 0,
   "metadata": {
    "colab": {},
    "colab_type": "code",
    "id": "C6_2pf6yKHyJ"
   },
   "outputs": [],
   "source": [
    "# https://stackoverflow.com/a/47091490/4084039\n",
    "import re\n",
    "\n",
    "def decontracted(phrase):\n",
    "    # specific\n",
    "    phrase = re.sub(r\"won't\", \"will not\", phrase)\n",
    "    phrase = re.sub(r\"can\\'t\", \"can not\", phrase)\n",
    "\n",
    "    # general\n",
    "    phrase = re.sub(r\"n\\'t\", \" not\", phrase)\n",
    "    phrase = re.sub(r\"\\'re\", \" are\", phrase)\n",
    "    phrase = re.sub(r\"\\'s\", \" is\", phrase)\n",
    "    phrase = re.sub(r\"\\'d\", \" would\", phrase)\n",
    "    phrase = re.sub(r\"\\'ll\", \" will\", phrase)\n",
    "    phrase = re.sub(r\"\\'t\", \" not\", phrase)\n",
    "    phrase = re.sub(r\"\\'ve\", \" have\", phrase)\n",
    "    phrase = re.sub(r\"\\'m\", \" am\", phrase)\n",
    "    return phrase"
   ]
  },
  {
   "cell_type": "code",
   "execution_count": 20,
   "metadata": {
    "colab": {
     "base_uri": "https://localhost:8080/",
     "height": 71
    },
    "colab_type": "code",
    "id": "NqpjSxmWKHyP",
    "outputId": "26301d4f-3f64-4248-97a7-ad78d61dc5a1"
   },
   "outputs": [
    {
     "name": "stdout",
     "output_type": "stream",
     "text": [
      "What does \\\"The message in the music\\\" mean to you? To my kids, it means so much more! Music is not just for entertainment!  My kids are learning how music can be used as a human rights tool! They are learning to express their feelings of the world around them in positive ways.\\r\\n\\r\\nMy kids are every stereotype you can think of: poor, underprivileged, rough, angry.  Turn that same prism around there is also joy, happiness, intelligence and creativity. They are learning to navigate the world around them and we are working on showing them how to use this energy in a positive way.Our piano lab is aging.  We have 3 classes of 35 kids that are bursting at the gills, which is a great problem to have!  BUT keyboards are beginning to have the keys break off making them unuseable. We also do not have enough keyboards for every student in class, even if you counted the slightly broken ones!\\r\\n\\r\\nWe are in desperate need of more keyboards for our labs to meet the needs of our students.  A keyboard for each student in class will facilitate their love of music and help them grow and appreciate the world around them.  We are down to 24 semi working keyboards and 35 kids in each piano class.  These keyboards are needed sooner rather than later for our kids to have a successful year in class.nannan\n",
      "==================================================\n"
     ]
    }
   ],
   "source": [
    "sent = decontracted(X['essay'].values[99])\n",
    "print(sent)\n",
    "print(\"=\"*50)"
   ]
  },
  {
   "cell_type": "code",
   "execution_count": 21,
   "metadata": {
    "colab": {
     "base_uri": "https://localhost:8080/",
     "height": 54
    },
    "colab_type": "code",
    "id": "3GdIUpsNKHyU",
    "outputId": "d519a98b-aa1c-41ff-c5be-649204f540fd"
   },
   "outputs": [
    {
     "name": "stdout",
     "output_type": "stream",
     "text": [
      "What does  The message in the music  mean to you? To my kids, it means so much more! Music is not just for entertainment!  My kids are learning how music can be used as a human rights tool! They are learning to express their feelings of the world around them in positive ways.    My kids are every stereotype you can think of: poor, underprivileged, rough, angry.  Turn that same prism around there is also joy, happiness, intelligence and creativity. They are learning to navigate the world around them and we are working on showing them how to use this energy in a positive way.Our piano lab is aging.  We have 3 classes of 35 kids that are bursting at the gills, which is a great problem to have!  BUT keyboards are beginning to have the keys break off making them unuseable. We also do not have enough keyboards for every student in class, even if you counted the slightly broken ones!    We are in desperate need of more keyboards for our labs to meet the needs of our students.  A keyboard for each student in class will facilitate their love of music and help them grow and appreciate the world around them.  We are down to 24 semi working keyboards and 35 kids in each piano class.  These keyboards are needed sooner rather than later for our kids to have a successful year in class.nannan\n"
     ]
    }
   ],
   "source": [
    "# \\r \\n \\t remove from string python: http://texthandler.com/info/remove-line-breaks-python/\n",
    "sent = sent.replace('\\\\r', ' ')\n",
    "sent = sent.replace('\\\\\"', ' ')\n",
    "sent = sent.replace('\\\\n', ' ')\n",
    "print(sent)"
   ]
  },
  {
   "cell_type": "code",
   "execution_count": 22,
   "metadata": {
    "colab": {
     "base_uri": "https://localhost:8080/",
     "height": 54
    },
    "colab_type": "code",
    "id": "GYLU1kHXKHya",
    "outputId": "646a36ba-8b99-4f07-8e70-851c5aea044e"
   },
   "outputs": [
    {
     "name": "stdout",
     "output_type": "stream",
     "text": [
      "What does The message in the music mean to you To my kids it means so much more Music is not just for entertainment My kids are learning how music can be used as a human rights tool They are learning to express their feelings of the world around them in positive ways My kids are every stereotype you can think of poor underprivileged rough angry Turn that same prism around there is also joy happiness intelligence and creativity They are learning to navigate the world around them and we are working on showing them how to use this energy in a positive way Our piano lab is aging We have 3 classes of 35 kids that are bursting at the gills which is a great problem to have BUT keyboards are beginning to have the keys break off making them unuseable We also do not have enough keyboards for every student in class even if you counted the slightly broken ones We are in desperate need of more keyboards for our labs to meet the needs of our students A keyboard for each student in class will facilitate their love of music and help them grow and appreciate the world around them We are down to 24 semi working keyboards and 35 kids in each piano class These keyboards are needed sooner rather than later for our kids to have a successful year in class nannan\n"
     ]
    }
   ],
   "source": [
    "#remove spacial character: https://stackoverflow.com/a/5843547/4084039\n",
    "sent = re.sub('[^A-Za-z0-9]+', ' ', sent)\n",
    "print(sent)"
   ]
  },
  {
   "cell_type": "code",
   "execution_count": 0,
   "metadata": {
    "colab": {},
    "colab_type": "code",
    "id": "eHdFt2tEKHyg"
   },
   "outputs": [],
   "source": [
    "# https://gist.github.com/sebleier/554280\n",
    "# we are removing the words from the stop words list: 'no', 'nor', 'not'\n",
    "stopwords= ['i', 'me', 'my', 'myself', 'we', 'our', 'ours', 'ourselves', 'you', \"you're\", \"you've\",\\\n",
    "            \"you'll\", \"you'd\", 'your', 'yours', 'yourself', 'yourselves', 'he', 'him', 'his', 'himself', \\\n",
    "            'she', \"she's\", 'her', 'hers', 'herself', 'it', \"it's\", 'its', 'itself', 'they', 'them', 'their',\\\n",
    "            'theirs', 'themselves', 'what', 'which', 'who', 'whom', 'this', 'that', \"that'll\", 'these', 'those', \\\n",
    "            'am', 'is', 'are', 'was', 'were', 'be', 'been', 'being', 'have', 'has', 'had', 'having', 'do', 'does', \\\n",
    "            'did', 'doing', 'a', 'an', 'the', 'and', 'but', 'if', 'or', 'because', 'as', 'until', 'while', 'of', \\\n",
    "            'at', 'by', 'for', 'with', 'about', 'against', 'between', 'into', 'through', 'during', 'before', 'after',\\\n",
    "            'above', 'below', 'to', 'from', 'up', 'down', 'in', 'out', 'on', 'off', 'over', 'under', 'again', 'further',\\\n",
    "            'then', 'once', 'here', 'there', 'when', 'where', 'why', 'how', 'all', 'any', 'both', 'each', 'few', 'more',\\\n",
    "            'most', 'other', 'some', 'such', 'only', 'own', 'same', 'so', 'than', 'too', 'very', \\\n",
    "            's', 't', 'can', 'will', 'just', 'don', \"don't\", 'should', \"should've\", 'now', 'd', 'll', 'm', 'o', 're', \\\n",
    "            've', 'y', 'ain', 'aren', \"aren't\", 'couldn', \"couldn't\", 'didn', \"didn't\", 'doesn', \"doesn't\", 'hadn',\\\n",
    "            \"hadn't\", 'hasn', \"hasn't\", 'haven', \"haven't\", 'isn', \"isn't\", 'ma', 'mightn', \"mightn't\", 'mustn',\\\n",
    "            \"mustn't\", 'needn', \"needn't\", 'shan', \"shan't\", 'shouldn', \"shouldn't\", 'wasn', \"wasn't\", 'weren', \"weren't\", \\\n",
    "            'won', \"won't\", 'wouldn', \"wouldn't\"]"
   ]
  },
  {
   "cell_type": "code",
   "execution_count": 24,
   "metadata": {
    "colab": {
     "base_uri": "https://localhost:8080/",
     "height": 34
    },
    "colab_type": "code",
    "id": "R9OU1FQsKHym",
    "outputId": "3f03cf6d-6f00-4de7-9fa5-927e990597c6"
   },
   "outputs": [
    {
     "name": "stderr",
     "output_type": "stream",
     "text": [
      "100%|██████████| 20000/20000 [00:11<00:00, 1816.96it/s]\n"
     ]
    }
   ],
   "source": [
    "# Combining all the above statemennts \n",
    "from tqdm import tqdm\n",
    "preprocessed_essays = []\n",
    "# tqdm is for printing the status bar\n",
    "for sentance in tqdm(X['essay'].values):\n",
    "    sent = decontracted(sentance)\n",
    "    sent = sent.replace('\\\\r', ' ')\n",
    "    sent = sent.replace('\\\\\"', ' ')\n",
    "    sent = sent.replace('\\\\n', ' ')\n",
    "    sent = re.sub('[^A-Za-z0-9]+', ' ', sent)\n",
    "    # https://gist.github.com/sebleier/554280\n",
    "    sent = ' '.join(e for e in sent.split() if e not in stopwords)\n",
    "    preprocessed_essays.append(sent.lower().strip())"
   ]
  },
  {
   "cell_type": "code",
   "execution_count": 25,
   "metadata": {
    "colab": {
     "base_uri": "https://localhost:8080/",
     "height": 352
    },
    "colab_type": "code",
    "id": "44QlFp2aKHyt",
    "outputId": "661a1ce8-ae12-450e-e89e-f3bd26722cb6"
   },
   "outputs": [
    {
     "data": {
      "text/html": [
       "<div>\n",
       "<style scoped>\n",
       "    .dataframe tbody tr th:only-of-type {\n",
       "        vertical-align: middle;\n",
       "    }\n",
       "\n",
       "    .dataframe tbody tr th {\n",
       "        vertical-align: top;\n",
       "    }\n",
       "\n",
       "    .dataframe thead th {\n",
       "        text-align: right;\n",
       "    }\n",
       "</style>\n",
       "<table border=\"1\" class=\"dataframe\">\n",
       "  <thead>\n",
       "    <tr style=\"text-align: right;\">\n",
       "      <th></th>\n",
       "      <th>Unnamed: 0</th>\n",
       "      <th>id</th>\n",
       "      <th>teacher_id</th>\n",
       "      <th>teacher_prefix</th>\n",
       "      <th>school_state</th>\n",
       "      <th>project_submitted_datetime</th>\n",
       "      <th>project_grade_category</th>\n",
       "      <th>project_title</th>\n",
       "      <th>project_resource_summary</th>\n",
       "      <th>teacher_number_of_previously_posted_projects</th>\n",
       "      <th>clean_categories</th>\n",
       "      <th>clean_subcategories</th>\n",
       "      <th>digits_in_summary</th>\n",
       "      <th>essay</th>\n",
       "      <th>price</th>\n",
       "      <th>quantity</th>\n",
       "    </tr>\n",
       "  </thead>\n",
       "  <tbody>\n",
       "    <tr>\n",
       "      <th>0</th>\n",
       "      <td>140945</td>\n",
       "      <td>p258326</td>\n",
       "      <td>897464ce9ddc600bced1151f324dd63a</td>\n",
       "      <td>Mr.</td>\n",
       "      <td>FL</td>\n",
       "      <td>10/25/2016 9:22</td>\n",
       "      <td>Grades6-8</td>\n",
       "      <td>Wanted: Projector for Hungry Learners</td>\n",
       "      <td>My students need a projector to help with view...</td>\n",
       "      <td>7</td>\n",
       "      <td>History_Civics Health_Sports</td>\n",
       "      <td>Civics_Government TeamSports</td>\n",
       "      <td>0</td>\n",
       "      <td>our students arrive school eager learn they po...</td>\n",
       "      <td>299.0</td>\n",
       "      <td>1</td>\n",
       "    </tr>\n",
       "    <tr>\n",
       "      <th>1</th>\n",
       "      <td>45</td>\n",
       "      <td>p246581</td>\n",
       "      <td>f3cb9bffbba169bef1a77b243e620b60</td>\n",
       "      <td>Mrs.</td>\n",
       "      <td>KY</td>\n",
       "      <td>10/6/2016 21:16</td>\n",
       "      <td>GradesPreK-2</td>\n",
       "      <td>Techie Kindergarteners</td>\n",
       "      <td>My students need to engage in Reading and Math...</td>\n",
       "      <td>4</td>\n",
       "      <td>Literacy_Language Math_Science</td>\n",
       "      <td>Literacy Mathematics</td>\n",
       "      <td>0</td>\n",
       "      <td>i work unique school filled esl english second...</td>\n",
       "      <td>232.9</td>\n",
       "      <td>4</td>\n",
       "    </tr>\n",
       "  </tbody>\n",
       "</table>\n",
       "</div>"
      ],
      "text/plain": [
       "   Unnamed: 0       id  ...  price quantity\n",
       "0      140945  p258326  ...  299.0        1\n",
       "1          45  p246581  ...  232.9        4\n",
       "\n",
       "[2 rows x 16 columns]"
      ]
     },
     "execution_count": 25,
     "metadata": {
      "tags": []
     },
     "output_type": "execute_result"
    }
   ],
   "source": [
    "# after preprocesing\n",
    "\n",
    "# X['essay'] = None\n",
    "X['essay'] = preprocessed_essays\n",
    "\n",
    "X.head(2)"
   ]
  },
  {
   "cell_type": "code",
   "execution_count": 26,
   "metadata": {
    "colab": {
     "base_uri": "https://localhost:8080/",
     "height": 34
    },
    "colab_type": "code",
    "id": "Ibkl0XZDKHyy",
    "outputId": "faea3220-8f7f-4943-d143-0d6675e1ba18"
   },
   "outputs": [
    {
     "name": "stderr",
     "output_type": "stream",
     "text": [
      "100%|██████████| 20000/20000 [00:00<00:00, 33827.27it/s]\n"
     ]
    }
   ],
   "source": [
    "# Combining all the above statemennts \n",
    "from tqdm import tqdm\n",
    "preprocessed_project_title = []\n",
    "# tqdm is for printing the status bar\n",
    "for sentance in tqdm(X['project_title'].values):\n",
    "    sent = decontracted(sentance)\n",
    "    sent = sent.replace('\\\\r', ' ')\n",
    "    sent = sent.replace('\\\\\"', ' ')\n",
    "    sent = sent.replace('\\\\n', ' ')\n",
    "    sent = re.sub('[^A-Za-z0-9]+', ' ', sent)\n",
    "    # https://gist.github.com/sebleier/554280\n",
    "    sent = ' '.join(e for e in sent.split() if e not in stopwords)\n",
    "    preprocessed_project_title.append(sent.lower().strip())"
   ]
  },
  {
   "cell_type": "code",
   "execution_count": 27,
   "metadata": {
    "colab": {
     "base_uri": "https://localhost:8080/",
     "height": 352
    },
    "colab_type": "code",
    "id": "NvBbGNbxKHy5",
    "outputId": "d370f171-214f-445c-b8d5-ed09a307c303"
   },
   "outputs": [
    {
     "data": {
      "text/html": [
       "<div>\n",
       "<style scoped>\n",
       "    .dataframe tbody tr th:only-of-type {\n",
       "        vertical-align: middle;\n",
       "    }\n",
       "\n",
       "    .dataframe tbody tr th {\n",
       "        vertical-align: top;\n",
       "    }\n",
       "\n",
       "    .dataframe thead th {\n",
       "        text-align: right;\n",
       "    }\n",
       "</style>\n",
       "<table border=\"1\" class=\"dataframe\">\n",
       "  <thead>\n",
       "    <tr style=\"text-align: right;\">\n",
       "      <th></th>\n",
       "      <th>Unnamed: 0</th>\n",
       "      <th>id</th>\n",
       "      <th>teacher_id</th>\n",
       "      <th>teacher_prefix</th>\n",
       "      <th>school_state</th>\n",
       "      <th>project_submitted_datetime</th>\n",
       "      <th>project_grade_category</th>\n",
       "      <th>project_title</th>\n",
       "      <th>project_resource_summary</th>\n",
       "      <th>teacher_number_of_previously_posted_projects</th>\n",
       "      <th>clean_categories</th>\n",
       "      <th>clean_subcategories</th>\n",
       "      <th>digits_in_summary</th>\n",
       "      <th>essay</th>\n",
       "      <th>price</th>\n",
       "      <th>quantity</th>\n",
       "    </tr>\n",
       "  </thead>\n",
       "  <tbody>\n",
       "    <tr>\n",
       "      <th>0</th>\n",
       "      <td>140945</td>\n",
       "      <td>p258326</td>\n",
       "      <td>897464ce9ddc600bced1151f324dd63a</td>\n",
       "      <td>Mr.</td>\n",
       "      <td>FL</td>\n",
       "      <td>10/25/2016 9:22</td>\n",
       "      <td>Grades6-8</td>\n",
       "      <td>wanted projector hungry learners</td>\n",
       "      <td>My students need a projector to help with view...</td>\n",
       "      <td>7</td>\n",
       "      <td>History_Civics Health_Sports</td>\n",
       "      <td>Civics_Government TeamSports</td>\n",
       "      <td>0</td>\n",
       "      <td>our students arrive school eager learn they po...</td>\n",
       "      <td>299.0</td>\n",
       "      <td>1</td>\n",
       "    </tr>\n",
       "    <tr>\n",
       "      <th>1</th>\n",
       "      <td>45</td>\n",
       "      <td>p246581</td>\n",
       "      <td>f3cb9bffbba169bef1a77b243e620b60</td>\n",
       "      <td>Mrs.</td>\n",
       "      <td>KY</td>\n",
       "      <td>10/6/2016 21:16</td>\n",
       "      <td>GradesPreK-2</td>\n",
       "      <td>techie kindergarteners</td>\n",
       "      <td>My students need to engage in Reading and Math...</td>\n",
       "      <td>4</td>\n",
       "      <td>Literacy_Language Math_Science</td>\n",
       "      <td>Literacy Mathematics</td>\n",
       "      <td>0</td>\n",
       "      <td>i work unique school filled esl english second...</td>\n",
       "      <td>232.9</td>\n",
       "      <td>4</td>\n",
       "    </tr>\n",
       "  </tbody>\n",
       "</table>\n",
       "</div>"
      ],
      "text/plain": [
       "   Unnamed: 0       id  ...  price quantity\n",
       "0      140945  p258326  ...  299.0        1\n",
       "1          45  p246581  ...  232.9        4\n",
       "\n",
       "[2 rows x 16 columns]"
      ]
     },
     "execution_count": 27,
     "metadata": {
      "tags": []
     },
     "output_type": "execute_result"
    }
   ],
   "source": [
    "preprocessed_project_title[4999]\n",
    "# after preprocesing\n",
    "\n",
    "# X['project_title'] = None\n",
    "X['project_title'] = preprocessed_project_title\n",
    "\n",
    "X.head(2)"
   ]
  },
  {
   "cell_type": "markdown",
   "metadata": {
    "colab_type": "text",
    "id": "RaSPElwZKHy_"
   },
   "source": [
    "#### 2.2.8 Splitting the data into Train and Test"
   ]
  },
  {
   "cell_type": "code",
   "execution_count": 28,
   "metadata": {
    "colab": {
     "base_uri": "https://localhost:8080/",
     "height": 34
    },
    "colab_type": "code",
    "id": "pJ_g7KPWKHzC",
    "outputId": "f83ecc54-c639-4657-bcd3-87a4cf97fd22"
   },
   "outputs": [
    {
     "data": {
      "text/plain": [
       "11"
      ]
     },
     "execution_count": 28,
     "metadata": {
      "tags": []
     },
     "output_type": "execute_result"
    }
   ],
   "source": [
    "# train test split(67:33)\n",
    "from sklearn.model_selection import train_test_split\n",
    "X_train, X_test, y_train, y_test = train_test_split(X, y, test_size=0.33, stratify=y)\n",
    "# X_train, X_cv, y_train, y_cv = train_test_split(X_train, y_train, test_size=0.33, stratify=y_train)\n",
    "X=None\n",
    "gc.collect()"
   ]
  },
  {
   "cell_type": "markdown",
   "metadata": {
    "colab_type": "text",
    "id": "gzAn5Z-HKHzJ"
   },
   "source": [
    "#### 2.2.9 Response Coding Categorical data:"
   ]
  },
  {
   "cell_type": "code",
   "execution_count": 0,
   "metadata": {
    "colab": {},
    "colab_type": "code",
    "id": "sUs2FlSnKHzK"
   },
   "outputs": [],
   "source": [
    "def res_code(X_tr,y_tr,cc,cc_0,cc_1):\n",
    "    #We are concatinating train data and its classes to create a base table while creating the response table\n",
    "    df=pd.DataFrame(X_tr,columns=[cc]) #Train data\n",
    "    df1=pd.DataFrame(y_tr,columns=['y']) #Train class\n",
    "    df.reset_index(drop=True, inplace=True)\n",
    "    df1.reset_index(drop=True, inplace=True)\n",
    "    df_row = df.assign(y=df1) #concatenating of the train and  train class  \n",
    "#     df_row.to_csv('file2.csv')\n",
    "    #========================*************************=======================================******************================\n",
    "    #To create response table for the given category\n",
    "    group_data = df_row.groupby([cc]).count() #We groupby with respect to the category and obtain its count\n",
    "    df_row['id'] = df_row[cc].str.cat(df_row['y'].values.astype(str)) #We concat the category and the class to obtain the count of the classes wrt the each category\n",
    "    group_data1 = df_row.groupby(['id'])['y'].count() #We are obtaining the count of the classes wrt each category\n",
    "    group_data1=group_data1.to_frame() #Converting to dataframe\n",
    "    #========================*************************=======================================******************================\n",
    "    #We have two tables group_data which holds the category count and group_data1 which holds the count of the classes wrt each category\n",
    "    df_row = pd.merge(df_row,group_data, on=cc, how='left') #On the base data we merge to add a new column which holds the category count\n",
    "    df_row = pd.merge(df_row,group_data1,on='id', how='left') #On the base data we merge to add a new column which holds the count of the classes\n",
    "    #======================**************************=======================================********************===============\n",
    "    #Final Response table creation wrt class 0 and class 0\n",
    "    df_row_1 = df_row[df_row['y_x']==1] #Breaking the table wrt class 1\n",
    "    df_row_0 = df_row[df_row['y_x']==0] #Breaking the table wrt class 0\n",
    "    df_row_0[cc_0]=df_row_0['y']/df_row_0['y_y'] #We are taking the percentage of each class wrt each category 0 and creating a column\n",
    "    df_row_1[cc_1]=df_row_1['y']/df_row_1['y_y'] #We are taking the percentage of each class wrt each category 1 and creating a column\n",
    "    df_row_0=df_row_0.drop(['y_x', 'id','y_y','y'], axis=1) #Dropping unwanted columns\n",
    "    df_row_1=df_row_1.drop(['y_x', 'id','y_y','y'], axis=1) #Dropping unwanted columns\n",
    "    df_row=df_row.drop(['y_x', 'id','y_y','y'], axis=1) #Dropping unwanted columns\n",
    "    #=====================**************************=======================================*********************================\n",
    "    df_row_0=df_row_0.drop_duplicates() #Dropping the duplicates\n",
    "    df_row_1=df_row_1.drop_duplicates() #Dropping the duplicates\n",
    "    X_tr = pd.merge(X_tr,df_row_1, on=cc, how='left') #Merging the class 1 percentage column\n",
    "    X_tr = pd.merge(X_tr,df_row_0, on=cc, how='left') #Merging the class 0 percentage column\n",
    "    X_tr[cc_0]=round((X_tr[cc_0])*100,2) #We are multiplying the percentage and rounding off to two decimal points\n",
    "    X_tr[cc_1]=round((X_tr[cc_1])*100,2) #We are multiplying the percentage and rounding off to two decimal points\n",
    "    X_tr=X_tr.drop([cc], axis=1) #We are dropping the category column\n",
    "    X_tra=X_tr\n",
    "    return X_tra\n"
   ]
  },
  {
   "cell_type": "code",
   "execution_count": 0,
   "metadata": {
    "colab": {},
    "colab_type": "code",
    "id": "ZDj6INwCKHzR"
   },
   "outputs": [],
   "source": [
    "#  Response Coding Categorical data: clean_subcategories(Project subject categories)\n",
    "CC='clean_categories'\n",
    "CC_0='St_0_cl_cat'\n",
    "CC_1='St_1_cl_cat'\n",
    "\n",
    "X_train=res_code(X_train,y_train,CC,CC_0,CC_1)\n",
    "X_test=res_code(X_test,y_test,CC,CC_0,CC_1)\n",
    "\n",
    "#  Response Coding Categorical data: clean_subcategories(Project subject subcategories)\n",
    "CC = 'clean_subcategories'\n",
    "CC_0='St_0_sub_cat'\n",
    "CC_1='St_1_sub_cat'\n",
    "X_train=res_code(X_train,y_train,CC,CC_0,CC_1)\n",
    "X_test=res_code(X_test,y_test,CC,CC_0,CC_1)\n",
    "\n",
    "#  Response Coding Categorical data:(school_state)\n",
    "CC = 'school_state'\n",
    "CC_0='St_0_sc_st'\n",
    "CC_1='St_1_sc_st'\n",
    "X_train=res_code(X_train,y_train,CC,CC_0,CC_1)\n",
    "X_test=res_code(X_test,y_test,CC,CC_0,CC_1)\n",
    "\n",
    "#  Response Coding Categorical data: (project_grade_category)\n",
    "CC = 'project_grade_category'\n",
    "CC_0='St_0_pgc'\n",
    "CC_1='St_1_pgc'\n",
    "X_train=res_code(X_train,y_train,CC,CC_0,CC_1)\n",
    "X_test=res_code(X_test,y_test,CC,CC_0,CC_1)\n",
    "\n",
    "#  Response Coding Categorical data: (project_grade_category)\n",
    "CC = 'teacher_prefix'\n",
    "CC_0='St_0_tp'\n",
    "CC_1='St_1_tp'\n",
    "X_train=res_code(X_train,y_train,CC,CC_0,CC_1)\n",
    "X_test=res_code(X_test,y_test,CC,CC_0,CC_1)\n",
    "# X_train.to_csv('train_cc.csv')\n",
    "# X_test.to_csv('test_cc.csv')"
   ]
  },
  {
   "cell_type": "code",
   "execution_count": 31,
   "metadata": {
    "colab": {
     "base_uri": "https://localhost:8080/",
     "height": 400
    },
    "colab_type": "code",
    "id": "b-sekyUrKHzX",
    "outputId": "1b7696fb-60f0-4e3b-ea64-cbf709f091fa"
   },
   "outputs": [
    {
     "data": {
      "text/html": [
       "<div>\n",
       "<style scoped>\n",
       "    .dataframe tbody tr th:only-of-type {\n",
       "        vertical-align: middle;\n",
       "    }\n",
       "\n",
       "    .dataframe tbody tr th {\n",
       "        vertical-align: top;\n",
       "    }\n",
       "\n",
       "    .dataframe thead th {\n",
       "        text-align: right;\n",
       "    }\n",
       "</style>\n",
       "<table border=\"1\" class=\"dataframe\">\n",
       "  <thead>\n",
       "    <tr style=\"text-align: right;\">\n",
       "      <th></th>\n",
       "      <th>Unnamed: 0</th>\n",
       "      <th>id</th>\n",
       "      <th>teacher_id</th>\n",
       "      <th>project_submitted_datetime</th>\n",
       "      <th>project_title</th>\n",
       "      <th>project_resource_summary</th>\n",
       "      <th>teacher_number_of_previously_posted_projects</th>\n",
       "      <th>digits_in_summary</th>\n",
       "      <th>essay</th>\n",
       "      <th>price</th>\n",
       "      <th>quantity</th>\n",
       "      <th>St_1_cl_cat</th>\n",
       "      <th>St_0_cl_cat</th>\n",
       "      <th>St_1_sub_cat</th>\n",
       "      <th>St_0_sub_cat</th>\n",
       "      <th>St_1_sc_st</th>\n",
       "      <th>St_0_sc_st</th>\n",
       "      <th>St_1_pgc</th>\n",
       "      <th>St_0_pgc</th>\n",
       "      <th>St_1_tp</th>\n",
       "      <th>St_0_tp</th>\n",
       "    </tr>\n",
       "  </thead>\n",
       "  <tbody>\n",
       "    <tr>\n",
       "      <th>0</th>\n",
       "      <td>112079</td>\n",
       "      <td>p161701</td>\n",
       "      <td>d48e58c407cefa424809ce12c4934530</td>\n",
       "      <td>3/30/2017 11:25</td>\n",
       "      <td>stepping up to the challenge</td>\n",
       "      <td>My students need a class set of pedometers and...</td>\n",
       "      <td>6</td>\n",
       "      <td>0</td>\n",
       "      <td>i special education teacher residential day tr...</td>\n",
       "      <td>55.97</td>\n",
       "      <td>15</td>\n",
       "      <td>50.44</td>\n",
       "      <td>49.56</td>\n",
       "      <td>46.31</td>\n",
       "      <td>53.69</td>\n",
       "      <td>54.42</td>\n",
       "      <td>45.58</td>\n",
       "      <td>50.27</td>\n",
       "      <td>49.73</td>\n",
       "      <td>50.89</td>\n",
       "      <td>49.11</td>\n",
       "    </tr>\n",
       "    <tr>\n",
       "      <th>1</th>\n",
       "      <td>39180</td>\n",
       "      <td>p136150</td>\n",
       "      <td>d1e0bd54d812fbabbe0a673a374a5e5f</td>\n",
       "      <td>9/1/2016 20:21</td>\n",
       "      <td>building love science with hands materials</td>\n",
       "      <td>My students need engaging and hands on materia...</td>\n",
       "      <td>1</td>\n",
       "      <td>0</td>\n",
       "      <td>i fortunate teach third grade sixth year helma...</td>\n",
       "      <td>325.77</td>\n",
       "      <td>3</td>\n",
       "      <td>43.53</td>\n",
       "      <td>56.47</td>\n",
       "      <td>46.13</td>\n",
       "      <td>53.87</td>\n",
       "      <td>53.24</td>\n",
       "      <td>46.76</td>\n",
       "      <td>50.27</td>\n",
       "      <td>49.73</td>\n",
       "      <td>49.58</td>\n",
       "      <td>50.42</td>\n",
       "    </tr>\n",
       "    <tr>\n",
       "      <th>2</th>\n",
       "      <td>18169</td>\n",
       "      <td>p024710</td>\n",
       "      <td>ae9045b24c56b38f7d4d10b4e66e160b</td>\n",
       "      <td>1/17/2017 14:59</td>\n",
       "      <td>googlify our classroom</td>\n",
       "      <td>My students need Chromebooks to help enhance t...</td>\n",
       "      <td>5</td>\n",
       "      <td>0</td>\n",
       "      <td>i diverse class 22 students k 2 school around ...</td>\n",
       "      <td>209.14</td>\n",
       "      <td>6</td>\n",
       "      <td>55.14</td>\n",
       "      <td>44.86</td>\n",
       "      <td>53.62</td>\n",
       "      <td>46.38</td>\n",
       "      <td>47.10</td>\n",
       "      <td>52.90</td>\n",
       "      <td>50.66</td>\n",
       "      <td>49.34</td>\n",
       "      <td>49.30</td>\n",
       "      <td>50.70</td>\n",
       "    </tr>\n",
       "  </tbody>\n",
       "</table>\n",
       "</div>"
      ],
      "text/plain": [
       "   Unnamed: 0       id  ... St_1_tp St_0_tp\n",
       "0      112079  p161701  ...   50.89   49.11\n",
       "1       39180  p136150  ...   49.58   50.42\n",
       "2       18169  p024710  ...   49.30   50.70\n",
       "\n",
       "[3 rows x 21 columns]"
      ]
     },
     "execution_count": 31,
     "metadata": {
      "tags": []
     },
     "output_type": "execute_result"
    }
   ],
   "source": [
    "X_train = X_train.fillna(0)\n",
    "X_test = X_test.fillna(0)\n",
    "X_train.head(3)"
   ]
  },
  {
   "cell_type": "markdown",
   "metadata": {
    "colab_type": "text",
    "id": "jPLuj0mwKHzd"
   },
   "source": [
    "#### 2.3 Make Data Model Ready: Vectorizing Numerical features"
   ]
  },
  {
   "cell_type": "markdown",
   "metadata": {
    "colab_type": "text",
    "id": "wjWDDorVKHze"
   },
   "source": [
    "#### 2.3.1 Vectorizing Numerical features--Price"
   ]
  },
  {
   "cell_type": "code",
   "execution_count": 32,
   "metadata": {
    "colab": {
     "base_uri": "https://localhost:8080/",
     "height": 85
    },
    "colab_type": "code",
    "id": "o5EbsD8hKHzg",
    "outputId": "9d9753f8-afa4-4283-eb0e-56e384328d8e"
   },
   "outputs": [
    {
     "name": "stdout",
     "output_type": "stream",
     "text": [
      "After vectorizations\n",
      "(13400, 1) (13400,)\n",
      "(6600, 1) (6600,)\n",
      "====================================================================================================\n"
     ]
    }
   ],
   "source": [
    "from sklearn.preprocessing import Normalizer\n",
    "from sklearn.preprocessing import StandardScaler\n",
    "normalizer = StandardScaler() #Normalizer()\n",
    "# normalizer_test = Normalizer()\n",
    "# normalizer.fit(X_train['price'].values)\n",
    "# this will rise an error Expected 2D array, got 1D array instead: \n",
    "# array=[105.22 215.96  96.01 ... 368.98  80.53 709.67].\n",
    "# Reshape your data either using \n",
    "# array.reshape(-1, 1) if your data has a single feature \n",
    "# array.reshape(1, -1)  if it contains a single sample.\n",
    "normalizer.fit(X_train['price'].values.reshape(-1,1))\n",
    "# normalizer_test.fit(X_test['price'].values.reshape(1,-1))\n",
    "\n",
    "X_train_price_norm = normalizer.transform(X_train['price'].values.reshape(-1,1))\n",
    "# X_cv_price_norm = normalizer.transform(X_cv['price'].values.reshape(-1,1))\n",
    "X_test_price_norm = normalizer.transform(X_test['price'].values.reshape(-1,1))\n",
    "\n",
    "\n",
    "# X_train_price_norm=np.reshape(X_train_price_norm,(1,-1))\n",
    "# X_test_price_norm=np.reshape(X_test_price_norm,(1,-1))\n",
    "\n",
    "print(\"After vectorizations\")\n",
    "\n",
    "# np.reshape(X_train_price_norm,\n",
    "print(X_train_price_norm.shape, y_train.shape)\n",
    "# print(X_cv_price_norm.shape, y_cv.shape)\n",
    "print(X_test_price_norm.shape, y_test.shape)\n",
    "print(\"=\"*100)"
   ]
  },
  {
   "cell_type": "markdown",
   "metadata": {
    "colab_type": "text",
    "id": "KGh0c0V6KHzn"
   },
   "source": [
    "#### 2.3.2 Vectorizing Numerical features--teacher_number_of_previously_posted_projects"
   ]
  },
  {
   "cell_type": "code",
   "execution_count": 33,
   "metadata": {
    "colab": {
     "base_uri": "https://localhost:8080/",
     "height": 85
    },
    "colab_type": "code",
    "id": "4FxZ1q9iKHzo",
    "outputId": "84a985a0-ca9b-4316-87e1-ac30ef987605"
   },
   "outputs": [
    {
     "name": "stdout",
     "output_type": "stream",
     "text": [
      "After vectorizations\n",
      "(13400, 1) (13400,)\n",
      "(6600, 1) (6600,)\n",
      "====================================================================================================\n"
     ]
    }
   ],
   "source": [
    "from sklearn.preprocessing import Normalizer\n",
    "normalizer_train = StandardScaler() #Normalizer()\n",
    "normalizer_test = StandardScaler() #Normalizer()\n",
    "# normalizer.fit(X_train['teacher_number_of_previously_posted_projects'].values)\n",
    "# this will rise an error Expected 2D array, got 1D array instead: \n",
    "# array=[105.22 215.96  96.01 ... 368.98  80.53 709.67].\n",
    "# Reshape your data either using \n",
    "# array.reshape(-1, 1) if your data has a single feature \n",
    "# array.reshape(1, -1)  if it contains a single sample.\n",
    "normalizer.fit(X_train['teacher_number_of_previously_posted_projects'].values.reshape(-1,1))\n",
    "\n",
    "X_train_teacher_number_of_previously_posted_projects_norm = normalizer.transform(X_train['teacher_number_of_previously_posted_projects'].values.reshape(-1,1))\n",
    "# X_cv_teacher_number_of_previously_posted_projects_norm = normalizer.transform(X_cv['teacher_number_of_previously_posted_projects'].values.reshape(-1,1))\n",
    "X_test_teacher_number_of_previously_posted_projects_norm = normalizer.transform(X_test['teacher_number_of_previously_posted_projects'].values.reshape(-1,1))\n",
    "\n",
    "\n",
    "\n",
    "# X_train_teacher_number_of_previously_posted_projects_norm=np.reshape(X_train_teacher_number_of_previously_posted_projects_norm,(1,-1))\n",
    "# X_test_teacher_number_of_previously_posted_projects_norm=np.reshape(X_test_teacher_number_of_previously_posted_projects_norm,(1,-1))\n",
    "\n",
    "\n",
    "print(\"After vectorizations\")\n",
    "print(X_train_teacher_number_of_previously_posted_projects_norm.shape, y_train.shape)\n",
    "# print(X_cv_teacher_number_of_previously_posted_projects_norm.shape, y_cv.shape)\n",
    "print(X_test_teacher_number_of_previously_posted_projects_norm.shape, y_test.shape)\n",
    "print(\"=\"*100)"
   ]
  },
  {
   "cell_type": "markdown",
   "metadata": {
    "colab_type": "text",
    "id": "uQvfwFrEKHzu"
   },
   "source": [
    "#### 2.3.3 Vectorizing Numerical features--digits_in_summary"
   ]
  },
  {
   "cell_type": "code",
   "execution_count": 0,
   "metadata": {
    "colab": {},
    "colab_type": "code",
    "id": "8ODOFaqHKHzx"
   },
   "outputs": [],
   "source": [
    "X_train['digits_in_summary'].fillna(X_train['digits_in_summary'].mean(), inplace=True)\n",
    "# X_cv['digits_in_summary'].fillna(X_cv['digits_in_summary'].mean(), inplace=True)\n",
    "X_test['digits_in_summary'].fillna(X_test['digits_in_summary'].mean(), inplace=True)"
   ]
  },
  {
   "cell_type": "code",
   "execution_count": 35,
   "metadata": {
    "colab": {
     "base_uri": "https://localhost:8080/",
     "height": 85
    },
    "colab_type": "code",
    "id": "yW8ub-XPKHz2",
    "outputId": "a69f3661-d074-473b-d8b7-5cb89f1f9fc8"
   },
   "outputs": [
    {
     "name": "stdout",
     "output_type": "stream",
     "text": [
      "After vectorizations\n",
      "(13400, 1) (13400,)\n",
      "(6600, 1) (6600,)\n",
      "====================================================================================================\n"
     ]
    }
   ],
   "source": [
    "from sklearn.preprocessing import Normalizer\n",
    "normalizer_train = StandardScaler() #Normalizer()\n",
    "normalizer_test = StandardScaler() #Normalizer()\n",
    "# normalizer.fit(X_train['digits_in_summary'].values)\n",
    "# this will rise an error Expected 2D array, got 1D array instead: \n",
    "# array=[105.22 215.96  96.01 ... 368.98  80.53 709.67].\n",
    "# Reshape your data either using \n",
    "# array.reshape(-1, 1) if your data has a single feature \n",
    "# array.reshape(1, -1)  if it contains a single sample.\n",
    "normalizer.fit(X_train['digits_in_summary'].values.reshape(-1,1))\n",
    "\n",
    "X_train_digits_in_summary_norm = normalizer.transform(X_train['digits_in_summary'].values.reshape(-1,1))\n",
    "# X_cv_digits_in_summary_norm = normalizer.transform(X_cv['digits_in_summary'].values.reshape(1,-1))\n",
    "X_test_digits_in_summary_norm = normalizer.transform(X_test['digits_in_summary'].values.reshape(-1,1))\n",
    "\n",
    "\n",
    "# X_train_digits_in_summary_norm=np.reshape(X_train_digits_in_summary_norm,(1,-1))\n",
    "# X_test_digits_in_summary_norm=np.reshape(X_test_digits_in_summary_norm,(1,-1))\n",
    "\n",
    "print(\"After vectorizations\")\n",
    "print(X_train_digits_in_summary_norm.shape, y_train.shape)\n",
    "# print(X_cv_digits_in_summary_norm.shape, y_cv.shape)\n",
    "print(X_test_digits_in_summary_norm.shape, y_test.shape)\n",
    "print(\"=\"*100)"
   ]
  },
  {
   "cell_type": "markdown",
   "metadata": {
    "colab_type": "text",
    "id": "2pWR0Fj4KHz7"
   },
   "source": [
    "#### 2.4 Make Data Model Ready: Vectorizing Essay and Project_title feature into BOW & TFIDF"
   ]
  },
  {
   "cell_type": "markdown",
   "metadata": {
    "colab_type": "text",
    "id": "pLC9nFgrKHz8"
   },
   "source": [
    "#### Vectorizing Text data"
   ]
  },
  {
   "cell_type": "markdown",
   "metadata": {
    "colab_type": "text",
    "id": "wHFEl3bJKHz-"
   },
   "source": [
    "#### 2.4.1 Bag of words:Essays"
   ]
  },
  {
   "cell_type": "code",
   "execution_count": 36,
   "metadata": {
    "colab": {
     "base_uri": "https://localhost:8080/",
     "height": 136
    },
    "colab_type": "code",
    "id": "huQbICvpKHz_",
    "outputId": "6629c13d-93c4-417f-f4c9-0b08b29fb8c4"
   },
   "outputs": [
    {
     "name": "stdout",
     "output_type": "stream",
     "text": [
      "(13400, 21) (13400,)\n",
      "(6600, 21) (6600,)\n",
      "====================================================================================================\n",
      "After vectorizations\n",
      "(13400, 5000) (13400,)\n",
      "(6600, 5000) (6600,)\n",
      "====================================================================================================\n"
     ]
    }
   ],
   "source": [
    "print(X_train.shape, y_train.shape)\n",
    "# print(X_cv.shape, y_cv.shape)\n",
    "print(X_test.shape, y_test.shape)\n",
    "\n",
    "print(\"=\"*100)\n",
    "\n",
    "# We are considering only the words which appeared in at least 10 documents(rows or projects).max_features=1000 is set to overcome the memory issue by reducing the no of features\n",
    "\n",
    "vectorizer = CountVectorizer(min_df=10,ngram_range=(2,2), max_features=5000)\n",
    "vectorizer.fit(X_train['essay'].values) # fit has to happen only on train data\n",
    "\n",
    "# we use the fitted Countvectorizer to convert the text to vector\n",
    "X_train_essay_bow = vectorizer.transform(X_train['essay'].values)\n",
    "# X_cv_essay_bow = vectorizer.transform(X_cv['essay'].values)\n",
    "X_test_essay_bow = vectorizer.transform(X_test['essay'].values)\n",
    "\n",
    "print(\"After vectorizations\")\n",
    "print(X_train_essay_bow.shape, y_train.shape)\n",
    "# print(X_cv_essay_bow.shape, y_cv.shape)\n",
    "print(X_test_essay_bow.shape, y_test.shape)\n",
    "print(\"=\"*100)\n"
   ]
  },
  {
   "cell_type": "markdown",
   "metadata": {
    "colab_type": "text",
    "id": "FSSYVZ6zKH0H"
   },
   "source": [
    "#### 2.4.2 Bag of words:Project Title"
   ]
  },
  {
   "cell_type": "code",
   "execution_count": 37,
   "metadata": {
    "colab": {
     "base_uri": "https://localhost:8080/",
     "height": 136
    },
    "colab_type": "code",
    "id": "NkECByJjKH0O",
    "outputId": "d3f18ec9-4921-4135-dd73-89fc3ad6eb26"
   },
   "outputs": [
    {
     "name": "stdout",
     "output_type": "stream",
     "text": [
      "(13400, 21) (13400,)\n",
      "(6600, 21) (6600,)\n",
      "====================================================================================================\n",
      "After vectorizations\n",
      "(13400, 335) (13400,)\n",
      "(6600, 335) (6600,)\n",
      "====================================================================================================\n"
     ]
    }
   ],
   "source": [
    "\n",
    "print(X_train.shape, y_train.shape)\n",
    "# print(X_cv.shape, y_cv.shape)\n",
    "print(X_test.shape, y_test.shape)\n",
    "\n",
    "print(\"=\"*100)\n",
    "\n",
    "\n",
    "vectorizer = CountVectorizer(min_df=10,ngram_range=(2,2), max_features=5000)\n",
    "vectorizer.fit(X_train['project_title'].values) # fit has to happen only on train data\n",
    "\n",
    "# we use the fitted Countvectorizer to convert the text to vector\n",
    "X_train_project_title_bow = vectorizer.transform(X_train['project_title'].values)\n",
    "# X_cv_project_title_bow = vectorizer.transform(X_cv['project_title'].values)\n",
    "X_test_project_title_bow = vectorizer.transform(X_test['project_title'].values)\n",
    "\n",
    "print(\"After vectorizations\")\n",
    "print(X_train_project_title_bow.shape, y_train.shape)\n",
    "# print(X_cv_project_title_bow.shape, y_cv.shape)\n",
    "print(X_test_project_title_bow.shape, y_test.shape)\n",
    "\n",
    "print(\"=\"*100)"
   ]
  },
  {
   "cell_type": "markdown",
   "metadata": {
    "colab_type": "text",
    "id": "UXVtSdt3KH0T"
   },
   "source": [
    "#### 2.4.3 Converting Columns into array before merging into hstack"
   ]
  },
  {
   "cell_type": "code",
   "execution_count": 0,
   "metadata": {
    "colab": {},
    "colab_type": "code",
    "id": "Mh3m0XC0KH0U"
   },
   "outputs": [],
   "source": [
    "X_train_St_0_cl_cat = X_train['St_0_cl_cat'].values.reshape(-1,1)\n",
    "X_train_St_1_cl_cat = X_train['St_1_cl_cat'].values.reshape(-1,1)\n",
    "\n",
    "X_train_St_0_sub_cat = X_train['St_0_sub_cat'].values.reshape(-1,1)\n",
    "X_train_St_1_sub_cat = X_train['St_1_sub_cat'].values.reshape(-1,1)\n",
    "\n",
    "X_train_St_0_sc_st = X_train['St_0_sc_st'].values.reshape(-1,1)\n",
    "X_train_St_1_sc_st = X_train['St_1_sc_st'].values.reshape(-1,1)\n",
    "\n",
    "X_train_St_0_pgc = X_train['St_0_pgc'].values.reshape(-1,1)\n",
    "X_train_St_1_pgc = X_train['St_1_pgc'].values.reshape(-1,1)\n",
    "\n",
    "X_train_St_0_tp = X_train['St_0_tp'].values.reshape(-1,1)\n",
    "X_train_St_1_tp = X_train['St_1_tp'].values.reshape(-1,1)\n",
    "\n",
    "\n",
    "# ==========================**************============================\n",
    "\n",
    "X_test_St_0_cl_cat = X_test['St_0_cl_cat'].values.reshape(-1,1)\n",
    "X_test_St_1_cl_cat = X_test['St_1_cl_cat'].values.reshape(-1,1)\n",
    "\n",
    "X_test_St_0_sub_cat = X_test['St_0_sub_cat'].values.reshape(-1,1)\n",
    "X_test_St_1_sub_cat = X_test['St_1_sub_cat'].values.reshape(-1,1)\n",
    "\n",
    "X_test_St_0_sc_st = X_test['St_0_sc_st'].values.reshape(-1,1)\n",
    "X_test_St_1_sc_st = X_test['St_1_sc_st'].values.reshape(-1,1)\n",
    "\n",
    "X_test_St_0_pgc = X_test['St_0_pgc'].values.reshape(-1,1)\n",
    "X_test_St_1_pgc = X_test['St_1_pgc'].values.reshape(-1,1)\n",
    "\n",
    "X_test_St_0_tp = X_test['St_0_tp'].values.reshape(-1,1)\n",
    "X_test_St_1_tp = X_test['St_1_tp'].values.reshape(-1,1)\n"
   ]
  },
  {
   "cell_type": "code",
   "execution_count": 0,
   "metadata": {
    "colab": {},
    "colab_type": "code",
    "id": "VLk9fjNhKH0Z"
   },
   "outputs": [],
   "source": [
    "from scipy.sparse import hstack\n",
    "# with the same hstack function we are concatinating a sparse matrix and a dense matirx :)\n",
    "X_BOW_TRAIN = hstack((X_train_digits_in_summary_norm,X_train_teacher_number_of_previously_posted_projects_norm,X_train_price_norm,X_train_project_title_bow,X_train_essay_bow,X_train_St_0_cl_cat,X_train_St_1_cl_cat,X_train_St_0_sub_cat,X_train_St_1_sub_cat,X_train_St_0_sc_st,X_train_St_1_sc_st,X_train_St_0_pgc,X_train_St_1_pgc,X_train_St_0_tp,X_train_St_1_tp\n",
    "))\n",
    "X_BOW_TRAIN=X_BOW_TRAIN.todense()\n",
    "X_BOW_TRAIN=np.array(X_BOW_TRAIN)\n",
    "\n",
    "# X_BOW_cv = hstack((X_cv_project_title_bow,X_cv_essay_bow ,X_cv_digits_in_summary_norm,X_cv_teacher_number_of_previously_posted_projects_norm,X_cv_price_norm,X_cv_teacher_prefix_ohe,X_cv_project_grade_category_ohe,X_cv_School_state_ohe,X_cv_clean_sub_cat_ohe,X_cv_clean_cat_ohe))\n",
    "# X_BOW_cv=X_BOW_cv.todense()\n",
    "# X_BOW_cv=np.array(X_BOW_cv)\n",
    "\n",
    "X_BOW_test = hstack((X_test_digits_in_summary_norm,X_test_teacher_number_of_previously_posted_projects_norm,X_test_price_norm,X_test_project_title_bow,X_test_essay_bow,X_test_St_0_cl_cat,X_test_St_1_cl_cat,X_test_St_0_sub_cat,X_test_St_1_sub_cat,X_test_St_0_sc_st,X_test_St_1_sc_st,X_test_St_0_pgc,X_test_St_1_pgc,X_test_St_0_tp,X_test_St_1_tp\n",
    "))\n",
    "X_BOW_test=X_BOW_test.todense()\n",
    "X_BOW_test=np.array(X_BOW_test)\n",
    "\n",
    "# X_train_project_title_bow=None\n",
    "# X_train_essay_bow =None\n",
    "\n",
    "# X_test_project_title_bow=None\n",
    "# X_test_essay_bow =None\n",
    "x=X_BOW_TRAIN\n",
    "x1=X_BOW_test"
   ]
  },
  {
   "cell_type": "code",
   "execution_count": 40,
   "metadata": {
    "colab": {
     "base_uri": "https://localhost:8080/",
     "height": 272
    },
    "colab_type": "code",
    "id": "RaMlF-IKKH0g",
    "outputId": "6c4943e4-ddc7-407f-9c49-c0844d7e5e89"
   },
   "outputs": [
    {
     "name": "stdout",
     "output_type": "stream",
     "text": [
      "(13400, 1)\n",
      "(13400, 1)\n",
      "(13400, 1)\n",
      "(13400, 335)\n",
      "(13400, 5000)\n",
      "(13400, 1)\n",
      "(13400, 1)\n",
      "(13400, 1)\n",
      "(13400, 1)\n",
      "(13400, 1)\n",
      "(13400, 1)\n",
      "(13400, 1)\n",
      "(13400, 1)\n",
      "(13400, 1)\n",
      "(13400, 1)\n"
     ]
    }
   ],
   "source": [
    "print(X_train_digits_in_summary_norm.shape)\n",
    "print(X_train_teacher_number_of_previously_posted_projects_norm.shape)\n",
    "print(X_train_price_norm.shape)\n",
    "print(X_train_project_title_bow.shape)\n",
    "print(X_train_essay_bow.shape)\n",
    "print(X_train_St_0_cl_cat.shape)\n",
    "print(X_train_St_1_cl_cat.shape)\n",
    "print(X_train_St_0_sub_cat.shape)\n",
    "print(X_train_St_1_sub_cat.shape)\n",
    "print(X_train_St_0_sc_st.shape)\n",
    "print(X_train_St_1_sc_st.shape)\n",
    "print(X_train_St_0_pgc.shape)\n",
    "print(X_train_St_1_pgc.shape)\n",
    "print(X_train_St_0_tp.shape)\n",
    "print(X_train_St_1_tp.shape)"
   ]
  },
  {
   "cell_type": "markdown",
   "metadata": {
    "colab_type": "text",
    "id": "Bl2yP42FKH0q"
   },
   "source": [
    "####  2.5 Applying Random Forest and GBDT  on `BOW`, `SET 1`"
   ]
  },
  {
   "cell_type": "markdown",
   "metadata": {
    "colab_type": "text",
    "id": "hW_TANnzKH0s"
   },
   "source": [
    "#### 2.5.1 Applying Random Forest GridSearchCV on Train data to obtain the best `C`"
   ]
  },
  {
   "cell_type": "code",
   "execution_count": 41,
   "metadata": {
    "colab": {
     "base_uri": "https://localhost:8080/",
     "height": 410
    },
    "colab_type": "code",
    "id": "EezYla6JKH0t",
    "outputId": "d4b0667d-ca3c-484b-b6fc-db3559bde336"
   },
   "outputs": [
    {
     "data": {
      "image/png": "[encoded data removed]",
      "text/plain": [
       "<Figure size 1440x432 with 4 Axes>"
      ]
     },
     "metadata": {
      "tags": []
     },
     "output_type": "display_data"
    }
   ],
   "source": [
    "from sklearn.metrics import roc_auc_score\n",
    "import matplotlib.pyplot as plt\n",
    "from sklearn.model_selection import train_test_split\n",
    "from sklearn.model_selection import GridSearchCV\n",
    "from sklearn.model_selection import cross_val_score\n",
    "# from sklearn.multioutput import MultiOutputClassifier\n",
    "# from sklearn.datasets import make_multilabel_classification\n",
    "from sklearn.tree import DecisionTreeClassifier\n",
    "from sklearn.ensemble import RandomForestClassifier\n",
    "from sklearn.model_selection import RandomizedSearchCV\n",
    "\n",
    "Gt1 = RandomForestClassifier(class_weight='balanced',min_samples_split=5)\n",
    "parameters = {'n_estimators': [5,10,20,25,30,40,45], 'max_depth':[2, 3, 4, 5, 7, 8, 10]}\n",
    "clf1 = RandomizedSearchCV(Gt1, parameters, cv=2, scoring='roc_auc',return_train_score=True)\n",
    "se1 = clf1.fit(X_BOW_TRAIN, y_train)\n",
    "\n",
    "import seaborn as sns; sns.set()\n",
    "max_scores1 = pd.DataFrame(clf1.cv_results_).groupby(['param_max_depth','param_n_estimators']).max().unstack()[['mean_test_score', 'mean_train_score']]\n",
    "fig, ax = plt.subplots(1,2, figsize=(20,6))\n",
    "sns.heatmap(max_scores1.mean_train_score, annot = True, fmt='.4g', ax=ax[0])\n",
    "sns.heatmap(max_scores1.mean_test_score, annot = True, fmt='.4g', ax=ax[1])\n",
    "ax[0].set_title('Train Set')\n",
    "ax[1].set_title('CV Set')\n",
    "plt.show()\n",
    "\n",
    "# clf1.cv_results_.keys()"
   ]
  },
  {
   "cell_type": "code",
   "execution_count": 42,
   "metadata": {
    "colab": {
     "base_uri": "https://localhost:8080/",
     "height": 187
    },
    "colab_type": "code",
    "id": "lSPp4_IEKH00",
    "outputId": "083185c6-77c0-491f-d9fe-9ab43fa36d4d"
   },
   "outputs": [
    {
     "name": "stdout",
     "output_type": "stream",
     "text": [
      "RandomForestClassifier(bootstrap=True, ccp_alpha=0.0, class_weight='balanced',\n",
      "                       criterion='gini', max_depth=8, max_features='auto',\n",
      "                       max_leaf_nodes=None, max_samples=None,\n",
      "                       min_impurity_decrease=0.0, min_impurity_split=None,\n",
      "                       min_samples_leaf=1, min_samples_split=5,\n",
      "                       min_weight_fraction_leaf=0.0, n_estimators=40,\n",
      "                       n_jobs=None, oob_score=False, random_state=None,\n",
      "                       verbose=0, warm_start=False)\n",
      "0.7521135664958788\n",
      "0.673419191919192\n"
     ]
    }
   ],
   "source": [
    "#Best Estimator and Best tune parameters\n",
    "print(clf1.best_estimator_)\n",
    "#Mean cross-validated score of the best_estimator\n",
    "print(clf1.score(X_BOW_TRAIN,y_train))\n",
    "print(clf1.score(X_BOW_test,y_test))"
   ]
  },
  {
   "cell_type": "code",
   "execution_count": 0,
   "metadata": {
    "colab": {},
    "colab_type": "code",
    "id": "CTmj9epWKH1A"
   },
   "outputs": [],
   "source": [
    "best_tune_parameters=[{'n_estimators':[40], 'max_depth':[8] } ]"
   ]
  },
  {
   "cell_type": "markdown",
   "metadata": {
    "colab_type": "text",
    "id": "33T58T4vKH1G"
   },
   "source": [
    "#### 2.5.2 Receiver Operating Characteristic-`(BOW)`"
   ]
  },
  {
   "cell_type": "code",
   "execution_count": 44,
   "metadata": {
    "colab": {
     "base_uri": "https://localhost:8080/",
     "height": 301
    },
    "colab_type": "code",
    "id": "jObnN7nDKH1I",
    "outputId": "70745554-cd80-4219-c4ea-6f554774263a"
   },
   "outputs": [
    {
     "data": {
      "image/png": "[encoded data removed]",
      "text/plain": [
       "<Figure size 432x288 with 1 Axes>"
      ]
     },
     "metadata": {
      "tags": []
     },
     "output_type": "display_data"
    }
   ],
   "source": [
    "# https://scikitlearn.org/stable/modules/generated/sklearn.metrics.roc_curve.html#sklearn.metrics.roc_curve\n",
    "from sklearn.metrics import roc_curve, auc\n",
    "from sklearn.tree import DecisionTreeClassifier\n",
    "from sklearn.metrics import roc_curve, auc\n",
    "\n",
    "clf11= RandomForestClassifier(class_weight = 'balanced',max_depth=8,n_estimators=40)\n",
    "# clfV1=DecisionTreeClassifier (class_weight = 'balanced',max_depth=10,min_samples_split=500)\n",
    "clf11.fit(X_BOW_TRAIN, y_train)\n",
    "# for visulation\n",
    "# clfV1.fit(X_Tfidf_train, y_train)\n",
    "#https://scikitlearn.org/stable/modules/generated/sklearn.linear_model.SGDClassifier.html#sklearn.linear_model.SGDClassifier.decision_function\n",
    "y_train_pred1 = clf11.predict_proba(X_BOW_TRAIN) [:,1]\n",
    "y_test_pred1 = clf11.predict_proba(X_BOW_test) [:,1]\n",
    "train_fpr1, train_tpr1, tr_thresholds1 = roc_curve(y_train, y_train_pred1)\n",
    "test_fpr1, test_tpr1, te_thresholds1 = roc_curve(y_test, y_test_pred1)\n",
    "plt.plot(train_fpr1, train_tpr1, label=\"train AUC =\"+str(auc(train_fpr1, train_tpr1)))\n",
    "plt.plot(test_fpr1, test_tpr1, label=\"test AUC =\"+str(auc(test_fpr1, test_tpr1)))\n",
    "plt.legend()\n",
    "plt.xlabel(\"False Positive Rate\")\n",
    "plt.ylabel(\"True Positive Rate\")\n",
    "plt.title(\"ERROR PLOTS\")\n",
    "plt.grid(True)\n",
    "plt.show()"
   ]
  },
  {
   "cell_type": "markdown",
   "metadata": {
    "colab_type": "text",
    "id": "sQXyb50PKH1M"
   },
   "source": [
    "#### 2.5.3 Confusion matrix-`BOW`"
   ]
  },
  {
   "cell_type": "code",
   "execution_count": 45,
   "metadata": {
    "colab": {
     "base_uri": "https://localhost:8080/",
     "height": 268
    },
    "colab_type": "code",
    "id": "ABsNGARnKH1O",
    "outputId": "02ccd221-b121-4571-e8b3-2d60db3ea7ae"
   },
   "outputs": [
    {
     "data": {
      "image/png": "[encoded data removed]",
      "text/plain": [
       "<Figure size 432x288 with 2 Axes>"
      ]
     },
     "metadata": {
      "tags": []
     },
     "output_type": "display_data"
    }
   ],
   "source": [
    "# https://stackoverflow.com/questions/35572000/how-can-i-plot-a-confusion-matrix\n",
    "#function to get heatmap confusion matrix\n",
    "def get_confusion_matrix(clf,X_te,y_test):\n",
    "    y_pred = clf.predict(X_te)\n",
    "    df_cm = pd.DataFrame(confusion_matrix(y_test, y_pred), index =['Actual NO','Actual YES'],columns =['Predicted NO','Predicted YES'] )\n",
    "    sns.heatmap(df_cm, annot=True,annot_kws={\"size\": 16}, fmt='g')\n",
    "# %%time\n",
    "get_confusion_matrix(clf11,X_BOW_test,y_test)\n"
   ]
  },
  {
   "cell_type": "code",
   "execution_count": 46,
   "metadata": {
    "colab": {
     "base_uri": "https://localhost:8080/",
     "height": 268
    },
    "colab_type": "code",
    "id": "tXMyCgJSKH1T",
    "outputId": "01564692-9b42-4052-d2bb-ba514f574dfa"
   },
   "outputs": [
    {
     "data": {
      "image/png": "[encoded data removed]",
      "text/plain": [
       "<Figure size 432x288 with 2 Axes>"
      ]
     },
     "metadata": {
      "tags": []
     },
     "output_type": "display_data"
    }
   ],
   "source": [
    "# https://stackoverflow.com/questions/35572000/how-can-i-plot-a-confusion-matrix\n",
    "#function to get heatmap confusion matrix\n",
    "def get_confusion_matrix(clf,X_te,y_test):\n",
    "    y_pred = clf.predict(X_te)\n",
    "    df_cm = pd.DataFrame(confusion_matrix(y_test, y_pred), index =['Actual NO','Actual YES'],columns =['Predicted NO','Predicted YES'] )\n",
    "    sns.heatmap(df_cm, annot=True,annot_kws={\"size\": 16}, fmt='g')\n",
    "# %%time\n",
    "get_confusion_matrix(clf11,X_BOW_TRAIN,y_train)"
   ]
  },
  {
   "cell_type": "markdown",
   "metadata": {
    "colab_type": "text",
    "id": "OHSJY6NQKH1Z"
   },
   "source": [
    "#### Selecting the Best features from the model"
   ]
  },
  {
   "cell_type": "code",
   "execution_count": 0,
   "metadata": {
    "colab": {},
    "colab_type": "code",
    "id": "Invx24ouKH1b"
   },
   "outputs": [],
   "source": [
    "# from sklearn.feature_selection import SelectFromModel\n",
    "# from sklearn.linear_model import LogisticRegression\n",
    "# from sklearn.svm import LinearSVC\n",
    "# from sklearn.linear_model import SGDClassifier\n",
    "\n",
    "# selector = SelectFromModel(estimator=SGDClassifier(class_weight = 'balanced')).fit(X_BOW_TRAIN, y_train)\n",
    "# # selector.estimator_.coef_\n",
    "# selector.threshold_\n",
    "# selector.get_support()"
   ]
  },
  {
   "cell_type": "code",
   "execution_count": 47,
   "metadata": {
    "colab": {
     "base_uri": "https://localhost:8080/",
     "height": 34
    },
    "colab_type": "code",
    "id": "BGu6qYUnKH1e",
    "outputId": "1f8bcbf2-c294-4c74-83f2-9956d5077cf7"
   },
   "outputs": [
    {
     "data": {
      "text/plain": [
       "4058"
      ]
     },
     "execution_count": 47,
     "metadata": {
      "tags": []
     },
     "output_type": "execute_result"
    }
   ],
   "source": [
    "x=X_BOW_TRAIN\n",
    "x1=X_BOW_test\n",
    "# To make best use of the memory we are setting the variable names to 'None' and performing garbage collection.\n",
    "X_BOW_TRAIN=None\n",
    "y_BOW_train=None\n",
    "gc.collect()\n",
    "# X_Tfidf_train.shape\n",
    "# X_Tfidf_test.shape"
   ]
  },
  {
   "cell_type": "markdown",
   "metadata": {
    "colab_type": "text",
    "id": "MQ0uf0rRKH1j"
   },
   "source": [
    "#### 2.5.4 Applying GBDT & GridSearchCV on Train data to obtain the best `C`"
   ]
  },
  {
   "cell_type": "code",
   "execution_count": 49,
   "metadata": {
    "colab": {
     "base_uri": "https://localhost:8080/",
     "height": 410
    },
    "colab_type": "code",
    "id": "46bZ5hsvKH1k",
    "outputId": "55a226f0-cdde-4698-8790-dbef753bf4c7"
   },
   "outputs": [
    {
     "data": {
      "image/png": "[encoded data removed]",
      "text/plain": [
       "<Figure size 1440x432 with 4 Axes>"
      ]
     },
     "metadata": {
      "tags": []
     },
     "output_type": "display_data"
    }
   ],
   "source": [
    "from sklearn.metrics import roc_auc_score\n",
    "import matplotlib.pyplot as plt\n",
    "from sklearn.model_selection import train_test_split\n",
    "from sklearn.model_selection import GridSearchCV\n",
    "from sklearn.model_selection import cross_val_score\n",
    "from sklearn.tree import DecisionTreeClassifier\n",
    "from sklearn.ensemble import GradientBoostingClassifier\n",
    "from sklearn.model_selection import RandomizedSearchCV\n",
    "\n",
    "Gt1 = GradientBoostingClassifier(min_samples_split=15)\n",
    "parameters = {'n_estimators': [20,40,60,80,100,200], 'max_depth':[2,3,5,6,7,8,10,11]}\n",
    "clf1 = RandomizedSearchCV(Gt1, parameters, cv=2, scoring='roc_auc',return_train_score=True)\n",
    "se1 = clf1.fit(x, y_train)\n",
    "\n",
    "import seaborn as sns; sns.set()\n",
    "max_scores1 = pd.DataFrame(clf1.cv_results_).groupby(['param_max_depth','param_n_estimators']).max().unstack()[['mean_test_score', 'mean_train_score']]\n",
    "fig, ax = plt.subplots(1,2, figsize=(20,6))\n",
    "sns.heatmap(max_scores1.mean_train_score, annot = True, fmt='.4g', ax=ax[0])\n",
    "sns.heatmap(max_scores1.mean_test_score, annot = True, fmt='.4g', ax=ax[1])\n",
    "ax[0].set_title('Train Set')\n",
    "ax[1].set_title('CV Set')\n",
    "plt.show()\n",
    "\n",
    "# clf1.cv_results_.keys()"
   ]
  },
  {
   "cell_type": "code",
   "execution_count": 50,
   "metadata": {
    "colab": {
     "base_uri": "https://localhost:8080/",
     "height": 221
    },
    "colab_type": "code",
    "id": "By1K3JmyKH1o",
    "outputId": "b5460e22-909f-489a-c1ef-5cfde6064c0a"
   },
   "outputs": [
    {
     "name": "stdout",
     "output_type": "stream",
     "text": [
      "GradientBoostingClassifier(ccp_alpha=0.0, criterion='friedman_mse', init=None,\n",
      "                           learning_rate=0.1, loss='deviance', max_depth=2,\n",
      "                           max_features=None, max_leaf_nodes=None,\n",
      "                           min_impurity_decrease=0.0, min_impurity_split=None,\n",
      "                           min_samples_leaf=1, min_samples_split=15,\n",
      "                           min_weight_fraction_leaf=0.0, n_estimators=200,\n",
      "                           n_iter_no_change=None, presort='deprecated',\n",
      "                           random_state=None, subsample=1.0, tol=0.0001,\n",
      "                           validation_fraction=0.1, verbose=0,\n",
      "                           warm_start=False)\n",
      "0.7434682891512586\n",
      "0.7019293388429751\n"
     ]
    }
   ],
   "source": [
    "#Best Estimator and Best tune parameters\n",
    "print(clf1.best_estimator_)\n",
    "#Mean cross-validated score of the best_estimator\n",
    "print(clf1.score(x,y_train))\n",
    "print(clf1.score(x1,y_test))"
   ]
  },
  {
   "cell_type": "code",
   "execution_count": 0,
   "metadata": {
    "colab": {},
    "colab_type": "code",
    "id": "hVUmaoqLKH1s"
   },
   "outputs": [],
   "source": [
    "best_tune_parameters=[{'n_estimators':[200], 'max_depth':[2] } ]"
   ]
  },
  {
   "cell_type": "markdown",
   "metadata": {
    "colab_type": "text",
    "id": "FzcI4__-KH1w"
   },
   "source": [
    "#### 2.5.5 Receiver Operating Characteristic-`(BOW)`"
   ]
  },
  {
   "cell_type": "code",
   "execution_count": 52,
   "metadata": {
    "colab": {
     "base_uri": "https://localhost:8080/",
     "height": 301
    },
    "colab_type": "code",
    "id": "7Z0o-AtGKH1x",
    "outputId": "6d0d284c-ed50-40c8-9e0c-05f120815bf9"
   },
   "outputs": [
    {
     "data": {
      "image/png": "[encoded data removed]",
      "text/plain": [
       "<Figure size 432x288 with 1 Axes>"
      ]
     },
     "metadata": {
      "tags": []
     },
     "output_type": "display_data"
    }
   ],
   "source": [
    "# https://scikitlearn.org/stable/modules/generated/sklearn.metrics.roc_curve.html#sklearn.metrics.roc_curve\n",
    "from sklearn.metrics import roc_curve, auc\n",
    "from sklearn.tree import DecisionTreeClassifier\n",
    "from sklearn.metrics import roc_curve, auc\n",
    "\n",
    "clf11= GradientBoostingClassifier(max_depth=2,n_estimators=200)\n",
    "# clfV1=DecisionTreeClassifier (class_weight = 'balanced',max_depth=10,min_samples_split=500)\n",
    "clf11.fit(x, y_train)\n",
    "# for visulation\n",
    "# clfV1.fit(X_Tfidf_train, y_train)\n",
    "#https://scikitlearn.org/stable/modules/generated/sklearn.linear_model.SGDClassifier.html#sklearn.linear_model.SGDClassifier.decision_function\n",
    "y_train_pred1 = clf11.predict_proba(x) [:,1]\n",
    "y_test_pred1 = clf11.predict_proba(x1) [:,1]\n",
    "train_fpr1, train_tpr1, tr_thresholds1 = roc_curve(y_train, y_train_pred1)\n",
    "test_fpr1, test_tpr1, te_thresholds1 = roc_curve(y_test, y_test_pred1)\n",
    "plt.plot(train_fpr1, train_tpr1, label=\"train AUC =\"+str(auc(train_fpr1, train_tpr1)))\n",
    "plt.plot(test_fpr1, test_tpr1, label=\"test AUC =\"+str(auc(test_fpr1, test_tpr1)))\n",
    "plt.legend()\n",
    "plt.xlabel(\"False Positive Rate\")\n",
    "plt.ylabel(\"True Positive Rate\")\n",
    "plt.title(\"ERROR PLOTS\")\n",
    "plt.grid(True)\n",
    "plt.show()"
   ]
  },
  {
   "cell_type": "markdown",
   "metadata": {
    "colab_type": "text",
    "id": "pS1rISpoKH11"
   },
   "source": [
    "#### 2.5.6 Confusion matrix-`BOW`"
   ]
  },
  {
   "cell_type": "code",
   "execution_count": 53,
   "metadata": {
    "colab": {
     "base_uri": "https://localhost:8080/",
     "height": 268
    },
    "colab_type": "code",
    "id": "z_tQQHCwKH12",
    "outputId": "72da4fa1-f204-4d70-f7a1-bf48233a4842"
   },
   "outputs": [
    {
     "data": {
      "image/png": "[encoded data removed]",
      "text/plain": [
       "<Figure size 432x288 with 2 Axes>"
      ]
     },
     "metadata": {
      "tags": []
     },
     "output_type": "display_data"
    }
   ],
   "source": [
    "# https://stackoverflow.com/questions/35572000/how-can-i-plot-a-confusion-matrix\n",
    "#function to get heatmap confusion matrix\n",
    "def get_confusion_matrix(clf,X_te,y_test):\n",
    "    y_pred = clf.predict(X_te)\n",
    "    df_cm = pd.DataFrame(confusion_matrix(y_test, y_pred), index =['Actual NO','Actual YES'],columns =['Predicted NO','Predicted YES'] )\n",
    "    sns.heatmap(df_cm, annot=True,annot_kws={\"size\": 16}, fmt='g')\n",
    "# %%time\n",
    "get_confusion_matrix(clf11,x1,y_test)\n"
   ]
  },
  {
   "cell_type": "code",
   "execution_count": 54,
   "metadata": {
    "colab": {
     "base_uri": "https://localhost:8080/",
     "height": 268
    },
    "colab_type": "code",
    "id": "8QbeMaSnKH1-",
    "outputId": "f882060a-3eca-4435-c136-4a2119448b0f"
   },
   "outputs": [
    {
     "data": {
      "image/png": "[encoded data removed]",
      "text/plain": [
       "<Figure size 432x288 with 2 Axes>"
      ]
     },
     "metadata": {
      "tags": []
     },
     "output_type": "display_data"
    }
   ],
   "source": [
    "# https://stackoverflow.com/questions/35572000/how-can-i-plot-a-confusion-matrix\n",
    "#function to get heatmap confusion matrix\n",
    "def get_confusion_matrix(clf,X_te,y_test):\n",
    "    y_pred = clf.predict(X_te)\n",
    "    df_cm = pd.DataFrame(confusion_matrix(y_test, y_pred), index =['Actual NO','Actual YES'],columns =['Predicted NO','Predicted YES'] )\n",
    "    sns.heatmap(df_cm, annot=True,annot_kws={\"size\": 16}, fmt='g')\n",
    "# %%time\n",
    "get_confusion_matrix(clf11,x,y_train)"
   ]
  },
  {
   "cell_type": "code",
   "execution_count": 0,
   "metadata": {
    "colab": {
     "base_uri": "https://localhost:8080/",
     "height": 34
    },
    "colab_type": "code",
    "id": "omWEL1_NKH2C",
    "outputId": "0b7d4ac7-e403-4f8a-d100-425b23ab4b07"
   },
   "outputs": [
    {
     "data": {
      "text/plain": [
       "4049"
      ]
     },
     "execution_count": 59,
     "metadata": {
      "tags": []
     },
     "output_type": "execute_result"
    }
   ],
   "source": [
    "#To make best use of the memory we are setting the variable names to 'None' and performing garbage collection.\n",
    "x=None\n",
    "x1=None\n",
    "gc.collect()"
   ]
  },
  {
   "cell_type": "markdown",
   "metadata": {
    "colab_type": "text",
    "id": "5gR5UC_CKH2G"
   },
   "source": [
    "#### 2.6 TFIDF vectorizer"
   ]
  },
  {
   "cell_type": "markdown",
   "metadata": {
    "colab_type": "text",
    "id": "OkX_Kd3IKH2H"
   },
   "source": [
    "#### 2.6.1 TFIDF vectorizer:Essay"
   ]
  },
  {
   "cell_type": "code",
   "execution_count": 55,
   "metadata": {
    "colab": {
     "base_uri": "https://localhost:8080/",
     "height": 136
    },
    "colab_type": "code",
    "id": "nGTGnU19KH2J",
    "outputId": "e88146b2-bfbf-443b-bdfe-5ad5f9c66684"
   },
   "outputs": [
    {
     "name": "stdout",
     "output_type": "stream",
     "text": [
      "(13400, 21) (13400,)\n",
      "(6600, 21) (6600,)\n",
      "====================================================================================================\n",
      "After vectorizations\n",
      "(13400, 5000) (13400,)\n",
      "(6600, 5000) (6600,)\n",
      "====================================================================================================\n"
     ]
    }
   ],
   "source": [
    "print(X_train.shape, y_train.shape)\n",
    "# print(X_cv.shape, y_cv.shape)\n",
    "print(X_test.shape, y_test.shape)\n",
    "print(\"=\"*100)\n",
    "from sklearn.feature_extraction.text import TfidfVectorizer\n",
    "vectorizer = TfidfVectorizer(min_df=10,ngram_range=(2,2), max_features=5000)\n",
    "vectorizer.fit(X_train['essay'].values) # fit has to happen only on train data\n",
    "# we use the fitted Countvectorizer to convert the text to vector\n",
    "X_train_essay_Tfidf = vectorizer.transform(X_train['essay'].values)\n",
    "# X_cv_essay_Tfidf = vectorizer.transform(X_cv['essay'].values)\n",
    "X_test_essay_Tfidf = vectorizer.transform(X_test['essay'].values)\n",
    "print(\"After vectorizations\")\n",
    "print(X_train_essay_Tfidf.shape, y_train.shape)\n",
    "# print(X_cv_essay_Tfidf.shape, y_cv.shape)\n",
    "print(X_test_essay_Tfidf.shape, y_test.shape)\n",
    "print(\"=\"*100)"
   ]
  },
  {
   "cell_type": "markdown",
   "metadata": {
    "colab_type": "text",
    "id": "uX51vmlaKH2O"
   },
   "source": [
    "#### 2.6.2 TFIDF vectorizer:Project Title"
   ]
  },
  {
   "cell_type": "code",
   "execution_count": 56,
   "metadata": {
    "colab": {
     "base_uri": "https://localhost:8080/",
     "height": 102
    },
    "colab_type": "code",
    "id": "i9J3bTJAKH2Q",
    "outputId": "c80bda9f-78de-452a-db54-76eaf3d5943f"
   },
   "outputs": [
    {
     "name": "stdout",
     "output_type": "stream",
     "text": [
      "====================================================================================================\n",
      "After vectorizations\n",
      "(13400, 335) (13400,)\n",
      "(6600, 335) (6600,)\n",
      "====================================================================================================\n"
     ]
    }
   ],
   "source": [
    "# print(X_train.shape, y_train.shape)\n",
    "# print(X_cv.shape, y_cv.shape)\n",
    "# print(X_test.shape, y_test.shape)\n",
    "\n",
    "print(\"=\"*100)\n",
    "\n",
    "# We are considering only the words which appeared in at least 10 documents(rows or projects).\n",
    "vectorizer = TfidfVectorizer(min_df=10,ngram_range=(2,2), max_features=5000)\n",
    "vectorizer.fit(X_train['project_title'].values) # fit has to happen only on train data\n",
    "\n",
    "# we use the fitted Countvectorizer to convert the text to vector\n",
    "X_train_project_title_tfidf = vectorizer.transform(X_train['project_title'].values)\n",
    "# X_cv_project_title_tfidf = vectorizer.transform(X_cv['project_title'].values)\n",
    "X_test_project_title_tfidf = vectorizer.transform(X_test['project_title'].values)\n",
    "\n",
    "print(\"After vectorizations\")\n",
    "print(X_train_project_title_tfidf.shape, y_train.shape)\n",
    "# print(X_cv_project_title_tfidf.shape, y_cv.shape)\n",
    "print(X_test_project_title_tfidf.shape, y_test.shape)\n",
    "print(\"=\"*100)"
   ]
  },
  {
   "cell_type": "code",
   "execution_count": 0,
   "metadata": {
    "colab": {},
    "colab_type": "code",
    "id": "3dFs6ydJKH2U"
   },
   "outputs": [],
   "source": [
    "\n",
    "X_Tfidf_train = hstack(( X_train_project_title_tfidf,X_train_essay_Tfidf,X_train_digits_in_summary_norm,X_train_teacher_number_of_previously_posted_projects_norm,X_train_price_norm,X_train_St_0_cl_cat,X_train_St_1_cl_cat,X_train_St_0_sub_cat,X_train_St_1_sub_cat,X_train_St_0_sc_st,X_train_St_1_sc_st,X_train_St_0_pgc,X_train_St_1_pgc,X_train_St_0_tp,X_train_St_1_tp\n",
    "))\n",
    "X_Tfidf_train=X_Tfidf_train.todense()\n",
    "X_Tfidf_train=np.array(X_Tfidf_train)\n",
    "\n",
    "# X_Tfidf_cv = hstack(( X_cv_project_title_tfidf,X_cv_essay_Tfidf,X_cv_digits_in_summary_norm,X_cv_teacher_number_of_previously_posted_projects_norm,X_cv_price_norm,X_cv_teacher_prefix_ohe,X_cv_project_grade_category_ohe,X_cv_School_state_ohe,X_cv_clean_sub_cat_ohe,X_cv_clean_cat_ohe))\n",
    "# X_Tfidf_cv=X_Tfidf_cv.todense()\n",
    "# X_Tfidf_cv=np.array(X_Tfidf_cv)\n",
    "\n",
    "X_Tfidf_test = hstack(( X_test_project_title_tfidf,X_test_essay_Tfidf,X_test_digits_in_summary_norm,X_test_teacher_number_of_previously_posted_projects_norm,X_test_price_norm,X_test_St_0_cl_cat,X_test_St_1_cl_cat,X_test_St_0_sub_cat,X_test_St_1_sub_cat,X_test_St_0_sc_st,X_test_St_1_sc_st,X_test_St_0_pgc,X_test_St_1_pgc,X_test_St_0_tp,X_test_St_1_tp\n",
    "))\n",
    "X_Tfidf_test=X_Tfidf_test.todense()\n",
    "X_Tfidf_test=np.array(X_Tfidf_test)\n"
   ]
  },
  {
   "cell_type": "markdown",
   "metadata": {
    "colab_type": "text",
    "id": "p7-dzZdfKH2a"
   },
   "source": [
    "####  2.6.3 Applying Random Forest  on `TFIDF`, `SET 2`"
   ]
  },
  {
   "cell_type": "markdown",
   "metadata": {
    "colab_type": "text",
    "id": "3y2vTpcWKH2b"
   },
   "source": [
    "#### 2.5.1 Applying Random Forest GridSearchCV on Train data to obtain the best `C`"
   ]
  },
  {
   "cell_type": "code",
   "execution_count": 58,
   "metadata": {
    "colab": {
     "base_uri": "https://localhost:8080/",
     "height": 410
    },
    "colab_type": "code",
    "id": "XloQnbOYKH2d",
    "outputId": "931bf338-80be-434b-d63d-f0f93b6dbf7e"
   },
   "outputs": [
    {
     "data": {
      "image/png": "[encoded data removed]",
      "text/plain": [
       "<Figure size 1440x432 with 4 Axes>"
      ]
     },
     "metadata": {
      "tags": []
     },
     "output_type": "display_data"
    }
   ],
   "source": [
    "from sklearn.metrics import roc_auc_score\n",
    "import matplotlib.pyplot as plt\n",
    "from sklearn.model_selection import train_test_split\n",
    "from sklearn.model_selection import GridSearchCV\n",
    "from sklearn.model_selection import cross_val_score\n",
    "# from sklearn.multioutput import MultiOutputClassifier\n",
    "# from sklearn.datasets import make_multilabel_classification\n",
    "from sklearn.tree import DecisionTreeClassifier\n",
    "from sklearn.ensemble import RandomForestClassifier\n",
    "\n",
    "Gt1 = RandomForestClassifier(class_weight='balanced',min_samples_split=5)\n",
    "parameters = {'n_estimators': [5,10,20,25,30,40,60], 'max_depth':[2, 3, 4, 5, 7, 8, 10]}\n",
    "clf1 = RandomizedSearchCV(Gt1, parameters, cv=2, scoring='roc_auc',return_train_score=True)\n",
    "se1 = clf1.fit(X_Tfidf_train, y_train)\n",
    "\n",
    "import seaborn as sns; sns.set()\n",
    "max_scores1 = pd.DataFrame(clf1.cv_results_).groupby(['param_max_depth','param_n_estimators']).max().unstack()[['mean_test_score', 'mean_train_score']]\n",
    "fig, ax = plt.subplots(1,2, figsize=(20,6))\n",
    "sns.heatmap(max_scores1.mean_train_score, annot = True, fmt='.4g', ax=ax[0])\n",
    "sns.heatmap(max_scores1.mean_test_score, annot = True, fmt='.4g', ax=ax[1])\n",
    "ax[0].set_title('Train Set')\n",
    "ax[1].set_title('CV Set')\n",
    "plt.show()\n",
    "\n",
    "# clf1.cv_results_.keys()"
   ]
  },
  {
   "cell_type": "code",
   "execution_count": 59,
   "metadata": {
    "colab": {
     "base_uri": "https://localhost:8080/",
     "height": 187
    },
    "colab_type": "code",
    "id": "gLluaFhJKH2i",
    "outputId": "961a2f63-09a4-4f7a-ecc5-6962356e2250"
   },
   "outputs": [
    {
     "name": "stdout",
     "output_type": "stream",
     "text": [
      "RandomForestClassifier(bootstrap=True, ccp_alpha=0.0, class_weight='balanced',\n",
      "                       criterion='gini', max_depth=7, max_features='auto',\n",
      "                       max_leaf_nodes=None, max_samples=None,\n",
      "                       min_impurity_decrease=0.0, min_impurity_split=None,\n",
      "                       min_samples_leaf=1, min_samples_split=5,\n",
      "                       min_weight_fraction_leaf=0.0, n_estimators=60,\n",
      "                       n_jobs=None, oob_score=False, random_state=None,\n",
      "                       verbose=0, warm_start=False)\n",
      "0.7582217308977501\n",
      "0.670208126721763\n"
     ]
    }
   ],
   "source": [
    "#Best Estimator and Best tune parameters\n",
    "print(clf1.best_estimator_)\n",
    "#Mean cross-validated score of the best_estimator\n",
    "print(clf1.score(X_Tfidf_train,y_train))\n",
    "print(clf1.score(X_Tfidf_test,y_test))"
   ]
  },
  {
   "cell_type": "code",
   "execution_count": 0,
   "metadata": {
    "colab": {},
    "colab_type": "code",
    "id": "DGRIoMzpKH2l"
   },
   "outputs": [],
   "source": [
    "best_tune_parameters=[{'n_estimators':[60], 'max_depth':[7] } ]"
   ]
  },
  {
   "cell_type": "markdown",
   "metadata": {
    "colab_type": "text",
    "id": "CFPMnvfnKH2o"
   },
   "source": [
    "#### 2.5.2 Receiver Operating Characteristic-`(Tfidf)`"
   ]
  },
  {
   "cell_type": "code",
   "execution_count": 61,
   "metadata": {
    "colab": {
     "base_uri": "https://localhost:8080/",
     "height": 301
    },
    "colab_type": "code",
    "id": "dN6MegxNKH2p",
    "outputId": "727a10c1-21f5-4ea7-8d88-283e12e04add"
   },
   "outputs": [
    {
     "data": {
      "image/png": "[encoded data removed]",
      "text/plain": [
       "<Figure size 432x288 with 1 Axes>"
      ]
     },
     "metadata": {
      "tags": []
     },
     "output_type": "display_data"
    }
   ],
   "source": [
    "# https://scikitlearn.org/stable/modules/generated/sklearn.metrics.roc_curve.html#sklearn.metrics.roc_curve\n",
    "from sklearn.metrics import roc_curve, auc\n",
    "from sklearn.tree import DecisionTreeClassifier\n",
    "from sklearn.metrics import roc_curve, auc\n",
    "\n",
    "clf11= RandomForestClassifier(class_weight = 'balanced',max_depth=7,n_estimators=60)\n",
    "# clfV1=DecisionTreeClassifier (class_weight = 'balanced',max_depth=10,min_samples_split=500)\n",
    "clf11.fit(X_Tfidf_train, y_train)\n",
    "# for visulation\n",
    "# clfV1.fit(X_Tfidf_train, y_train)\n",
    "#https://scikitlearn.org/stable/modules/generated/sklearn.linear_model.SGDClassifier.html#sklearn.linear_model.SGDClassifier.decision_function\n",
    "y_train_pred1 = clf11.predict_proba(X_Tfidf_train) [:,1]\n",
    "y_test_pred1 = clf11.predict_proba(X_Tfidf_test) [:,1]\n",
    "train_fpr1, train_tpr1, tr_thresholds1 = roc_curve(y_train, y_train_pred1)\n",
    "test_fpr1, test_tpr1, te_thresholds1 = roc_curve(y_test, y_test_pred1)\n",
    "plt.plot(train_fpr1, train_tpr1, label=\"train AUC =\"+str(auc(train_fpr1, train_tpr1)))\n",
    "plt.plot(test_fpr1, test_tpr1, label=\"test AUC =\"+str(auc(test_fpr1, test_tpr1)))\n",
    "plt.legend()\n",
    "plt.xlabel(\"False Positive Rate\")\n",
    "plt.ylabel(\"True Positive Rate\")\n",
    "plt.title(\"ERROR PLOTS\")\n",
    "plt.grid(True)\n",
    "plt.show()"
   ]
  },
  {
   "cell_type": "markdown",
   "metadata": {
    "colab_type": "text",
    "id": "_1gApEMPKH2t"
   },
   "source": [
    "#### 2.5.3 Confusion matrix-`Tfidf`"
   ]
  },
  {
   "cell_type": "code",
   "execution_count": 62,
   "metadata": {
    "colab": {
     "base_uri": "https://localhost:8080/",
     "height": 268
    },
    "colab_type": "code",
    "id": "pfZCI6p4KH2w",
    "outputId": "a0f3a951-0fdb-488e-a034-6f2e5d689df8"
   },
   "outputs": [
    {
     "data": {
      "image/png": "[encoded data removed]",
      "text/plain": [
       "<Figure size 432x288 with 2 Axes>"
      ]
     },
     "metadata": {
      "tags": []
     },
     "output_type": "display_data"
    }
   ],
   "source": [
    "# https://stackoverflow.com/questions/35572000/how-can-i-plot-a-confusion-matrix\n",
    "#function to get heatmap confusion matrix\n",
    "def get_confusion_matrix(clf,X_te,y_test):\n",
    "    y_pred = clf.predict(X_te)\n",
    "    df_cm = pd.DataFrame(confusion_matrix(y_test, y_pred), index =['Actual NO','Actual YES'],columns =['Predicted NO','Predicted YES'] )\n",
    "    sns.heatmap(df_cm, annot=True,annot_kws={\"size\": 16}, fmt='g')\n",
    "# %%time\n",
    "get_confusion_matrix(clf11,X_Tfidf_test,y_test)\n"
   ]
  },
  {
   "cell_type": "code",
   "execution_count": 63,
   "metadata": {
    "colab": {
     "base_uri": "https://localhost:8080/",
     "height": 268
    },
    "colab_type": "code",
    "id": "ErPxcv7AKH21",
    "outputId": "5e7e2bda-f9ef-4f4e-f717-015022634028"
   },
   "outputs": [
    {
     "data": {
      "image/png": "[encoded data removed]",
      "text/plain": [
       "<Figure size 432x288 with 2 Axes>"
      ]
     },
     "metadata": {
      "tags": []
     },
     "output_type": "display_data"
    }
   ],
   "source": [
    "# https://stackoverflow.com/questions/35572000/how-can-i-plot-a-confusion-matrix\n",
    "#function to get heatmap confusion matrix\n",
    "def get_confusion_matrix(clf,X_te,y_test):\n",
    "    y_pred = clf.predict(X_te)\n",
    "    df_cm = pd.DataFrame(confusion_matrix(y_test, y_pred), index =['Actual NO','Actual YES'],columns =['Predicted NO','Predicted YES'] )\n",
    "    sns.heatmap(df_cm, annot=True,annot_kws={\"size\": 16}, fmt='g')\n",
    "# %%time\n",
    "get_confusion_matrix(clf11,X_Tfidf_train,y_train)"
   ]
  },
  {
   "cell_type": "markdown",
   "metadata": {
    "colab_type": "text",
    "id": "Qy3_9ZS3KH24"
   },
   "source": [
    "#### Selecting the Best features from the model"
   ]
  },
  {
   "cell_type": "code",
   "execution_count": 0,
   "metadata": {
    "colab": {},
    "colab_type": "code",
    "id": "vFvMLzEsKH26"
   },
   "outputs": [],
   "source": [
    "# from sklearn.feature_selection import SelectFromModel\n",
    "# from sklearn.linear_model import LogisticRegression\n",
    "# from sklearn.linear_model import SGDClassifier\n",
    "\n",
    "# selector = SelectFromModel(estimator=SGDClassifier(max_depth=None,class_weight = 'balanced')).fit(X_Tfidf_train, y_train)\n",
    "# # selector.estimator_.coef_\n",
    "# selector.threshold_\n",
    "# selector.get_support()"
   ]
  },
  {
   "cell_type": "code",
   "execution_count": 0,
   "metadata": {
    "colab": {},
    "colab_type": "code",
    "id": "Q577HnsWKH29"
   },
   "outputs": [],
   "source": [
    "x=X_Tfidf_train\n",
    "x1=X_Tfidf_test\n",
    "X_Tfidf_train=None\n",
    "X_Tfidf_test=None\n",
    "# X_Tfidf_train.shape\n",
    "# X_Tfidf_test.shape"
   ]
  },
  {
   "cell_type": "markdown",
   "metadata": {
    "colab_type": "text",
    "id": "AL3Zr_qhKH3B"
   },
   "source": [
    "#### 2.5.4 Applying GBDT & GridSearchCV on Train data to obtain the best `C`"
   ]
  },
  {
   "cell_type": "code",
   "execution_count": 65,
   "metadata": {
    "colab": {
     "base_uri": "https://localhost:8080/",
     "height": 410
    },
    "colab_type": "code",
    "id": "Iabjlt2XKH3D",
    "outputId": "611fe9e8-231c-40d5-ae59-acb5971d03d8"
   },
   "outputs": [
    {
     "data": {
      "image/png": "[encoded data removed]",
      "text/plain": [
       "<Figure size 1440x432 with 4 Axes>"
      ]
     },
     "metadata": {
      "tags": []
     },
     "output_type": "display_data"
    }
   ],
   "source": [
    "from sklearn.metrics import roc_auc_score\n",
    "import matplotlib.pyplot as plt\n",
    "from sklearn.model_selection import train_test_split\n",
    "from sklearn.model_selection import GridSearchCV\n",
    "from sklearn.model_selection import cross_val_score\n",
    "from sklearn.tree import DecisionTreeClassifier\n",
    "from sklearn.ensemble import GradientBoostingClassifier\n",
    "\n",
    "Gt1 = GradientBoostingClassifier(min_samples_split=15)\n",
    "parameters = {'n_estimators': [5,10,20,40,60,80,100,150,200],'max_depth':[2,3,4,5,6,7,8,10,11] }\n",
    "clf1 = RandomizedSearchCV(Gt1, parameters, cv=2, scoring='roc_auc',return_train_score=True)\n",
    "se1 = clf1.fit(x, y_train)\n",
    "\n",
    "import seaborn as sns; sns.set()\n",
    "max_scores1 = pd.DataFrame(clf1.cv_results_).groupby(['param_max_depth','param_n_estimators']).max().unstack()[['mean_test_score', 'mean_train_score']]\n",
    "fig, ax = plt.subplots(1,2, figsize=(20,6))\n",
    "sns.heatmap(max_scores1.mean_train_score, annot = True, fmt='.4g', ax=ax[0])\n",
    "sns.heatmap(max_scores1.mean_test_score, annot = True, fmt='.4g', ax=ax[1])\n",
    "ax[0].set_title('Train Set')\n",
    "ax[1].set_title('CV Set')\n",
    "plt.show()\n",
    "\n",
    "# clf1.cv_results_.keys()"
   ]
  },
  {
   "cell_type": "code",
   "execution_count": 66,
   "metadata": {
    "colab": {
     "base_uri": "https://localhost:8080/",
     "height": 221
    },
    "colab_type": "code",
    "id": "823Lyh0TKH3H",
    "outputId": "14a2343e-236f-416a-c106-2696df699a86"
   },
   "outputs": [
    {
     "name": "stdout",
     "output_type": "stream",
     "text": [
      "GradientBoostingClassifier(ccp_alpha=0.0, criterion='friedman_mse', init=None,\n",
      "                           learning_rate=0.1, loss='deviance', max_depth=5,\n",
      "                           max_features=None, max_leaf_nodes=None,\n",
      "                           min_impurity_decrease=0.0, min_impurity_split=None,\n",
      "                           min_samples_leaf=1, min_samples_split=15,\n",
      "                           min_weight_fraction_leaf=0.0, n_estimators=80,\n",
      "                           n_iter_no_change=None, presort='deprecated',\n",
      "                           random_state=None, subsample=1.0, tol=0.0001,\n",
      "                           validation_fraction=0.1, verbose=0,\n",
      "                           warm_start=False)\n",
      "0.8270651258632212\n",
      "0.6948926997245178\n"
     ]
    }
   ],
   "source": [
    "#Best Estimator and Best tune parameters\n",
    "print(clf1.best_estimator_)\n",
    "#Mean cross-validated score of the best_estimator\n",
    "print(clf1.score(x,y_train))\n",
    "print(clf1.score(x1,y_test))"
   ]
  },
  {
   "cell_type": "code",
   "execution_count": 0,
   "metadata": {
    "colab": {},
    "colab_type": "code",
    "id": "3ph4uWwwKH3P"
   },
   "outputs": [],
   "source": [
    "best_tune_parameters=[{'n_estimators':[80], 'max_depth':[5] } ]"
   ]
  },
  {
   "cell_type": "markdown",
   "metadata": {
    "colab_type": "text",
    "id": "ZfYy3r-XKH3U"
   },
   "source": [
    "#### 2.5.5 Receiver Operating Characteristic-`(Tfidf)`"
   ]
  },
  {
   "cell_type": "code",
   "execution_count": 68,
   "metadata": {
    "colab": {
     "base_uri": "https://localhost:8080/",
     "height": 301
    },
    "colab_type": "code",
    "id": "D81FnU2_KH3V",
    "outputId": "028a9539-0fbc-4c7d-c9ea-66c18603dc05"
   },
   "outputs": [
    {
     "data": {
      "image/png": "[encoded data removed]",
      "text/plain": [
       "<Figure size 432x288 with 1 Axes>"
      ]
     },
     "metadata": {
      "tags": []
     },
     "output_type": "display_data"
    }
   ],
   "source": [
    "# https://scikitlearn.org/stable/modules/generated/sklearn.metrics.roc_curve.html#sklearn.metrics.roc_curve\n",
    "from sklearn.metrics import roc_curve, auc\n",
    "from sklearn.tree import DecisionTreeClassifier\n",
    "from sklearn.metrics import roc_curve, auc\n",
    "\n",
    "clf11= GradientBoostingClassifier(max_depth=5,n_estimators=80)\n",
    "# clfV1=DecisionTreeClassifier (class_weight = 'balanced',max_depth=10,min_samples_split=500)\n",
    "clf11.fit(x, y_train)\n",
    "# for visulation\n",
    "# clfV1.fit(X_Tfidf_train, y_train)\n",
    "#https://scikitlearn.org/stable/modules/generated/sklearn.linear_model.SGDClassifier.html#sklearn.linear_model.SGDClassifier.decision_function\n",
    "y_train_pred1 = clf11.predict_proba(x) [:,1]\n",
    "y_test_pred1 = clf11.predict_proba(x1) [:,1]\n",
    "train_fpr1, train_tpr1, tr_thresholds1 = roc_curve(y_train, y_train_pred1)\n",
    "test_fpr1, test_tpr1, te_thresholds1 = roc_curve(y_test, y_test_pred1)\n",
    "plt.plot(train_fpr1, train_tpr1, label=\"train AUC =\"+str(auc(train_fpr1, train_tpr1)))\n",
    "plt.plot(test_fpr1, test_tpr1, label=\"test AUC =\"+str(auc(test_fpr1, test_tpr1)))\n",
    "plt.legend()\n",
    "plt.xlabel(\"False Positive Rate\")\n",
    "plt.ylabel(\"True Positive Rate\")\n",
    "plt.title(\"ERROR PLOTS\")\n",
    "plt.grid(True)\n",
    "plt.show()"
   ]
  },
  {
   "cell_type": "markdown",
   "metadata": {
    "colab_type": "text",
    "id": "z8YjzI9PKH3a"
   },
   "source": [
    "#### 2.5.6 Confusion matrix-`Tfidf`"
   ]
  },
  {
   "cell_type": "code",
   "execution_count": 69,
   "metadata": {
    "colab": {
     "base_uri": "https://localhost:8080/",
     "height": 268
    },
    "colab_type": "code",
    "id": "-RYmyDBRKH3c",
    "outputId": "49d59615-dde1-4cb4-8ed8-ddf69dd3c430"
   },
   "outputs": [
    {
     "data": {
      "image/png": "[encoded data removed]",
      "text/plain": [
       "<Figure size 432x288 with 2 Axes>"
      ]
     },
     "metadata": {
      "tags": []
     },
     "output_type": "display_data"
    }
   ],
   "source": [
    "# https://stackoverflow.com/questions/35572000/how-can-i-plot-a-confusion-matrix\n",
    "#function to get heatmap confusion matrix\n",
    "def get_confusion_matrix(clf,X_te,y_test):\n",
    "    y_pred = clf.predict(X_te)\n",
    "    df_cm = pd.DataFrame(confusion_matrix(y_test, y_pred), index =['Actual NO','Actual YES'],columns =['Predicted NO','Predicted YES'] )\n",
    "    sns.heatmap(df_cm, annot=True,annot_kws={\"size\": 16}, fmt='g')\n",
    "# %%time\n",
    "get_confusion_matrix(clf11,x1,y_test)\n"
   ]
  },
  {
   "cell_type": "code",
   "execution_count": 70,
   "metadata": {
    "colab": {
     "base_uri": "https://localhost:8080/",
     "height": 270
    },
    "colab_type": "code",
    "id": "I_uskOmmKH3g",
    "outputId": "17df8279-d244-4485-8a57-ccd804ae75b1"
   },
   "outputs": [
    {
     "data": {
      "image/png": "[encoded data removed]",
      "text/plain": [
       "<Figure size 432x288 with 2 Axes>"
      ]
     },
     "metadata": {
      "tags": []
     },
     "output_type": "display_data"
    }
   ],
   "source": [
    "# https://stackoverflow.com/questions/35572000/how-can-i-plot-a-confusion-matrix\n",
    "#function to get heatmap confusion matrix\n",
    "def get_confusion_matrix(clf,X_te,y_test):\n",
    "    y_pred = clf.predict(X_te)\n",
    "    df_cm = pd.DataFrame(confusion_matrix(y_test, y_pred), index =['Actual NO','Actual YES'],columns =['Predicted NO','Predicted YES'] )\n",
    "    sns.heatmap(df_cm, annot=True,annot_kws={\"size\": 16}, fmt='g')\n",
    "# %%time\n",
    "get_confusion_matrix(clf11,x,y_train)\n"
   ]
  },
  {
   "cell_type": "code",
   "execution_count": 2,
   "metadata": {
    "colab": {
     "base_uri": "https://localhost:8080/",
     "height": 119
    },
    "colab_type": "code",
    "id": "In4ww-znKH3k",
    "outputId": "c455b1b6-98a8-4ef3-fcdc-7dd075364e1a"
   },
   "outputs": [
    {
     "name": "stdout",
     "output_type": "stream",
     "text": [
      "+--------------------+-------+--------------+-----------+----------+\n",
      "|     Vectorizer     | Model | n_estimators | max_depth | Test-AUC |\n",
      "+--------------------+-------+--------------+-----------+----------+\n",
      "|        BOW         |   RF  |      40      |     8     |  68.16   |\n",
      "|        BOW         |  GBDT |     200      |     2     |  70.16   |\n",
      "|       TFIDF        |   RF  |      60      |     7     |  68.16   |\n",
      "|       TFIDF        |  GBDT |      80      |     5     |  69.67   |\n",
      "| TFIDF_weighted_W2V |   RF  |      45      |     3     |  57.45   |\n",
      "| TFIDF_weighted_W2V |  GBDT |      80      |     2     |   58.8   |\n",
      "|      AVG_W2V       |   RF  |      45      |     5     |  58.07   |\n",
      "|      AVG_W2V       |  GBDT |      60      |     4     |   58.2   |\n",
      "+--------------------+-------+--------------+-----------+----------+\n"
     ]
    }
   ],
   "source": [
    "#http://zetcode.com/python/prettytable/\n",
    "from prettytable import PrettyTable\n",
    "    \n",
    "x = PrettyTable()\n",
    "x.field_names = [\"Vectorizer\",\"Model\", \"n_estimators\",\"max_depth\",\"Test-AUC\"]\n",
    "\n",
    "\n",
    "x.add_row([\"BOW \",\"RF\", '40','8', 68.16])\n",
    "x.add_row([\"BOW \",\"GBDT\", '200','2', 70.16])\n",
    "x.add_row([\"TFIDF\",\"RF\", '60','7', 68.16])\n",
    "x.add_row([\"TFIDF\",\"GBDT\", '80','5', 69.67])\n",
    "x.add_row([\"TFIDF_weighted_W2V\",\"RF\", '45','3', 57.45])\n",
    "x.add_row([\"TFIDF_weighted_W2V\",\"GBDT\", '80','2', 58.80])\n",
    "x.add_row([\"AVG_W2V\",\"RF\", '45','5', 58.07])\n",
    "x.add_row([\"AVG_W2V\",\"GBDT\", '60','4', 58.20])\n",
    "\n",
    "print(x) "
   ]
  }
 ],
 "metadata": {
  "accelerator": "GPU",
  "colab": {
   "collapsed_sections": [],
   "name": "Donors_Choose_RF_ GBDT_Assignment_8_BOW_TFIDF .ipynb",
   "provenance": []
  },
  "kernelspec": {
   "display_name": "Python 3",
   "language": "python",
   "name": "python3"
  },
  "language_info": {
   "codemirror_mode": {
    "name": "ipython",
    "version": 3
   },
   "file_extension": ".py",
   "mimetype": "text/x-python",
   "name": "python",
   "nbconvert_exporter": "python",
   "pygments_lexer": "ipython3",
   "version": "3.7.1"
  }
 },
 "nbformat": 4,
 "nbformat_minor": 1
}
