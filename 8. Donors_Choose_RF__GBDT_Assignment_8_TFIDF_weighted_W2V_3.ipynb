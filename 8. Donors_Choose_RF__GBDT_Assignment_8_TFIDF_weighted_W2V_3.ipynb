{
 "cells": [
  {
   "cell_type": "markdown",
   "metadata": {
    "colab_type": "text",
    "id": "SFq8I9UE5WHW"
   },
   "source": [
    "#### Random Forest and GBDT Algorithm on Donors_Choose dataset"
   ]
  },
  {
   "cell_type": "code",
   "execution_count": 0,
   "metadata": {
    "colab": {
     "base_uri": "https://localhost:8080/",
     "height": 122
    },
    "colab_type": "code",
    "id": "ho_BkIvC5d6h",
    "outputId": "c4e531cd-7f8e-4647-a71b-a18b2fba2f1c"
   },
   "outputs": [
    {
     "name": "stdout",
     "output_type": "stream",
     "text": [
      "Go to this URL in a browser: https://accounts.google.com/o/oauth2/auth?client_id=947318989803-6bn6qk8qdgf4n4g3pfee6491hc0brc4i.apps.googleusercontent.com&redirect_uri=urn%3aietf%3awg%3aoauth%3a2.0%3aoob&response_type=code&scope=email%20https%3a%2f%2fwww.googleapis.com%2fauth%2fdocs.test%20https%3a%2f%2fwww.googleapis.com%2fauth%2fdrive%20https%3a%2f%2fwww.googleapis.com%2fauth%2fdrive.photos.readonly%20https%3a%2f%2fwww.googleapis.com%2fauth%2fpeopleapi.readonly\n",
      "\n",
      "Enter your authorization code:\n",
      "··········\n",
      "Mounted at /content/drive\n"
     ]
    }
   ],
   "source": [
    "from google.colab import drive\n",
    "drive.mount('/content/drive')"
   ]
  },
  {
   "cell_type": "code",
   "execution_count": 0,
   "metadata": {
    "colab": {},
    "colab_type": "code",
    "id": "6AhCNPNg5WHd"
   },
   "outputs": [],
   "source": [
    "%matplotlib inline\n",
    "import warnings\n",
    "warnings.filterwarnings(\"ignore\")\n",
    "import sqlite3\n",
    "import pandas as pd\n",
    "import numpy as np\n",
    "import nltk\n",
    "import gc\n",
    "gc.enable()\n",
    "gc.DEBUG_SAVEALL\n",
    "import string\n",
    "import matplotlib.pyplot as plt\n",
    "import seaborn as sns\n",
    "from sklearn.feature_extraction.text import TfidfTransformer\n",
    "from sklearn.feature_extraction.text import TfidfVectorizer\n",
    "\n",
    "from sklearn.feature_extraction.text import CountVectorizer\n",
    "from sklearn.metrics import confusion_matrix\n",
    "from sklearn import metrics\n",
    "from sklearn.metrics import roc_curve, auc\n",
    "from nltk.stem.porter import PorterStemmer\n",
    "\n",
    "import re\n",
    "# Tutorial about Python regular expressions: https://pymotw.com/2/re/\n",
    "import string\n",
    "from nltk.corpus import stopwords\n",
    "from nltk.stem import PorterStemmer\n",
    "from nltk.stem.wordnet import WordNetLemmatizer\n",
    "\n",
    "from gensim.models import Word2Vec\n",
    "from gensim.models import KeyedVectors\n",
    "import pickle\n",
    "\n",
    "from tqdm import tqdm\n",
    "import os\n",
    "import math \n",
    "# from plotly import plotly\n",
    "# import plotly.offline as offline\n",
    "# import plotly.graph_objs as go\n",
    "# offline.init_notebook_mode()\n",
    "from collections import Counter\n",
    "gc.set_threshold(2, 1, 1)"
   ]
  },
  {
   "cell_type": "markdown",
   "metadata": {
    "colab_type": "text",
    "id": "qGZen1By5WHv"
   },
   "source": [
    "#### 2.1 Loading Input Data"
   ]
  },
  {
   "cell_type": "code",
   "execution_count": 0,
   "metadata": {
    "colab": {},
    "colab_type": "code",
    "id": "B6C19yac5WHx"
   },
   "outputs": [],
   "source": [
    "# %load_ext memory_profiler\n",
    "s=0\n",
    "# We are taking samples of 0's and 1's and appending them to overcome memory error\n",
    "project_data = pd.read_csv('/content/drive/My Drive/train_data.csv')\n",
    "# project_data=project_data.dropna(how='any')\n",
    "project_data_1 = project_data[project_data['project_is_approved'] == s+1]\n",
    "project_data_0 = project_data[project_data['project_is_approved'] == s]\n",
    "project_data=project_data.fillna(\"\")\n",
    "project_data_1=project_data_1.head(10000)\n",
    "project_data_0=project_data_0.tail(10000)\n",
    "project_data_1=project_data_1.append(project_data_0)\n",
    "project_data=project_data_1\n",
    "resource_data = pd.read_csv('/content/drive/My Drive/resources.csv')\n",
    "\n",
    "#Sorting them by columns to spread the zeros and one's unevenly in the 'project_is_approved' column\n",
    "project_data.sort_values(by=['project_essay_1'])\n",
    "project_data.sort_values(by=['project_essay_2'], ascending=False)\n",
    "project_data.sort_values(by=['project_essay_3'])\n",
    "project_data.sort_values(by=['project_essay_4'], ascending=False)\n",
    "project_data_1=None\n",
    "project_data_0=None"
   ]
  },
  {
   "cell_type": "code",
   "execution_count": 0,
   "metadata": {
    "colab": {
     "base_uri": "https://localhost:8080/",
     "height": 153
    },
    "colab_type": "code",
    "id": "JWolBgc_5WH5",
    "outputId": "4d6b1c42-d6fb-4504-fc92-2b7498a08321"
   },
   "outputs": [
    {
     "name": "stdout",
     "output_type": "stream",
     "text": [
      "Number of data points in train data (20000, 17)\n",
      "--------------------------------------------------\n",
      "The attributes of data : ['Unnamed: 0' 'id' 'teacher_id' 'teacher_prefix' 'school_state'\n",
      " 'project_submitted_datetime' 'project_grade_category'\n",
      " 'project_subject_categories' 'project_subject_subcategories'\n",
      " 'project_title' 'project_essay_1' 'project_essay_2' 'project_essay_3'\n",
      " 'project_essay_4' 'project_resource_summary'\n",
      " 'teacher_number_of_previously_posted_projects' 'project_is_approved']\n"
     ]
    }
   ],
   "source": [
    "print(\"Number of data points in train data\", project_data.shape)\n",
    "print('-'*50)\n",
    "print(\"The attributes of data :\", project_data.columns.values)"
   ]
  },
  {
   "cell_type": "code",
   "execution_count": 0,
   "metadata": {
    "colab": {
     "base_uri": "https://localhost:8080/",
     "height": 114
    },
    "colab_type": "code",
    "id": "s_SZouM55WIB",
    "outputId": "d9146c04-3ba0-4fe0-d100-229791ce92d7"
   },
   "outputs": [
    {
     "name": "stdout",
     "output_type": "stream",
     "text": [
      "Number of data points in resource data (1541272, 4)\n",
      "['id' 'description' 'quantity' 'price']\n"
     ]
    },
    {
     "data": {
      "text/html": [
       "<div>\n",
       "<style scoped>\n",
       "    .dataframe tbody tr th:only-of-type {\n",
       "        vertical-align: middle;\n",
       "    }\n",
       "\n",
       "    .dataframe tbody tr th {\n",
       "        vertical-align: top;\n",
       "    }\n",
       "\n",
       "    .dataframe thead th {\n",
       "        text-align: right;\n",
       "    }\n",
       "</style>\n",
       "<table border=\"1\" class=\"dataframe\">\n",
       "  <thead>\n",
       "    <tr style=\"text-align: right;\">\n",
       "      <th></th>\n",
       "      <th>id</th>\n",
       "      <th>description</th>\n",
       "      <th>quantity</th>\n",
       "      <th>price</th>\n",
       "    </tr>\n",
       "  </thead>\n",
       "  <tbody>\n",
       "    <tr>\n",
       "      <th>0</th>\n",
       "      <td>p233245</td>\n",
       "      <td>LC652 - Lakeshore Double-Space Mobile Drying Rack</td>\n",
       "      <td>1</td>\n",
       "      <td>149.0</td>\n",
       "    </tr>\n",
       "  </tbody>\n",
       "</table>\n",
       "</div>"
      ],
      "text/plain": [
       "        id                                        description  quantity  price\n",
       "0  p233245  LC652 - Lakeshore Double-Space Mobile Drying Rack         1  149.0"
      ]
     },
     "execution_count": 5,
     "metadata": {
      "tags": []
     },
     "output_type": "execute_result"
    }
   ],
   "source": [
    "print(\"Number of data points in resource data\", resource_data.shape)\n",
    "print(resource_data.columns.values)\n",
    "resource_data.head(1)\n",
    "# project_data.head(2)"
   ]
  },
  {
   "cell_type": "code",
   "execution_count": 0,
   "metadata": {
    "colab": {
     "base_uri": "https://localhost:8080/",
     "height": 34
    },
    "colab_type": "code",
    "id": "EzPR76l15WIJ",
    "outputId": "70b7a25d-112e-4bae-a850-e62d29b97c07"
   },
   "outputs": [
    {
     "data": {
      "text/plain": [
       "32"
      ]
     },
     "execution_count": 6,
     "metadata": {
      "tags": []
     },
     "output_type": "execute_result"
    }
   ],
   "source": [
    "y = project_data['project_is_approved'].values\n",
    "X = project_data.drop(['project_is_approved'], axis=1)\n",
    "X.head(1)\n",
    "project_data=None\n",
    "gc.collect()\n",
    "gc.enable()\n",
    "gc.DEBUG_SAVEALL"
   ]
  },
  {
   "cell_type": "markdown",
   "metadata": {
    "colab_type": "text",
    "id": "3r7VVFGn5WIS"
   },
   "source": [
    "#### 2.2 Getting the Data Model Ready:Preprocessing and Vectorizing categorical features"
   ]
  },
  {
   "cell_type": "markdown",
   "metadata": {
    "colab_type": "text",
    "id": "hMfJN9XS5WIV"
   },
   "source": [
    "#### 2.2.1 Preprocessing:project_grade_category"
   ]
  },
  {
   "cell_type": "code",
   "execution_count": 0,
   "metadata": {
    "colab": {},
    "colab_type": "code",
    "id": "B5JrB7Pi5WIX"
   },
   "outputs": [],
   "source": [
    "sub_catogories = list(X['project_grade_category'].values)\n",
    "# remove special characters from list of strings python: https://stackoverflow.com/a/47301924/4084039\n",
    "\n",
    "# https://www.geeksforgeeks.org/removing-stop-words-nltk-python/\n",
    "# https://stackoverflow.com/questions/23669024/how-to-strip-a-specific-word-from-a-string\n",
    "# https://stackoverflow.com/questions/8270092/remove-all-whitespace-in-a-string-in-python\n",
    "\n",
    "sub_cat_list = []\n",
    "for i in sub_catogories:\n",
    "    temp = \"\"\n",
    "    # consider we have text like this \"Math & Science, Warmth, Care & Hunger\"\n",
    "    for j in i.split(','): # it will split it in three parts [\"Math & Science\", \"Warmth\", \"Care & Hunger\"]\n",
    "        if 'The' in j.split(): # this will split each of the catogory based on space \"Math & Science\"=> \"Math\",\"&\", \"Science\"\n",
    "            j=j.replace('The','') # if we have the words \"The\" we are going to replace it with ''(i.e removing 'The')\n",
    "        j = j.replace(' ','') # we are placeing all the ' '(space) with ''(empty) ex:\"Math & Science\"=>\"Math&Science\"\n",
    "        temp +=j.strip()+\" \"#\" abc \".strip() will return \"abc\", remove the trailing spaces\n",
    "        temp = temp.replace('&','_')\n",
    "    sub_cat_list.append(temp.strip())\n",
    "X['project_grade_category'] = sub_cat_list"
   ]
  },
  {
   "cell_type": "code",
   "execution_count": 0,
   "metadata": {
    "colab": {
     "base_uri": "https://localhost:8080/",
     "height": 34
    },
    "colab_type": "code",
    "id": "SlTX824g5WIe",
    "outputId": "a82072fe-82bc-450f-ecbf-52d5b65cfb5f"
   },
   "outputs": [
    {
     "data": {
      "text/plain": [
       "32"
      ]
     },
     "execution_count": 8,
     "metadata": {
      "tags": []
     },
     "output_type": "execute_result"
    }
   ],
   "source": [
    "sub_catogories=None\n",
    "sub_cat_list=None\n",
    "temp=None\n",
    "i=None\n",
    "j=None\n",
    "catogories=None\n",
    "cat_list=None\n",
    "temp=None\n",
    "my_counter=None\n",
    "word=None\n",
    "cat_dict=None\n",
    "gc.collect()\n",
    "gc.enable()\n",
    "gc.DEBUG_SAVEALL"
   ]
  },
  {
   "cell_type": "markdown",
   "metadata": {
    "colab_type": "text",
    "id": "ht0kcL6_5WIl"
   },
   "source": [
    "#### 2.2.2 Preprocessing:project_subject_categories"
   ]
  },
  {
   "cell_type": "code",
   "execution_count": 0,
   "metadata": {
    "colab": {
     "base_uri": "https://localhost:8080/",
     "height": 233
    },
    "colab_type": "code",
    "id": "qEdxC_XZ5WIn",
    "outputId": "0ab29a51-2eef-4aba-b4a2-75ad6f057c33"
   },
   "outputs": [
    {
     "data": {
      "text/html": [
       "<div>\n",
       "<style scoped>\n",
       "    .dataframe tbody tr th:only-of-type {\n",
       "        vertical-align: middle;\n",
       "    }\n",
       "\n",
       "    .dataframe tbody tr th {\n",
       "        vertical-align: top;\n",
       "    }\n",
       "\n",
       "    .dataframe thead th {\n",
       "        text-align: right;\n",
       "    }\n",
       "</style>\n",
       "<table border=\"1\" class=\"dataframe\">\n",
       "  <thead>\n",
       "    <tr style=\"text-align: right;\">\n",
       "      <th></th>\n",
       "      <th>Unnamed: 0</th>\n",
       "      <th>id</th>\n",
       "      <th>teacher_id</th>\n",
       "      <th>teacher_prefix</th>\n",
       "      <th>school_state</th>\n",
       "      <th>project_submitted_datetime</th>\n",
       "      <th>project_grade_category</th>\n",
       "      <th>project_subject_subcategories</th>\n",
       "      <th>project_title</th>\n",
       "      <th>project_essay_1</th>\n",
       "      <th>project_essay_2</th>\n",
       "      <th>project_essay_3</th>\n",
       "      <th>project_essay_4</th>\n",
       "      <th>project_resource_summary</th>\n",
       "      <th>teacher_number_of_previously_posted_projects</th>\n",
       "      <th>clean_categories</th>\n",
       "    </tr>\n",
       "  </thead>\n",
       "  <tbody>\n",
       "    <tr>\n",
       "      <th>1</th>\n",
       "      <td>140945</td>\n",
       "      <td>p258326</td>\n",
       "      <td>897464ce9ddc600bced1151f324dd63a</td>\n",
       "      <td>Mr.</td>\n",
       "      <td>FL</td>\n",
       "      <td>10/25/2016 9:22</td>\n",
       "      <td>Grades6-8</td>\n",
       "      <td>Civics &amp; Government, Team Sports</td>\n",
       "      <td>Wanted: Projector for Hungry Learners</td>\n",
       "      <td>Our students arrive to our school eager to lea...</td>\n",
       "      <td>The projector we need for our school is very c...</td>\n",
       "      <td>NaN</td>\n",
       "      <td>NaN</td>\n",
       "      <td>My students need a projector to help with view...</td>\n",
       "      <td>7</td>\n",
       "      <td>History_Civics Health_Sports</td>\n",
       "    </tr>\n",
       "    <tr>\n",
       "      <th>3</th>\n",
       "      <td>45</td>\n",
       "      <td>p246581</td>\n",
       "      <td>f3cb9bffbba169bef1a77b243e620b60</td>\n",
       "      <td>Mrs.</td>\n",
       "      <td>KY</td>\n",
       "      <td>10/6/2016 21:16</td>\n",
       "      <td>GradesPreK-2</td>\n",
       "      <td>Literacy, Mathematics</td>\n",
       "      <td>Techie Kindergarteners</td>\n",
       "      <td>I work at a unique school filled with both ESL...</td>\n",
       "      <td>My students live in high poverty conditions wi...</td>\n",
       "      <td>NaN</td>\n",
       "      <td>NaN</td>\n",
       "      <td>My students need to engage in Reading and Math...</td>\n",
       "      <td>4</td>\n",
       "      <td>Literacy_Language Math_Science</td>\n",
       "    </tr>\n",
       "  </tbody>\n",
       "</table>\n",
       "</div>"
      ],
      "text/plain": [
       "   Unnamed: 0  ...                clean_categories\n",
       "1      140945  ...    History_Civics Health_Sports\n",
       "3          45  ...  Literacy_Language Math_Science\n",
       "\n",
       "[2 rows x 16 columns]"
      ]
     },
     "execution_count": 9,
     "metadata": {
      "tags": []
     },
     "output_type": "execute_result"
    }
   ],
   "source": [
    "catogories = list(X['project_subject_categories'].values)\n",
    "# remove special characters from list of strings python: https://stackoverflow.com/a/47301924/4084039\n",
    "\n",
    "# https://www.geeksforgeeks.org/removing-stop-words-nltk-python/\n",
    "# https://stackoverflow.com/questions/23669024/how-to-strip-a-specific-word-from-a-string\n",
    "# https://stackoverflow.com/questions/8270092/remove-all-whitespace-in-a-string-in-python\n",
    "cat_list = []\n",
    "for i in catogories:\n",
    "    temp = \"\"\n",
    "    # consider we have text like this \"Math & Science, Warmth, Care & Hunger\"\n",
    "    for j in i.split(','): # it will split it in three parts [\"Math & Science\", \"Warmth\", \"Care & Hunger\"]\n",
    "        if 'The' in j.split(): # this will split each of the catogory based on space \"Math & Science\"=> \"Math\",\"&\", \"Science\"\n",
    "            j=j.replace('The','') # if we have the words \"The\" we are going to replace it with ''(i.e removing 'The')\n",
    "        j = j.replace(' ','') # we are placeing all the ' '(space) with ''(empty) ex:\"Math & Science\"=>\"Math&Science\"\n",
    "        temp+=j.strip()+\" \" #\" abc \".strip() will return \"abc\", remove the trailing spaces\n",
    "        temp = temp.replace('&','_') # we are replacing the & value into \n",
    "    cat_list.append(temp.strip())\n",
    "\n",
    "X['clean_categories'] = cat_list\n",
    "X.drop(['project_subject_categories'], axis=1, inplace=True)\n",
    "X.head(2)"
   ]
  },
  {
   "cell_type": "markdown",
   "metadata": {
    "colab_type": "text",
    "id": "DAhg0oLA5WIv"
   },
   "source": [
    "#### 2.2.3 Preprocessing:project_subject_subcategories"
   ]
  },
  {
   "cell_type": "code",
   "execution_count": 0,
   "metadata": {
    "colab": {},
    "colab_type": "code",
    "id": "Lu5GjSkm5WIx"
   },
   "outputs": [],
   "source": [
    "sub_catogories = list(X['project_subject_subcategories'].values)\n",
    "# remove special characters from list of strings python: https://stackoverflow.com/a/47301924/4084039\n",
    "\n",
    "# https://www.geeksforgeeks.org/removing-stop-words-nltk-python/\n",
    "# https://stackoverflow.com/questions/23669024/how-to-strip-a-specific-word-from-a-string\n",
    "# https://stackoverflow.com/questions/8270092/remove-all-whitespace-in-a-string-in-python\n",
    "\n",
    "sub_cat_list = []\n",
    "for i in sub_catogories:\n",
    "    temp = \"\"\n",
    "    # consider we have text like this \"Math & Science, Warmth, Care & Hunger\"\n",
    "    for j in i.split(','): # it will split it in three parts [\"Math & Science\", \"Warmth\", \"Care & Hunger\"]\n",
    "        if 'The' in j.split(): # this will split each of the catogory based on space \"Math & Science\"=> \"Math\",\"&\", \"Science\"\n",
    "            j=j.replace('The','') # if we have the words \"The\" we are going to replace it with ''(i.e removing 'The')\n",
    "        j = j.replace(' ','') # we are placeing all the ' '(space) with ''(empty) ex:\"Math & Science\"=>\"Math&Science\"\n",
    "        temp +=j.strip()+\" \"#\" abc \".strip() will return \"abc\", remove the trailing spaces\n",
    "        temp = temp.replace('&','_')\n",
    "    sub_cat_list.append(temp.strip())"
   ]
  },
  {
   "cell_type": "code",
   "execution_count": 0,
   "metadata": {
    "colab": {
     "base_uri": "https://localhost:8080/",
     "height": 233
    },
    "colab_type": "code",
    "id": "JV3CfTb35WI4",
    "outputId": "5808ec6c-37b9-49d9-c2b0-8c0213c5a6d1"
   },
   "outputs": [
    {
     "data": {
      "text/html": [
       "<div>\n",
       "<style scoped>\n",
       "    .dataframe tbody tr th:only-of-type {\n",
       "        vertical-align: middle;\n",
       "    }\n",
       "\n",
       "    .dataframe tbody tr th {\n",
       "        vertical-align: top;\n",
       "    }\n",
       "\n",
       "    .dataframe thead th {\n",
       "        text-align: right;\n",
       "    }\n",
       "</style>\n",
       "<table border=\"1\" class=\"dataframe\">\n",
       "  <thead>\n",
       "    <tr style=\"text-align: right;\">\n",
       "      <th></th>\n",
       "      <th>Unnamed: 0</th>\n",
       "      <th>id</th>\n",
       "      <th>teacher_id</th>\n",
       "      <th>teacher_prefix</th>\n",
       "      <th>school_state</th>\n",
       "      <th>project_submitted_datetime</th>\n",
       "      <th>project_grade_category</th>\n",
       "      <th>project_title</th>\n",
       "      <th>project_essay_1</th>\n",
       "      <th>project_essay_2</th>\n",
       "      <th>project_essay_3</th>\n",
       "      <th>project_essay_4</th>\n",
       "      <th>project_resource_summary</th>\n",
       "      <th>teacher_number_of_previously_posted_projects</th>\n",
       "      <th>clean_categories</th>\n",
       "      <th>clean_subcategories</th>\n",
       "    </tr>\n",
       "  </thead>\n",
       "  <tbody>\n",
       "    <tr>\n",
       "      <th>1</th>\n",
       "      <td>140945</td>\n",
       "      <td>p258326</td>\n",
       "      <td>897464ce9ddc600bced1151f324dd63a</td>\n",
       "      <td>Mr.</td>\n",
       "      <td>FL</td>\n",
       "      <td>10/25/2016 9:22</td>\n",
       "      <td>Grades6-8</td>\n",
       "      <td>Wanted: Projector for Hungry Learners</td>\n",
       "      <td>Our students arrive to our school eager to lea...</td>\n",
       "      <td>The projector we need for our school is very c...</td>\n",
       "      <td>NaN</td>\n",
       "      <td>NaN</td>\n",
       "      <td>My students need a projector to help with view...</td>\n",
       "      <td>7</td>\n",
       "      <td>History_Civics Health_Sports</td>\n",
       "      <td>Civics_Government TeamSports</td>\n",
       "    </tr>\n",
       "    <tr>\n",
       "      <th>3</th>\n",
       "      <td>45</td>\n",
       "      <td>p246581</td>\n",
       "      <td>f3cb9bffbba169bef1a77b243e620b60</td>\n",
       "      <td>Mrs.</td>\n",
       "      <td>KY</td>\n",
       "      <td>10/6/2016 21:16</td>\n",
       "      <td>GradesPreK-2</td>\n",
       "      <td>Techie Kindergarteners</td>\n",
       "      <td>I work at a unique school filled with both ESL...</td>\n",
       "      <td>My students live in high poverty conditions wi...</td>\n",
       "      <td>NaN</td>\n",
       "      <td>NaN</td>\n",
       "      <td>My students need to engage in Reading and Math...</td>\n",
       "      <td>4</td>\n",
       "      <td>Literacy_Language Math_Science</td>\n",
       "      <td>Literacy Mathematics</td>\n",
       "    </tr>\n",
       "  </tbody>\n",
       "</table>\n",
       "</div>"
      ],
      "text/plain": [
       "   Unnamed: 0  ...           clean_subcategories\n",
       "1      140945  ...  Civics_Government TeamSports\n",
       "3          45  ...          Literacy Mathematics\n",
       "\n",
       "[2 rows x 16 columns]"
      ]
     },
     "execution_count": 11,
     "metadata": {
      "tags": []
     },
     "output_type": "execute_result"
    }
   ],
   "source": [
    "X['clean_subcategories'] = sub_cat_list\n",
    "X.drop(['project_subject_subcategories'], axis=1, inplace=True)\n",
    "X.head(2)"
   ]
  },
  {
   "cell_type": "markdown",
   "metadata": {
    "colab_type": "text",
    "id": "pb3t7cK-5WI_"
   },
   "source": [
    "#### 2.2.4 New Column:digits in summary"
   ]
  },
  {
   "cell_type": "code",
   "execution_count": 0,
   "metadata": {
    "colab": {},
    "colab_type": "code",
    "id": "Sd3PzUJ15WJB"
   },
   "outputs": [],
   "source": [
    "# Creating a new column 'digits_in_summary' which contains flags of 1 for /\n",
    "# 'project_resource_summary' containing numeric specification in their requiremnt.\n",
    "project_resource_summary = []\n",
    "new=[]\n",
    "\n",
    "project_resource_summary = list(X['project_resource_summary'].values)\n",
    "\n",
    "for i in project_resource_summary:\n",
    "    # consider we have text like this \"Math & Science, Warmth, Care & Hunger\"\n",
    "    for j in i.split(' '):\n",
    "        if j.isdigit():\n",
    "            new.append(1)\n",
    "            break\n",
    "        else:\n",
    "            continue\n",
    "    else:\n",
    "        new.append(0)\n",
    "              \n",
    "\n",
    "X['digits_in_summary']=new"
   ]
  },
  {
   "cell_type": "code",
   "execution_count": 0,
   "metadata": {
    "colab": {
     "base_uri": "https://localhost:8080/",
     "height": 34
    },
    "colab_type": "code",
    "id": "77gC5gbw5WJI",
    "outputId": "6b04f9e4-e917-400a-884a-f70eab641be1"
   },
   "outputs": [
    {
     "data": {
      "text/plain": [
       "32"
      ]
     },
     "execution_count": 13,
     "metadata": {
      "tags": []
     },
     "output_type": "execute_result"
    }
   ],
   "source": [
    "#To make best use of the memory we are setting the variable names to 'None' and performing garbage collection.\n",
    "project_resource_summary=None\n",
    "new=None\n",
    "new1=None\n",
    "i=None\n",
    "j=None\n",
    "a=None\n",
    "\n",
    "gc.collect()\n",
    "gc.enable()\n",
    "gc.DEBUG_SAVEALL"
   ]
  },
  {
   "cell_type": "markdown",
   "metadata": {
    "colab_type": "text",
    "id": "kDISw5lz5WJP"
   },
   "source": [
    "#### 2.2.5 Preprocessing:Text features (Project Essay's)"
   ]
  },
  {
   "cell_type": "code",
   "execution_count": 0,
   "metadata": {
    "colab": {},
    "colab_type": "code",
    "id": "MiW8EDak5WJR"
   },
   "outputs": [],
   "source": [
    "# merge two column text dataframe: \n",
    "X[\"essay\"] = X[\"project_essay_1\"].map(str) +\\\n",
    "                        X[\"project_essay_2\"].map(str) + \\\n",
    "                        X[\"project_essay_3\"].map(str) + \\\n",
    "                        X[\"project_essay_4\"].map(str)\n"
   ]
  },
  {
   "cell_type": "code",
   "execution_count": 0,
   "metadata": {
    "colab": {
     "base_uri": "https://localhost:8080/",
     "height": 34
    },
    "colab_type": "code",
    "id": "9t2zI7qG5WJZ",
    "outputId": "59790bb7-4cf8-4667-c376-afc066783fbe"
   },
   "outputs": [
    {
     "data": {
      "text/plain": [
       "(20000, 14)"
      ]
     },
     "execution_count": 15,
     "metadata": {
      "tags": []
     },
     "output_type": "execute_result"
    }
   ],
   "source": [
    "X = X.drop(['project_essay_1', 'project_essay_2','project_essay_3', 'project_essay_4'], axis=1)\n",
    "X.shape"
   ]
  },
  {
   "cell_type": "markdown",
   "metadata": {
    "colab_type": "text",
    "id": "ycOt-taM5WJf"
   },
   "source": [
    "#### 2.2.6 Adding column Cost per project in dataset"
   ]
  },
  {
   "cell_type": "code",
   "execution_count": 0,
   "metadata": {
    "colab": {
     "base_uri": "https://localhost:8080/",
     "height": 34
    },
    "colab_type": "code",
    "id": "E30Y_bfW5WJh",
    "outputId": "1715fd69-2181-4cc1-f578-97a9a3586201"
   },
   "outputs": [
    {
     "data": {
      "text/plain": [
       "pandas.core.frame.DataFrame"
      ]
     },
     "execution_count": 16,
     "metadata": {
      "tags": []
     },
     "output_type": "execute_result"
    }
   ],
   "source": [
    "# https://stackoverflow.com/questions/22407798/how-to-reset-a-dataframes-indexes-for-all-groups-in-one-step\n",
    "price_data = resource_data.groupby('id').agg({'price':'sum', 'quantity':'sum'}).reset_index()\n",
    "price_data.head(2)\n",
    "type(price_data)"
   ]
  },
  {
   "cell_type": "code",
   "execution_count": 0,
   "metadata": {
    "colab": {
     "base_uri": "https://localhost:8080/",
     "height": 369
    },
    "colab_type": "code",
    "id": "6n3Uztjt5WJn",
    "outputId": "62ada9ec-46fa-4dbd-bc84-207208464ea5",
    "scrolled": true
   },
   "outputs": [
    {
     "data": {
      "text/html": [
       "<div>\n",
       "<style scoped>\n",
       "    .dataframe tbody tr th:only-of-type {\n",
       "        vertical-align: middle;\n",
       "    }\n",
       "\n",
       "    .dataframe tbody tr th {\n",
       "        vertical-align: top;\n",
       "    }\n",
       "\n",
       "    .dataframe thead th {\n",
       "        text-align: right;\n",
       "    }\n",
       "</style>\n",
       "<table border=\"1\" class=\"dataframe\">\n",
       "  <thead>\n",
       "    <tr style=\"text-align: right;\">\n",
       "      <th></th>\n",
       "      <th>Unnamed: 0</th>\n",
       "      <th>id</th>\n",
       "      <th>teacher_id</th>\n",
       "      <th>teacher_prefix</th>\n",
       "      <th>school_state</th>\n",
       "      <th>project_submitted_datetime</th>\n",
       "      <th>project_grade_category</th>\n",
       "      <th>project_title</th>\n",
       "      <th>project_resource_summary</th>\n",
       "      <th>teacher_number_of_previously_posted_projects</th>\n",
       "      <th>clean_categories</th>\n",
       "      <th>clean_subcategories</th>\n",
       "      <th>digits_in_summary</th>\n",
       "      <th>essay</th>\n",
       "      <th>price</th>\n",
       "      <th>quantity</th>\n",
       "    </tr>\n",
       "  </thead>\n",
       "  <tbody>\n",
       "    <tr>\n",
       "      <th>0</th>\n",
       "      <td>140945</td>\n",
       "      <td>p258326</td>\n",
       "      <td>897464ce9ddc600bced1151f324dd63a</td>\n",
       "      <td>Mr.</td>\n",
       "      <td>FL</td>\n",
       "      <td>10/25/2016 9:22</td>\n",
       "      <td>Grades6-8</td>\n",
       "      <td>Wanted: Projector for Hungry Learners</td>\n",
       "      <td>My students need a projector to help with view...</td>\n",
       "      <td>7</td>\n",
       "      <td>History_Civics Health_Sports</td>\n",
       "      <td>Civics_Government TeamSports</td>\n",
       "      <td>0</td>\n",
       "      <td>Our students arrive to our school eager to lea...</td>\n",
       "      <td>299.0</td>\n",
       "      <td>1</td>\n",
       "    </tr>\n",
       "    <tr>\n",
       "      <th>1</th>\n",
       "      <td>45</td>\n",
       "      <td>p246581</td>\n",
       "      <td>f3cb9bffbba169bef1a77b243e620b60</td>\n",
       "      <td>Mrs.</td>\n",
       "      <td>KY</td>\n",
       "      <td>10/6/2016 21:16</td>\n",
       "      <td>GradesPreK-2</td>\n",
       "      <td>Techie Kindergarteners</td>\n",
       "      <td>My students need to engage in Reading and Math...</td>\n",
       "      <td>4</td>\n",
       "      <td>Literacy_Language Math_Science</td>\n",
       "      <td>Literacy Mathematics</td>\n",
       "      <td>0</td>\n",
       "      <td>I work at a unique school filled with both ESL...</td>\n",
       "      <td>232.9</td>\n",
       "      <td>4</td>\n",
       "    </tr>\n",
       "  </tbody>\n",
       "</table>\n",
       "</div>"
      ],
      "text/plain": [
       "   Unnamed: 0       id  ...  price quantity\n",
       "0      140945  p258326  ...  299.0        1\n",
       "1          45  p246581  ...  232.9        4\n",
       "\n",
       "[2 rows x 16 columns]"
      ]
     },
     "execution_count": 17,
     "metadata": {
      "tags": []
     },
     "output_type": "execute_result"
    }
   ],
   "source": [
    "# join two dataframes in python: \n",
    "X = pd.merge(X, price_data, on='id', how='left')\n",
    "X.head(2)"
   ]
  },
  {
   "cell_type": "code",
   "execution_count": 0,
   "metadata": {
    "colab": {
     "base_uri": "https://localhost:8080/",
     "height": 34
    },
    "colab_type": "code",
    "id": "vwYWOoie5WJu",
    "outputId": "dd8db608-172e-4586-a37d-86f72849c67f"
   },
   "outputs": [
    {
     "data": {
      "text/plain": [
       "32"
      ]
     },
     "execution_count": 18,
     "metadata": {
      "tags": []
     },
     "output_type": "execute_result"
    }
   ],
   "source": [
    "#To make best use of the memory we are setting the variable names to 'None' and performing garbage collection.\n",
    "resource_data=None\n",
    "price_data=None\n",
    "gc.collect()\n",
    "gc.enable()\n",
    "gc.DEBUG_SAVEALL"
   ]
  },
  {
   "cell_type": "markdown",
   "metadata": {
    "colab_type": "text",
    "id": "qKkwo0115WJ0"
   },
   "source": [
    "#### 2.2.7 Text Preprocessing:Essay Text"
   ]
  },
  {
   "cell_type": "code",
   "execution_count": 0,
   "metadata": {
    "colab": {},
    "colab_type": "code",
    "id": "Nw6p8aLC5WJ3"
   },
   "outputs": [],
   "source": [
    "# https://stackoverflow.com/a/47091490/4084039\n",
    "import re\n",
    "\n",
    "def decontracted(phrase):\n",
    "    # specific\n",
    "    phrase = re.sub(r\"won't\", \"will not\", phrase)\n",
    "    phrase = re.sub(r\"can\\'t\", \"can not\", phrase)\n",
    "\n",
    "    # general\n",
    "    phrase = re.sub(r\"n\\'t\", \" not\", phrase)\n",
    "    phrase = re.sub(r\"\\'re\", \" are\", phrase)\n",
    "    phrase = re.sub(r\"\\'s\", \" is\", phrase)\n",
    "    phrase = re.sub(r\"\\'d\", \" would\", phrase)\n",
    "    phrase = re.sub(r\"\\'ll\", \" will\", phrase)\n",
    "    phrase = re.sub(r\"\\'t\", \" not\", phrase)\n",
    "    phrase = re.sub(r\"\\'ve\", \" have\", phrase)\n",
    "    phrase = re.sub(r\"\\'m\", \" am\", phrase)\n",
    "    return phrase"
   ]
  },
  {
   "cell_type": "code",
   "execution_count": 0,
   "metadata": {
    "colab": {
     "base_uri": "https://localhost:8080/",
     "height": 71
    },
    "colab_type": "code",
    "id": "IEupiNom5WJ9",
    "outputId": "e06631ad-e7e4-413b-b663-482eddcc09c6"
   },
   "outputs": [
    {
     "name": "stdout",
     "output_type": "stream",
     "text": [
      "What does \\\"The message in the music\\\" mean to you? To my kids, it means so much more! Music is not just for entertainment!  My kids are learning how music can be used as a human rights tool! They are learning to express their feelings of the world around them in positive ways.\\r\\n\\r\\nMy kids are every stereotype you can think of: poor, underprivileged, rough, angry.  Turn that same prism around there is also joy, happiness, intelligence and creativity. They are learning to navigate the world around them and we are working on showing them how to use this energy in a positive way.Our piano lab is aging.  We have 3 classes of 35 kids that are bursting at the gills, which is a great problem to have!  BUT keyboards are beginning to have the keys break off making them unuseable. We also do not have enough keyboards for every student in class, even if you counted the slightly broken ones!\\r\\n\\r\\nWe are in desperate need of more keyboards for our labs to meet the needs of our students.  A keyboard for each student in class will facilitate their love of music and help them grow and appreciate the world around them.  We are down to 24 semi working keyboards and 35 kids in each piano class.  These keyboards are needed sooner rather than later for our kids to have a successful year in class.nannan\n",
      "==================================================\n"
     ]
    }
   ],
   "source": [
    "sent = decontracted(X['essay'].values[99])\n",
    "print(sent)\n",
    "print(\"=\"*50)"
   ]
  },
  {
   "cell_type": "code",
   "execution_count": 0,
   "metadata": {
    "colab": {
     "base_uri": "https://localhost:8080/",
     "height": 54
    },
    "colab_type": "code",
    "id": "RFstqHz35WKE",
    "outputId": "ea1c080b-9956-4cf3-f615-b04725c11dc6"
   },
   "outputs": [
    {
     "name": "stdout",
     "output_type": "stream",
     "text": [
      "What does  The message in the music  mean to you? To my kids, it means so much more! Music is not just for entertainment!  My kids are learning how music can be used as a human rights tool! They are learning to express their feelings of the world around them in positive ways.    My kids are every stereotype you can think of: poor, underprivileged, rough, angry.  Turn that same prism around there is also joy, happiness, intelligence and creativity. They are learning to navigate the world around them and we are working on showing them how to use this energy in a positive way.Our piano lab is aging.  We have 3 classes of 35 kids that are bursting at the gills, which is a great problem to have!  BUT keyboards are beginning to have the keys break off making them unuseable. We also do not have enough keyboards for every student in class, even if you counted the slightly broken ones!    We are in desperate need of more keyboards for our labs to meet the needs of our students.  A keyboard for each student in class will facilitate their love of music and help them grow and appreciate the world around them.  We are down to 24 semi working keyboards and 35 kids in each piano class.  These keyboards are needed sooner rather than later for our kids to have a successful year in class.nannan\n"
     ]
    }
   ],
   "source": [
    "# \\r \\n \\t remove from string python: http://texthandler.com/info/remove-line-breaks-python/\n",
    "sent = sent.replace('\\\\r', ' ')\n",
    "sent = sent.replace('\\\\\"', ' ')\n",
    "sent = sent.replace('\\\\n', ' ')\n",
    "print(sent)"
   ]
  },
  {
   "cell_type": "code",
   "execution_count": 0,
   "metadata": {
    "colab": {
     "base_uri": "https://localhost:8080/",
     "height": 54
    },
    "colab_type": "code",
    "id": "g6o8Hmly5WKK",
    "outputId": "9427403f-e457-48f3-92ef-7bbeb3a6984f"
   },
   "outputs": [
    {
     "name": "stdout",
     "output_type": "stream",
     "text": [
      "What does The message in the music mean to you To my kids it means so much more Music is not just for entertainment My kids are learning how music can be used as a human rights tool They are learning to express their feelings of the world around them in positive ways My kids are every stereotype you can think of poor underprivileged rough angry Turn that same prism around there is also joy happiness intelligence and creativity They are learning to navigate the world around them and we are working on showing them how to use this energy in a positive way Our piano lab is aging We have 3 classes of 35 kids that are bursting at the gills which is a great problem to have BUT keyboards are beginning to have the keys break off making them unuseable We also do not have enough keyboards for every student in class even if you counted the slightly broken ones We are in desperate need of more keyboards for our labs to meet the needs of our students A keyboard for each student in class will facilitate their love of music and help them grow and appreciate the world around them We are down to 24 semi working keyboards and 35 kids in each piano class These keyboards are needed sooner rather than later for our kids to have a successful year in class nannan\n"
     ]
    }
   ],
   "source": [
    "#remove spacial character: https://stackoverflow.com/a/5843547/4084039\n",
    "sent = re.sub('[^A-Za-z0-9]+', ' ', sent)\n",
    "print(sent)"
   ]
  },
  {
   "cell_type": "code",
   "execution_count": 0,
   "metadata": {
    "colab": {},
    "colab_type": "code",
    "id": "0N35UM2k5WKQ"
   },
   "outputs": [],
   "source": [
    "# https://gist.github.com/sebleier/554280\n",
    "# we are removing the words from the stop words list: 'no', 'nor', 'not'\n",
    "stopwords= ['i', 'me', 'my', 'myself', 'we', 'our', 'ours', 'ourselves', 'you', \"you're\", \"you've\",\\\n",
    "            \"you'll\", \"you'd\", 'your', 'yours', 'yourself', 'yourselves', 'he', 'him', 'his', 'himself', \\\n",
    "            'she', \"she's\", 'her', 'hers', 'herself', 'it', \"it's\", 'its', 'itself', 'they', 'them', 'their',\\\n",
    "            'theirs', 'themselves', 'what', 'which', 'who', 'whom', 'this', 'that', \"that'll\", 'these', 'those', \\\n",
    "            'am', 'is', 'are', 'was', 'were', 'be', 'been', 'being', 'have', 'has', 'had', 'having', 'do', 'does', \\\n",
    "            'did', 'doing', 'a', 'an', 'the', 'and', 'but', 'if', 'or', 'because', 'as', 'until', 'while', 'of', \\\n",
    "            'at', 'by', 'for', 'with', 'about', 'against', 'between', 'into', 'through', 'during', 'before', 'after',\\\n",
    "            'above', 'below', 'to', 'from', 'up', 'down', 'in', 'out', 'on', 'off', 'over', 'under', 'again', 'further',\\\n",
    "            'then', 'once', 'here', 'there', 'when', 'where', 'why', 'how', 'all', 'any', 'both', 'each', 'few', 'more',\\\n",
    "            'most', 'other', 'some', 'such', 'only', 'own', 'same', 'so', 'than', 'too', 'very', \\\n",
    "            's', 't', 'can', 'will', 'just', 'don', \"don't\", 'should', \"should've\", 'now', 'd', 'll', 'm', 'o', 're', \\\n",
    "            've', 'y', 'ain', 'aren', \"aren't\", 'couldn', \"couldn't\", 'didn', \"didn't\", 'doesn', \"doesn't\", 'hadn',\\\n",
    "            \"hadn't\", 'hasn', \"hasn't\", 'haven', \"haven't\", 'isn', \"isn't\", 'ma', 'mightn', \"mightn't\", 'mustn',\\\n",
    "            \"mustn't\", 'needn', \"needn't\", 'shan', \"shan't\", 'shouldn', \"shouldn't\", 'wasn', \"wasn't\", 'weren', \"weren't\", \\\n",
    "            'won', \"won't\", 'wouldn', \"wouldn't\"]"
   ]
  },
  {
   "cell_type": "code",
   "execution_count": 0,
   "metadata": {
    "colab": {
     "base_uri": "https://localhost:8080/",
     "height": 34
    },
    "colab_type": "code",
    "id": "DWdWBRQk5WKX",
    "outputId": "de3d5c5b-4404-42c3-faf7-62d990ba9239"
   },
   "outputs": [
    {
     "name": "stderr",
     "output_type": "stream",
     "text": [
      "100%|██████████| 20000/20000 [00:12<00:00, 1627.24it/s]\n"
     ]
    }
   ],
   "source": [
    "# Combining all the above statemennts \n",
    "from tqdm import tqdm\n",
    "preprocessed_essays = []\n",
    "# tqdm is for printing the status bar\n",
    "for sentance in tqdm(X['essay'].values):\n",
    "    sent = decontracted(sentance)\n",
    "    sent = sent.replace('\\\\r', ' ')\n",
    "    sent = sent.replace('\\\\\"', ' ')\n",
    "    sent = sent.replace('\\\\n', ' ')\n",
    "    sent = re.sub('[^A-Za-z0-9]+', ' ', sent)\n",
    "    # https://gist.github.com/sebleier/554280\n",
    "    sent = ' '.join(e for e in sent.split() if e not in stopwords)\n",
    "    preprocessed_essays.append(sent.lower().strip())"
   ]
  },
  {
   "cell_type": "code",
   "execution_count": 0,
   "metadata": {
    "colab": {
     "base_uri": "https://localhost:8080/",
     "height": 352
    },
    "colab_type": "code",
    "id": "TattDLtu5WKe",
    "outputId": "67688c29-2ab8-4adf-a6a3-1002c8bc0cfa"
   },
   "outputs": [
    {
     "data": {
      "text/html": [
       "<div>\n",
       "<style scoped>\n",
       "    .dataframe tbody tr th:only-of-type {\n",
       "        vertical-align: middle;\n",
       "    }\n",
       "\n",
       "    .dataframe tbody tr th {\n",
       "        vertical-align: top;\n",
       "    }\n",
       "\n",
       "    .dataframe thead th {\n",
       "        text-align: right;\n",
       "    }\n",
       "</style>\n",
       "<table border=\"1\" class=\"dataframe\">\n",
       "  <thead>\n",
       "    <tr style=\"text-align: right;\">\n",
       "      <th></th>\n",
       "      <th>Unnamed: 0</th>\n",
       "      <th>id</th>\n",
       "      <th>teacher_id</th>\n",
       "      <th>teacher_prefix</th>\n",
       "      <th>school_state</th>\n",
       "      <th>project_submitted_datetime</th>\n",
       "      <th>project_grade_category</th>\n",
       "      <th>project_title</th>\n",
       "      <th>project_resource_summary</th>\n",
       "      <th>teacher_number_of_previously_posted_projects</th>\n",
       "      <th>clean_categories</th>\n",
       "      <th>clean_subcategories</th>\n",
       "      <th>digits_in_summary</th>\n",
       "      <th>essay</th>\n",
       "      <th>price</th>\n",
       "      <th>quantity</th>\n",
       "    </tr>\n",
       "  </thead>\n",
       "  <tbody>\n",
       "    <tr>\n",
       "      <th>0</th>\n",
       "      <td>140945</td>\n",
       "      <td>p258326</td>\n",
       "      <td>897464ce9ddc600bced1151f324dd63a</td>\n",
       "      <td>Mr.</td>\n",
       "      <td>FL</td>\n",
       "      <td>10/25/2016 9:22</td>\n",
       "      <td>Grades6-8</td>\n",
       "      <td>Wanted: Projector for Hungry Learners</td>\n",
       "      <td>My students need a projector to help with view...</td>\n",
       "      <td>7</td>\n",
       "      <td>History_Civics Health_Sports</td>\n",
       "      <td>Civics_Government TeamSports</td>\n",
       "      <td>0</td>\n",
       "      <td>our students arrive school eager learn they po...</td>\n",
       "      <td>299.0</td>\n",
       "      <td>1</td>\n",
       "    </tr>\n",
       "    <tr>\n",
       "      <th>1</th>\n",
       "      <td>45</td>\n",
       "      <td>p246581</td>\n",
       "      <td>f3cb9bffbba169bef1a77b243e620b60</td>\n",
       "      <td>Mrs.</td>\n",
       "      <td>KY</td>\n",
       "      <td>10/6/2016 21:16</td>\n",
       "      <td>GradesPreK-2</td>\n",
       "      <td>Techie Kindergarteners</td>\n",
       "      <td>My students need to engage in Reading and Math...</td>\n",
       "      <td>4</td>\n",
       "      <td>Literacy_Language Math_Science</td>\n",
       "      <td>Literacy Mathematics</td>\n",
       "      <td>0</td>\n",
       "      <td>i work unique school filled esl english second...</td>\n",
       "      <td>232.9</td>\n",
       "      <td>4</td>\n",
       "    </tr>\n",
       "  </tbody>\n",
       "</table>\n",
       "</div>"
      ],
      "text/plain": [
       "   Unnamed: 0       id  ...  price quantity\n",
       "0      140945  p258326  ...  299.0        1\n",
       "1          45  p246581  ...  232.9        4\n",
       "\n",
       "[2 rows x 16 columns]"
      ]
     },
     "execution_count": 25,
     "metadata": {
      "tags": []
     },
     "output_type": "execute_result"
    }
   ],
   "source": [
    "# after preprocesing\n",
    "\n",
    "# X['essay'] = None\n",
    "X['essay'] = preprocessed_essays\n",
    "\n",
    "X.head(2)"
   ]
  },
  {
   "cell_type": "code",
   "execution_count": 0,
   "metadata": {
    "colab": {
     "base_uri": "https://localhost:8080/",
     "height": 34
    },
    "colab_type": "code",
    "id": "tv-ckOZx5WKk",
    "outputId": "71d7d09f-0e5c-45d5-88c3-6b33aec82807"
   },
   "outputs": [
    {
     "name": "stderr",
     "output_type": "stream",
     "text": [
      "100%|██████████| 20000/20000 [00:00<00:00, 29477.35it/s]\n"
     ]
    }
   ],
   "source": [
    "# Combining all the above statemennts \n",
    "from tqdm import tqdm\n",
    "preprocessed_project_title = []\n",
    "# tqdm is for printing the status bar\n",
    "for sentance in tqdm(X['project_title'].values):\n",
    "    sent = decontracted(sentance)\n",
    "    sent = sent.replace('\\\\r', ' ')\n",
    "    sent = sent.replace('\\\\\"', ' ')\n",
    "    sent = sent.replace('\\\\n', ' ')\n",
    "    sent = re.sub('[^A-Za-z0-9]+', ' ', sent)\n",
    "    # https://gist.github.com/sebleier/554280\n",
    "    sent = ' '.join(e for e in sent.split() if e not in stopwords)\n",
    "    preprocessed_project_title.append(sent.lower().strip())"
   ]
  },
  {
   "cell_type": "code",
   "execution_count": 0,
   "metadata": {
    "colab": {
     "base_uri": "https://localhost:8080/",
     "height": 352
    },
    "colab_type": "code",
    "id": "TlrDHvfJ5WKq",
    "outputId": "0704a457-2377-4d6d-af57-965963dace07"
   },
   "outputs": [
    {
     "data": {
      "text/html": [
       "<div>\n",
       "<style scoped>\n",
       "    .dataframe tbody tr th:only-of-type {\n",
       "        vertical-align: middle;\n",
       "    }\n",
       "\n",
       "    .dataframe tbody tr th {\n",
       "        vertical-align: top;\n",
       "    }\n",
       "\n",
       "    .dataframe thead th {\n",
       "        text-align: right;\n",
       "    }\n",
       "</style>\n",
       "<table border=\"1\" class=\"dataframe\">\n",
       "  <thead>\n",
       "    <tr style=\"text-align: right;\">\n",
       "      <th></th>\n",
       "      <th>Unnamed: 0</th>\n",
       "      <th>id</th>\n",
       "      <th>teacher_id</th>\n",
       "      <th>teacher_prefix</th>\n",
       "      <th>school_state</th>\n",
       "      <th>project_submitted_datetime</th>\n",
       "      <th>project_grade_category</th>\n",
       "      <th>project_title</th>\n",
       "      <th>project_resource_summary</th>\n",
       "      <th>teacher_number_of_previously_posted_projects</th>\n",
       "      <th>clean_categories</th>\n",
       "      <th>clean_subcategories</th>\n",
       "      <th>digits_in_summary</th>\n",
       "      <th>essay</th>\n",
       "      <th>price</th>\n",
       "      <th>quantity</th>\n",
       "    </tr>\n",
       "  </thead>\n",
       "  <tbody>\n",
       "    <tr>\n",
       "      <th>0</th>\n",
       "      <td>140945</td>\n",
       "      <td>p258326</td>\n",
       "      <td>897464ce9ddc600bced1151f324dd63a</td>\n",
       "      <td>Mr.</td>\n",
       "      <td>FL</td>\n",
       "      <td>10/25/2016 9:22</td>\n",
       "      <td>Grades6-8</td>\n",
       "      <td>wanted projector hungry learners</td>\n",
       "      <td>My students need a projector to help with view...</td>\n",
       "      <td>7</td>\n",
       "      <td>History_Civics Health_Sports</td>\n",
       "      <td>Civics_Government TeamSports</td>\n",
       "      <td>0</td>\n",
       "      <td>our students arrive school eager learn they po...</td>\n",
       "      <td>299.0</td>\n",
       "      <td>1</td>\n",
       "    </tr>\n",
       "    <tr>\n",
       "      <th>1</th>\n",
       "      <td>45</td>\n",
       "      <td>p246581</td>\n",
       "      <td>f3cb9bffbba169bef1a77b243e620b60</td>\n",
       "      <td>Mrs.</td>\n",
       "      <td>KY</td>\n",
       "      <td>10/6/2016 21:16</td>\n",
       "      <td>GradesPreK-2</td>\n",
       "      <td>techie kindergarteners</td>\n",
       "      <td>My students need to engage in Reading and Math...</td>\n",
       "      <td>4</td>\n",
       "      <td>Literacy_Language Math_Science</td>\n",
       "      <td>Literacy Mathematics</td>\n",
       "      <td>0</td>\n",
       "      <td>i work unique school filled esl english second...</td>\n",
       "      <td>232.9</td>\n",
       "      <td>4</td>\n",
       "    </tr>\n",
       "  </tbody>\n",
       "</table>\n",
       "</div>"
      ],
      "text/plain": [
       "   Unnamed: 0       id  ...  price quantity\n",
       "0      140945  p258326  ...  299.0        1\n",
       "1          45  p246581  ...  232.9        4\n",
       "\n",
       "[2 rows x 16 columns]"
      ]
     },
     "execution_count": 27,
     "metadata": {
      "tags": []
     },
     "output_type": "execute_result"
    }
   ],
   "source": [
    "preprocessed_project_title[4999]\n",
    "# after preprocesing\n",
    "\n",
    "# X['project_title'] = None\n",
    "X['project_title'] = preprocessed_project_title\n",
    "\n",
    "X.head(2)"
   ]
  },
  {
   "cell_type": "markdown",
   "metadata": {
    "colab_type": "text",
    "id": "Ei9fIIru5WKx"
   },
   "source": [
    "#### 2.2.8 Splitting the data into Train and Test"
   ]
  },
  {
   "cell_type": "code",
   "execution_count": 0,
   "metadata": {
    "colab": {
     "base_uri": "https://localhost:8080/",
     "height": 34
    },
    "colab_type": "code",
    "id": "SUR9B9dl5WK0",
    "outputId": "193b1a47-dc65-4ec8-b1d6-021929f6c0d3"
   },
   "outputs": [
    {
     "data": {
      "text/plain": [
       "11"
      ]
     },
     "execution_count": 28,
     "metadata": {
      "tags": []
     },
     "output_type": "execute_result"
    }
   ],
   "source": [
    "# train test split(67:33)\n",
    "from sklearn.model_selection import train_test_split\n",
    "X_train, X_test, y_train, y_test = train_test_split(X, y, test_size=0.33, stratify=y)\n",
    "# X_train, X_cv, y_train, y_cv = train_test_split(X_train, y_train, test_size=0.33, stratify=y_train)\n",
    "X=None\n",
    "gc.collect()"
   ]
  },
  {
   "cell_type": "markdown",
   "metadata": {
    "colab_type": "text",
    "id": "1wQO2vWP5WK6"
   },
   "source": [
    "#### 2.2.9 Response Coding Categorical data:"
   ]
  },
  {
   "cell_type": "code",
   "execution_count": 0,
   "metadata": {
    "colab": {},
    "colab_type": "code",
    "id": "Jy4Z_J4D5WK8"
   },
   "outputs": [],
   "source": [
    "def res_code(X_tr,y_tr,cc,cc_0,cc_1):\n",
    "    #We are concatinating train data and its classes to create a base table while creating the response table\n",
    "    df=pd.DataFrame(X_tr,columns=[cc]) #Train data\n",
    "    df1=pd.DataFrame(y_tr,columns=['y']) #Train class\n",
    "    df.reset_index(drop=True, inplace=True)\n",
    "    df1.reset_index(drop=True, inplace=True)\n",
    "    df_row = df.assign(y=df1) #concatenating of the train and  train class  \n",
    "#     df_row.to_csv('file2.csv')\n",
    "    #========================*************************=======================================******************================\n",
    "    #To create response table for the given category\n",
    "    group_data = df_row.groupby([cc]).count() #We groupby with respect to the category and obtain its count\n",
    "    df_row['id'] = df_row[cc].str.cat(df_row['y'].values.astype(str)) #We concat the category and the class to obtain the count of the classes wrt the each category\n",
    "    group_data1 = df_row.groupby(['id'])['y'].count() #We are obtaining the count of the classes wrt each category\n",
    "    group_data1=group_data1.to_frame() #Converting to dataframe\n",
    "    #========================*************************=======================================******************================\n",
    "    #We have two tables group_data which holds the category count and group_data1 which holds the count of the classes wrt each category\n",
    "    df_row = pd.merge(df_row,group_data, on=cc, how='left') #On the base data we merge to add a new column which holds the category count\n",
    "    df_row = pd.merge(df_row,group_data1,on='id', how='left') #On the base data we merge to add a new column which holds the count of the classes\n",
    "    #======================**************************=======================================********************===============\n",
    "    #Final Response table creation wrt class 0 and class 0\n",
    "    df_row_1 = df_row[df_row['y_x']==1] #Breaking the table wrt class 1\n",
    "    df_row_0 = df_row[df_row['y_x']==0] #Breaking the table wrt class 0\n",
    "    df_row_0[cc_0]=df_row_0['y']/df_row_0['y_y'] #We are taking the percentage of each class wrt each category 0 and creating a column\n",
    "    df_row_1[cc_1]=df_row_1['y']/df_row_1['y_y'] #We are taking the percentage of each class wrt each category 1 and creating a column\n",
    "    df_row_0=df_row_0.drop(['y_x', 'id','y_y','y'], axis=1) #Dropping unwanted columns\n",
    "    df_row_1=df_row_1.drop(['y_x', 'id','y_y','y'], axis=1) #Dropping unwanted columns\n",
    "    df_row=df_row.drop(['y_x', 'id','y_y','y'], axis=1) #Dropping unwanted columns\n",
    "    #=====================**************************=======================================*********************================\n",
    "    df_row_0=df_row_0.drop_duplicates() #Dropping the duplicates\n",
    "    df_row_1=df_row_1.drop_duplicates() #Dropping the duplicates\n",
    "    X_tr = pd.merge(X_tr,df_row_1, on=cc, how='left') #Merging the class 1 percentage column\n",
    "    X_tr = pd.merge(X_tr,df_row_0, on=cc, how='left') #Merging the class 0 percentage column\n",
    "    X_tr[cc_0]=round((X_tr[cc_0])*100,2) #We are multiplying the percentage and rounding off to two decimal points\n",
    "    X_tr[cc_1]=round((X_tr[cc_1])*100,2) #We are multiplying the percentage and rounding off to two decimal points\n",
    "    X_tr=X_tr.drop([cc], axis=1) #We are dropping the category column\n",
    "    X_tra=X_tr\n",
    "    return X_tra\n"
   ]
  },
  {
   "cell_type": "code",
   "execution_count": 0,
   "metadata": {
    "colab": {},
    "colab_type": "code",
    "id": "5xfvJZ6m5WLD"
   },
   "outputs": [],
   "source": [
    "#  Response Coding Categorical data: clean_subcategories(Project subject categories)\n",
    "CC='clean_categories'\n",
    "CC_0='St_0_cl_cat'\n",
    "CC_1='St_1_cl_cat'\n",
    "\n",
    "X_train=res_code(X_train,y_train,CC,CC_0,CC_1)\n",
    "X_test=res_code(X_test,y_test,CC,CC_0,CC_1)\n",
    "\n",
    "#  Response Coding Categorical data: clean_subcategories(Project subject subcategories)\n",
    "CC = 'clean_subcategories'\n",
    "CC_0='St_0_sub_cat'\n",
    "CC_1='St_1_sub_cat'\n",
    "X_train=res_code(X_train,y_train,CC,CC_0,CC_1)\n",
    "X_test=res_code(X_test,y_test,CC,CC_0,CC_1)\n",
    "\n",
    "#  Response Coding Categorical data:(school_state)\n",
    "CC = 'school_state'\n",
    "CC_0='St_0_sc_st'\n",
    "CC_1='St_1_sc_st'\n",
    "X_train=res_code(X_train,y_train,CC,CC_0,CC_1)\n",
    "X_test=res_code(X_test,y_test,CC,CC_0,CC_1)\n",
    "\n",
    "#  Response Coding Categorical data: (project_grade_category)\n",
    "CC = 'project_grade_category'\n",
    "CC_0='St_0_pgc'\n",
    "CC_1='St_1_pgc'\n",
    "X_train=res_code(X_train,y_train,CC,CC_0,CC_1)\n",
    "X_test=res_code(X_test,y_test,CC,CC_0,CC_1)\n",
    "\n",
    "#  Response Coding Categorical data: (project_grade_category)\n",
    "CC = 'teacher_prefix'\n",
    "CC_0='St_0_tp'\n",
    "CC_1='St_1_tp'\n",
    "X_train=res_code(X_train,y_train,CC,CC_0,CC_1)\n",
    "X_test=res_code(X_test,y_test,CC,CC_0,CC_1)\n",
    "# X_train.to_csv('train_cc.csv')\n",
    "# X_test.to_csv('test_cc.csv')"
   ]
  },
  {
   "cell_type": "code",
   "execution_count": 0,
   "metadata": {
    "colab": {
     "base_uri": "https://localhost:8080/",
     "height": 485
    },
    "colab_type": "code",
    "id": "yAsWP5gy5WLK",
    "outputId": "b132962c-0d5f-4f7e-c583-235cc3a4b043"
   },
   "outputs": [
    {
     "data": {
      "text/html": [
       "<div>\n",
       "<style scoped>\n",
       "    .dataframe tbody tr th:only-of-type {\n",
       "        vertical-align: middle;\n",
       "    }\n",
       "\n",
       "    .dataframe tbody tr th {\n",
       "        vertical-align: top;\n",
       "    }\n",
       "\n",
       "    .dataframe thead th {\n",
       "        text-align: right;\n",
       "    }\n",
       "</style>\n",
       "<table border=\"1\" class=\"dataframe\">\n",
       "  <thead>\n",
       "    <tr style=\"text-align: right;\">\n",
       "      <th></th>\n",
       "      <th>Unnamed: 0</th>\n",
       "      <th>id</th>\n",
       "      <th>teacher_id</th>\n",
       "      <th>project_submitted_datetime</th>\n",
       "      <th>project_title</th>\n",
       "      <th>project_resource_summary</th>\n",
       "      <th>teacher_number_of_previously_posted_projects</th>\n",
       "      <th>digits_in_summary</th>\n",
       "      <th>essay</th>\n",
       "      <th>price</th>\n",
       "      <th>quantity</th>\n",
       "      <th>St_1_cl_cat</th>\n",
       "      <th>St_0_cl_cat</th>\n",
       "      <th>St_1_sub_cat</th>\n",
       "      <th>St_0_sub_cat</th>\n",
       "      <th>St_1_sc_st</th>\n",
       "      <th>St_0_sc_st</th>\n",
       "      <th>St_1_pgc</th>\n",
       "      <th>St_0_pgc</th>\n",
       "      <th>St_1_tp</th>\n",
       "      <th>St_0_tp</th>\n",
       "    </tr>\n",
       "  </thead>\n",
       "  <tbody>\n",
       "    <tr>\n",
       "      <th>0</th>\n",
       "      <td>109407</td>\n",
       "      <td>p005384</td>\n",
       "      <td>9028768cdb5a9fcd858c3912ea914ed4</td>\n",
       "      <td>9/27/2016 21:16</td>\n",
       "      <td>listening to great books in our new listening ...</td>\n",
       "      <td>My students need a listening center with books...</td>\n",
       "      <td>2</td>\n",
       "      <td>0</td>\n",
       "      <td>i classroom full excited 2nd graders ready lea...</td>\n",
       "      <td>205.82</td>\n",
       "      <td>37</td>\n",
       "      <td>54.49</td>\n",
       "      <td>45.51</td>\n",
       "      <td>59.26</td>\n",
       "      <td>40.74</td>\n",
       "      <td>52.49</td>\n",
       "      <td>47.51</td>\n",
       "      <td>50.24</td>\n",
       "      <td>49.76</td>\n",
       "      <td>50.67</td>\n",
       "      <td>49.33</td>\n",
       "    </tr>\n",
       "    <tr>\n",
       "      <th>1</th>\n",
       "      <td>113334</td>\n",
       "      <td>p072953</td>\n",
       "      <td>fe73585bb6e72c42733013a09f096430</td>\n",
       "      <td>8/24/2016 21:11</td>\n",
       "      <td>food brain</td>\n",
       "      <td>My students need these snacks in order to stay...</td>\n",
       "      <td>1</td>\n",
       "      <td>0</td>\n",
       "      <td>my students attend low income high poverty tit...</td>\n",
       "      <td>54.87</td>\n",
       "      <td>34</td>\n",
       "      <td>51.77</td>\n",
       "      <td>48.23</td>\n",
       "      <td>50.53</td>\n",
       "      <td>49.47</td>\n",
       "      <td>49.76</td>\n",
       "      <td>50.24</td>\n",
       "      <td>50.61</td>\n",
       "      <td>49.39</td>\n",
       "      <td>49.97</td>\n",
       "      <td>50.03</td>\n",
       "    </tr>\n",
       "    <tr>\n",
       "      <th>2</th>\n",
       "      <td>82705</td>\n",
       "      <td>p165525</td>\n",
       "      <td>63e5c5d2346a370d186f3800cb54fe4a</td>\n",
       "      <td>11/13/2016 16:07</td>\n",
       "      <td>tortoise friends enriched classroom</td>\n",
       "      <td>My students need a terrarium habitat for two t...</td>\n",
       "      <td>3</td>\n",
       "      <td>0</td>\n",
       "      <td>my students members school community upswing w...</td>\n",
       "      <td>285.43</td>\n",
       "      <td>7</td>\n",
       "      <td>41.26</td>\n",
       "      <td>58.74</td>\n",
       "      <td>28.57</td>\n",
       "      <td>71.43</td>\n",
       "      <td>52.02</td>\n",
       "      <td>47.98</td>\n",
       "      <td>50.24</td>\n",
       "      <td>49.76</td>\n",
       "      <td>49.97</td>\n",
       "      <td>50.03</td>\n",
       "    </tr>\n",
       "  </tbody>\n",
       "</table>\n",
       "</div>"
      ],
      "text/plain": [
       "   Unnamed: 0       id  ... St_1_tp St_0_tp\n",
       "0      109407  p005384  ...   50.67   49.33\n",
       "1      113334  p072953  ...   49.97   50.03\n",
       "2       82705  p165525  ...   49.97   50.03\n",
       "\n",
       "[3 rows x 21 columns]"
      ]
     },
     "execution_count": 31,
     "metadata": {
      "tags": []
     },
     "output_type": "execute_result"
    }
   ],
   "source": [
    "X_train = X_train.fillna(0)\n",
    "X_test = X_test.fillna(0)\n",
    "X_train.head(3)"
   ]
  },
  {
   "cell_type": "markdown",
   "metadata": {
    "colab_type": "text",
    "id": "VLBFX9W25WLP"
   },
   "source": [
    "#### 2.3 Make Data Model Ready: Vectorizing Numerical features"
   ]
  },
  {
   "cell_type": "markdown",
   "metadata": {
    "colab_type": "text",
    "id": "887WqxcM5WLR"
   },
   "source": [
    "#### 2.3.1 Vectorizing Numerical features--Price"
   ]
  },
  {
   "cell_type": "code",
   "execution_count": 0,
   "metadata": {
    "colab": {
     "base_uri": "https://localhost:8080/",
     "height": 85
    },
    "colab_type": "code",
    "id": "s4OROc835WLT",
    "outputId": "2fa45792-f67c-40ce-95e6-993a10bb30a1"
   },
   "outputs": [
    {
     "name": "stdout",
     "output_type": "stream",
     "text": [
      "After vectorizations\n",
      "(13400, 1) (13400,)\n",
      "(6600, 1) (6600,)\n",
      "====================================================================================================\n"
     ]
    }
   ],
   "source": [
    "from sklearn.preprocessing import Normalizer\n",
    "from sklearn.preprocessing import StandardScaler\n",
    "normalizer = StandardScaler() #Normalizer()\n",
    "# normalizer_test = Normalizer()\n",
    "# normalizer.fit(X_train['price'].values)\n",
    "# this will rise an error Expected 2D array, got 1D array instead: \n",
    "# array=[105.22 215.96  96.01 ... 368.98  80.53 709.67].\n",
    "# Reshape your data either using \n",
    "# array.reshape(-1, 1) if your data has a single feature \n",
    "# array.reshape(1, -1)  if it contains a single sample.\n",
    "normalizer.fit(X_train['price'].values.reshape(-1,1))\n",
    "# normalizer_test.fit(X_test['price'].values.reshape(1,-1))\n",
    "\n",
    "X_train_price_norm = normalizer.transform(X_train['price'].values.reshape(-1,1))\n",
    "# X_cv_price_norm = normalizer.transform(X_cv['price'].values.reshape(-1,1))\n",
    "X_test_price_norm = normalizer.transform(X_test['price'].values.reshape(-1,1))\n",
    "\n",
    "\n",
    "# X_train_price_norm=np.reshape(X_train_price_norm,(1,-1))\n",
    "# X_test_price_norm=np.reshape(X_test_price_norm,(1,-1))\n",
    "\n",
    "print(\"After vectorizations\")\n",
    "\n",
    "# np.reshape(X_train_price_norm,\n",
    "print(X_train_price_norm.shape, y_train.shape)\n",
    "# print(X_cv_price_norm.shape, y_cv.shape)\n",
    "print(X_test_price_norm.shape, y_test.shape)\n",
    "print(\"=\"*100)"
   ]
  },
  {
   "cell_type": "markdown",
   "metadata": {
    "colab_type": "text",
    "id": "KcenchbA5WLa"
   },
   "source": [
    "#### 2.3.2 Vectorizing Numerical features--teacher_number_of_previously_posted_projects"
   ]
  },
  {
   "cell_type": "code",
   "execution_count": 0,
   "metadata": {
    "colab": {
     "base_uri": "https://localhost:8080/",
     "height": 85
    },
    "colab_type": "code",
    "id": "QfP28ioh5WLc",
    "outputId": "e6ff195c-70e5-4bb2-bd46-1012d561bdc0"
   },
   "outputs": [
    {
     "name": "stdout",
     "output_type": "stream",
     "text": [
      "After vectorizations\n",
      "(13400, 1) (13400,)\n",
      "(6600, 1) (6600,)\n",
      "====================================================================================================\n"
     ]
    }
   ],
   "source": [
    "from sklearn.preprocessing import Normalizer\n",
    "normalizer_train = StandardScaler() #Normalizer()\n",
    "normalizer_test = StandardScaler() #Normalizer()\n",
    "# normalizer.fit(X_train['teacher_number_of_previously_posted_projects'].values)\n",
    "# this will rise an error Expected 2D array, got 1D array instead: \n",
    "# array=[105.22 215.96  96.01 ... 368.98  80.53 709.67].\n",
    "# Reshape your data either using \n",
    "# array.reshape(-1, 1) if your data has a single feature \n",
    "# array.reshape(1, -1)  if it contains a single sample.\n",
    "normalizer.fit(X_train['teacher_number_of_previously_posted_projects'].values.reshape(-1,1))\n",
    "\n",
    "X_train_teacher_number_of_previously_posted_projects_norm = normalizer.transform(X_train['teacher_number_of_previously_posted_projects'].values.reshape(-1,1))\n",
    "# X_cv_teacher_number_of_previously_posted_projects_norm = normalizer.transform(X_cv['teacher_number_of_previously_posted_projects'].values.reshape(-1,1))\n",
    "X_test_teacher_number_of_previously_posted_projects_norm = normalizer.transform(X_test['teacher_number_of_previously_posted_projects'].values.reshape(-1,1))\n",
    "\n",
    "\n",
    "\n",
    "# X_train_teacher_number_of_previously_posted_projects_norm=np.reshape(X_train_teacher_number_of_previously_posted_projects_norm,(1,-1))\n",
    "# X_test_teacher_number_of_previously_posted_projects_norm=np.reshape(X_test_teacher_number_of_previously_posted_projects_norm,(1,-1))\n",
    "\n",
    "\n",
    "print(\"After vectorizations\")\n",
    "print(X_train_teacher_number_of_previously_posted_projects_norm.shape, y_train.shape)\n",
    "# print(X_cv_teacher_number_of_previously_posted_projects_norm.shape, y_cv.shape)\n",
    "print(X_test_teacher_number_of_previously_posted_projects_norm.shape, y_test.shape)\n",
    "print(\"=\"*100)"
   ]
  },
  {
   "cell_type": "markdown",
   "metadata": {
    "colab_type": "text",
    "id": "6EDf-F-V5WLi"
   },
   "source": [
    "#### 2.3.3 Vectorizing Numerical features--digits_in_summary"
   ]
  },
  {
   "cell_type": "code",
   "execution_count": 0,
   "metadata": {
    "colab": {},
    "colab_type": "code",
    "id": "Q6T1jlFS5WLl"
   },
   "outputs": [],
   "source": [
    "X_train['digits_in_summary'].fillna(X_train['digits_in_summary'].mean(), inplace=True)\n",
    "# X_cv['digits_in_summary'].fillna(X_cv['digits_in_summary'].mean(), inplace=True)\n",
    "X_test['digits_in_summary'].fillna(X_test['digits_in_summary'].mean(), inplace=True)"
   ]
  },
  {
   "cell_type": "code",
   "execution_count": 0,
   "metadata": {
    "colab": {
     "base_uri": "https://localhost:8080/",
     "height": 85
    },
    "colab_type": "code",
    "id": "9de68HTz5WLq",
    "outputId": "7def90a9-416e-496f-80ca-e870320f5931"
   },
   "outputs": [
    {
     "name": "stdout",
     "output_type": "stream",
     "text": [
      "After vectorizations\n",
      "(13400, 1) (13400,)\n",
      "(6600, 1) (6600,)\n",
      "====================================================================================================\n"
     ]
    }
   ],
   "source": [
    "from sklearn.preprocessing import Normalizer\n",
    "normalizer_train = StandardScaler() #Normalizer()\n",
    "normalizer_test = StandardScaler() #Normalizer()\n",
    "# normalizer.fit(X_train['digits_in_summary'].values)\n",
    "# this will rise an error Expected 2D array, got 1D array instead: \n",
    "# array=[105.22 215.96  96.01 ... 368.98  80.53 709.67].\n",
    "# Reshape your data either using \n",
    "# array.reshape(-1, 1) if your data has a single feature \n",
    "# array.reshape(1, -1)  if it contains a single sample.\n",
    "normalizer.fit(X_train['digits_in_summary'].values.reshape(-1,1))\n",
    "\n",
    "X_train_digits_in_summary_norm = normalizer.transform(X_train['digits_in_summary'].values.reshape(-1,1))\n",
    "# X_cv_digits_in_summary_norm = normalizer.transform(X_cv['digits_in_summary'].values.reshape(1,-1))\n",
    "X_test_digits_in_summary_norm = normalizer.transform(X_test['digits_in_summary'].values.reshape(-1,1))\n",
    "\n",
    "\n",
    "# X_train_digits_in_summary_norm=np.reshape(X_train_digits_in_summary_norm,(1,-1))\n",
    "# X_test_digits_in_summary_norm=np.reshape(X_test_digits_in_summary_norm,(1,-1))\n",
    "\n",
    "print(\"After vectorizations\")\n",
    "print(X_train_digits_in_summary_norm.shape, y_train.shape)\n",
    "# print(X_cv_digits_in_summary_norm.shape, y_cv.shape)\n",
    "print(X_test_digits_in_summary_norm.shape, y_test.shape)\n",
    "print(\"=\"*100)"
   ]
  },
  {
   "cell_type": "markdown",
   "metadata": {
    "colab_type": "text",
    "id": "kOeSWQRw5WLv"
   },
   "source": [
    "#### 2.4 Make Data Model Ready: Vectorizing Essay and Project_title feature into BOW & TFIDF"
   ]
  },
  {
   "cell_type": "markdown",
   "metadata": {
    "colab_type": "text",
    "id": "CJBYra2E5WLw"
   },
   "source": [
    "#### Vectorizing Text data"
   ]
  },
  {
   "cell_type": "markdown",
   "metadata": {
    "colab_type": "text",
    "id": "yNSBUNUj5WLy"
   },
   "source": [
    "#### 2.4.1 Bag of words:Essays"
   ]
  },
  {
   "cell_type": "code",
   "execution_count": 0,
   "metadata": {
    "colab": {
     "base_uri": "https://localhost:8080/",
     "height": 136
    },
    "colab_type": "code",
    "id": "iCPVKkeK5WLz",
    "outputId": "07b3de83-7a3c-4d71-85b0-12b4643bed44"
   },
   "outputs": [
    {
     "name": "stdout",
     "output_type": "stream",
     "text": [
      "(13400, 21) (13400,)\n",
      "(6600, 21) (6600,)\n",
      "====================================================================================================\n",
      "After vectorizations\n",
      "(13400, 5000) (13400,)\n",
      "(6600, 5000) (6600,)\n",
      "====================================================================================================\n"
     ]
    }
   ],
   "source": [
    "print(X_train.shape, y_train.shape)\n",
    "# print(X_cv.shape, y_cv.shape)\n",
    "print(X_test.shape, y_test.shape)\n",
    "\n",
    "print(\"=\"*100)\n",
    "\n",
    "# We are considering only the words which appeared in at least 10 documents(rows or projects).max_features=1000 is set to overcome the memory issue by reducing the no of features\n",
    "\n",
    "vectorizer = CountVectorizer(min_df=10,ngram_range=(2,2), max_features=5000)\n",
    "vectorizer.fit(X_train['essay'].values) # fit has to happen only on train data\n",
    "\n",
    "# we use the fitted Countvectorizer to convert the text to vector\n",
    "X_train_essay_bow = vectorizer.transform(X_train['essay'].values)\n",
    "# X_cv_essay_bow = vectorizer.transform(X_cv['essay'].values)\n",
    "X_test_essay_bow = vectorizer.transform(X_test['essay'].values)\n",
    "\n",
    "print(\"After vectorizations\")\n",
    "print(X_train_essay_bow.shape, y_train.shape)\n",
    "# print(X_cv_essay_bow.shape, y_cv.shape)\n",
    "print(X_test_essay_bow.shape, y_test.shape)\n",
    "print(\"=\"*100)\n"
   ]
  },
  {
   "cell_type": "markdown",
   "metadata": {
    "colab_type": "text",
    "id": "pkRKGCVY5WL-"
   },
   "source": [
    "#### 2.4.2 Bag of words:Project Title"
   ]
  },
  {
   "cell_type": "code",
   "execution_count": 0,
   "metadata": {
    "colab": {
     "base_uri": "https://localhost:8080/",
     "height": 136
    },
    "colab_type": "code",
    "id": "uI3TLOjg5WMD",
    "outputId": "fd4f1f49-5fde-4ecf-d9be-f58323351f89"
   },
   "outputs": [
    {
     "name": "stdout",
     "output_type": "stream",
     "text": [
      "(13400, 21) (13400,)\n",
      "(6600, 21) (6600,)\n",
      "====================================================================================================\n",
      "After vectorizations\n",
      "(13400, 311) (13400,)\n",
      "(6600, 311) (6600,)\n",
      "====================================================================================================\n"
     ]
    }
   ],
   "source": [
    "\n",
    "print(X_train.shape, y_train.shape)\n",
    "# print(X_cv.shape, y_cv.shape)\n",
    "print(X_test.shape, y_test.shape)\n",
    "\n",
    "print(\"=\"*100)\n",
    "\n",
    "\n",
    "vectorizer = CountVectorizer(min_df=10,ngram_range=(2,2), max_features=5000)\n",
    "vectorizer.fit(X_train['project_title'].values) # fit has to happen only on train data\n",
    "\n",
    "# we use the fitted Countvectorizer to convert the text to vector\n",
    "X_train_project_title_bow = vectorizer.transform(X_train['project_title'].values)\n",
    "# X_cv_project_title_bow = vectorizer.transform(X_cv['project_title'].values)\n",
    "X_test_project_title_bow = vectorizer.transform(X_test['project_title'].values)\n",
    "\n",
    "print(\"After vectorizations\")\n",
    "print(X_train_project_title_bow.shape, y_train.shape)\n",
    "# print(X_cv_project_title_bow.shape, y_cv.shape)\n",
    "print(X_test_project_title_bow.shape, y_test.shape)\n",
    "\n",
    "print(\"=\"*100)"
   ]
  },
  {
   "cell_type": "markdown",
   "metadata": {
    "colab_type": "text",
    "id": "wutrbHzx5WMI"
   },
   "source": [
    "#### 2.4.3 Converting Columns into array before merging into hstack"
   ]
  },
  {
   "cell_type": "code",
   "execution_count": 0,
   "metadata": {
    "colab": {},
    "colab_type": "code",
    "id": "bKRlAnrA5WMJ"
   },
   "outputs": [],
   "source": [
    "X_train_St_0_cl_cat = X_train['St_0_cl_cat'].values.reshape(-1,1)\n",
    "X_train_St_1_cl_cat = X_train['St_1_cl_cat'].values.reshape(-1,1)\n",
    "\n",
    "X_train_St_0_sub_cat = X_train['St_0_sub_cat'].values.reshape(-1,1)\n",
    "X_train_St_1_sub_cat = X_train['St_1_sub_cat'].values.reshape(-1,1)\n",
    "\n",
    "X_train_St_0_sc_st = X_train['St_0_sc_st'].values.reshape(-1,1)\n",
    "X_train_St_1_sc_st = X_train['St_1_sc_st'].values.reshape(-1,1)\n",
    "\n",
    "X_train_St_0_pgc = X_train['St_0_pgc'].values.reshape(-1,1)\n",
    "X_train_St_1_pgc = X_train['St_1_pgc'].values.reshape(-1,1)\n",
    "\n",
    "X_train_St_0_tp = X_train['St_0_tp'].values.reshape(-1,1)\n",
    "X_train_St_1_tp = X_train['St_1_tp'].values.reshape(-1,1)\n",
    "\n",
    "\n",
    "# ==========================**************============================\n",
    "\n",
    "X_test_St_0_cl_cat = X_test['St_0_cl_cat'].values.reshape(-1,1)\n",
    "X_test_St_1_cl_cat = X_test['St_1_cl_cat'].values.reshape(-1,1)\n",
    "\n",
    "X_test_St_0_sub_cat = X_test['St_0_sub_cat'].values.reshape(-1,1)\n",
    "X_test_St_1_sub_cat = X_test['St_1_sub_cat'].values.reshape(-1,1)\n",
    "\n",
    "X_test_St_0_sc_st = X_test['St_0_sc_st'].values.reshape(-1,1)\n",
    "X_test_St_1_sc_st = X_test['St_1_sc_st'].values.reshape(-1,1)\n",
    "\n",
    "X_test_St_0_pgc = X_test['St_0_pgc'].values.reshape(-1,1)\n",
    "X_test_St_1_pgc = X_test['St_1_pgc'].values.reshape(-1,1)\n",
    "\n",
    "X_test_St_0_tp = X_test['St_0_tp'].values.reshape(-1,1)\n",
    "X_test_St_1_tp = X_test['St_1_tp'].values.reshape(-1,1)\n"
   ]
  },
  {
   "cell_type": "code",
   "execution_count": 0,
   "metadata": {
    "colab": {},
    "colab_type": "code",
    "id": "eIYSHhdz5WMO"
   },
   "outputs": [],
   "source": [
    "from scipy.sparse import hstack\n",
    "# with the same hstack function we are concatinating a sparse matrix and a dense matirx :)\n",
    "X_BOW_TRAIN = hstack((X_train_digits_in_summary_norm,X_train_teacher_number_of_previously_posted_projects_norm,X_train_price_norm,X_train_project_title_bow,X_train_essay_bow,X_train_St_0_cl_cat,X_train_St_1_cl_cat,X_train_St_0_sub_cat,X_train_St_1_sub_cat,X_train_St_0_sc_st,X_train_St_1_sc_st,X_train_St_0_pgc,X_train_St_1_pgc,X_train_St_0_tp,X_train_St_1_tp\n",
    "))\n",
    "X_BOW_TRAIN=X_BOW_TRAIN.todense()\n",
    "X_BOW_TRAIN=np.array(X_BOW_TRAIN)\n",
    "\n",
    "# X_BOW_cv = hstack((X_cv_project_title_bow,X_cv_essay_bow ,X_cv_digits_in_summary_norm,X_cv_teacher_number_of_previously_posted_projects_norm,X_cv_price_norm,X_cv_teacher_prefix_ohe,X_cv_project_grade_category_ohe,X_cv_School_state_ohe,X_cv_clean_sub_cat_ohe,X_cv_clean_cat_ohe))\n",
    "# X_BOW_cv=X_BOW_cv.todense()\n",
    "# X_BOW_cv=np.array(X_BOW_cv)\n",
    "\n",
    "X_BOW_test = hstack((X_test_digits_in_summary_norm,X_test_teacher_number_of_previously_posted_projects_norm,X_test_price_norm,X_test_project_title_bow,X_test_essay_bow,X_test_St_0_cl_cat,X_test_St_1_cl_cat,X_test_St_0_sub_cat,X_test_St_1_sub_cat,X_test_St_0_sc_st,X_test_St_1_sc_st,X_test_St_0_pgc,X_test_St_1_pgc,X_test_St_0_tp,X_test_St_1_tp\n",
    "))\n",
    "X_BOW_test=X_BOW_test.todense()\n",
    "X_BOW_test=np.array(X_BOW_test)\n",
    "\n",
    "# X_train_project_title_bow=None\n",
    "# X_train_essay_bow =None\n",
    "\n",
    "# X_test_project_title_bow=None\n",
    "# X_test_essay_bow =None"
   ]
  },
  {
   "cell_type": "code",
   "execution_count": 0,
   "metadata": {
    "colab": {
     "base_uri": "https://localhost:8080/",
     "height": 272
    },
    "colab_type": "code",
    "id": "0QopKb5A5WMV",
    "outputId": "72f5b1a1-d817-441d-bb9f-14d1b344cebb"
   },
   "outputs": [
    {
     "name": "stdout",
     "output_type": "stream",
     "text": [
      "(13400, 1)\n",
      "(13400, 1)\n",
      "(13400, 1)\n",
      "(13400, 311)\n",
      "(13400, 5000)\n",
      "(13400, 1)\n",
      "(13400, 1)\n",
      "(13400, 1)\n",
      "(13400, 1)\n",
      "(13400, 1)\n",
      "(13400, 1)\n",
      "(13400, 1)\n",
      "(13400, 1)\n",
      "(13400, 1)\n",
      "(13400, 1)\n"
     ]
    }
   ],
   "source": [
    "print(X_train_digits_in_summary_norm.shape)\n",
    "print(X_train_teacher_number_of_previously_posted_projects_norm.shape)\n",
    "print(X_train_price_norm.shape)\n",
    "print(X_train_project_title_bow.shape)\n",
    "print(X_train_essay_bow.shape)\n",
    "print(X_train_St_0_cl_cat.shape)\n",
    "print(X_train_St_1_cl_cat.shape)\n",
    "print(X_train_St_0_sub_cat.shape)\n",
    "print(X_train_St_1_sub_cat.shape)\n",
    "print(X_train_St_0_sc_st.shape)\n",
    "print(X_train_St_1_sc_st.shape)\n",
    "print(X_train_St_0_pgc.shape)\n",
    "print(X_train_St_1_pgc.shape)\n",
    "print(X_train_St_0_tp.shape)\n",
    "print(X_train_St_1_tp.shape)"
   ]
  },
  {
   "cell_type": "markdown",
   "metadata": {
    "colab_type": "text",
    "id": "XanBIrwS5WMj"
   },
   "source": [
    "#### 2.8 TFIDF weighted W2V-Essay"
   ]
  },
  {
   "cell_type": "markdown",
   "metadata": {
    "colab_type": "text",
    "id": "lgPZPNz85WMl"
   },
   "source": [
    "#### 2.8.1 Using Pretrained Models: TFIDF weighted W2V-Essay\n"
   ]
  },
  {
   "cell_type": "code",
   "execution_count": 0,
   "metadata": {
    "colab": {},
    "colab_type": "code",
    "id": "9TJ1h2fU5WMm"
   },
   "outputs": [],
   "source": [
    "# train test split\n",
    "from sklearn.model_selection import train_test_split\n",
    "\n",
    "Xtfidf_w2v_vectors_train_, Xtfidf_w2v_vectors_test_, y_train, y_test = train_test_split(preprocessed_essays, y, test_size=0.33, stratify=y)\n",
    "\n",
    "# Xtfidf_w2v_vectors_train, Xtfidf_w2v_vectors_cv, y_train, y_cv = train_test_split(Xtfidf_w2v_vectors_train, y_train, test_size=0.33, stratify=y_train)"
   ]
  },
  {
   "cell_type": "code",
   "execution_count": 0,
   "metadata": {
    "colab": {},
    "colab_type": "code",
    "id": "lPMOphua5WMt"
   },
   "outputs": [],
   "source": [
    "# S = [\"abc def pqr\", \"def def def abc\", \"pqr pqr def\"]\n",
    "tfidf_model = TfidfVectorizer()\n",
    "tfidf_model.fit(Xtfidf_w2v_vectors_train_)\n",
    "# we are converting a dictionary with word as a key, and the idf as a value\n",
    "dictionary = dict(zip(tfidf_model.get_feature_names(), list(tfidf_model.idf_)))\n",
    "tfidf_words = set(tfidf_model.get_feature_names())"
   ]
  },
  {
   "cell_type": "code",
   "execution_count": 0,
   "metadata": {
    "colab": {},
    "colab_type": "code",
    "id": "-3NsLHw37I4n"
   },
   "outputs": [],
   "source": [
    "# stronging variables into pickle files python: http://www.jessicayung.com/how-to-use-pickle-to-save-and-load-variables-in-python/\n",
    "# make sure you have the glove_vectors file\n",
    "import pickle\n",
    "with open('/content/drive/My Drive/glove_vectors', 'rb') as f:\n",
    "    model_ = pickle.load(f)\n",
    "    glove_words =  set(model_.keys())"
   ]
  },
  {
   "cell_type": "code",
   "execution_count": 0,
   "metadata": {
    "colab": {
     "base_uri": "https://localhost:8080/",
     "height": 68
    },
    "colab_type": "code",
    "id": "UmTPvplA5WMy",
    "outputId": "010ddd8b-eea3-4e78-a82e-081376334985"
   },
   "outputs": [
    {
     "name": "stderr",
     "output_type": "stream",
     "text": [
      "100%|██████████| 13400/13400 [00:29<00:00, 456.69it/s]"
     ]
    },
    {
     "name": "stdout",
     "output_type": "stream",
     "text": [
      "13400\n",
      "300\n"
     ]
    },
    {
     "name": "stderr",
     "output_type": "stream",
     "text": [
      "\n"
     ]
    }
   ],
   "source": [
    "# average Word2Vec\n",
    "# compute average word2vec for each review.\n",
    "\n",
    "tfidf_w2v_vectors_essay_train = []; # the avg-w2v for each sentence/review is stored in this list\n",
    "for sentence in tqdm(Xtfidf_w2v_vectors_train_): # for each review/sentence\n",
    "    vector = np.zeros(300) # as word vectors are of zero length\n",
    "    tf_idf_weight =0; # num of words with a valid vector in the sentence/review\n",
    "    for word in sentence.split(): # for each word in a review/sentence\n",
    "        if (word in glove_words) and (word in tfidf_words):\n",
    "            vec = model_[word] # getting the vector for each word\n",
    "            # here we are multiplying idf value(dictionary[word]) and the tf value((sentence.count(word)/len(sentence.split())))\n",
    "            tf_idf = dictionary[word]*(sentence.count(word)/len(sentence.split())) # getting the tfidf value for each word\n",
    "            vector += (vec * tf_idf) # calculating tfidf weighted w2v\n",
    "            tf_idf_weight += tf_idf\n",
    "    if tf_idf_weight != 0:\n",
    "        vector /= tf_idf_weight\n",
    "    tfidf_w2v_vectors_essay_train.append(vector)\n",
    "\n",
    "print(len(tfidf_w2v_vectors_essay_train))\n",
    "print(len(tfidf_w2v_vectors_essay_train[0]))"
   ]
  },
  {
   "cell_type": "code",
   "execution_count": 0,
   "metadata": {
    "colab": {
     "base_uri": "https://localhost:8080/",
     "height": 68
    },
    "colab_type": "code",
    "id": "TNPLm2FJ5WM3",
    "outputId": "d506fe4e-4588-4752-df51-eb3164b11f60"
   },
   "outputs": [
    {
     "name": "stderr",
     "output_type": "stream",
     "text": [
      "100%|██████████| 6600/6600 [00:14<00:00, 451.32it/s]"
     ]
    },
    {
     "name": "stdout",
     "output_type": "stream",
     "text": [
      "6600\n",
      "300\n"
     ]
    },
    {
     "name": "stderr",
     "output_type": "stream",
     "text": [
      "\n"
     ]
    }
   ],
   "source": [
    "# average Word2Vec\n",
    "# compute average word2vec for each review.\n",
    "\n",
    "tfidf_w2v_vectors_essay_test = []; # the avg-w2v for each sentence/review is stored in this list\n",
    "for sentence in tqdm(Xtfidf_w2v_vectors_test_): # for each review/sentence\n",
    "    vector = np.zeros(300) # as word vectors are of zero length\n",
    "    tf_idf_weight =0; # num of words with a valid vector in the sentence/review\n",
    "    for word in sentence.split(): # for each word in a review/sentence\n",
    "        if (word in glove_words) and (word in tfidf_words):\n",
    "            vec = model_[word] # getting the vector for each word\n",
    "            # here we are multiplying idf value(dictionary[word]) and the tf value((sentence.count(word)/len(sentence.split())))\n",
    "            tf_idf = dictionary[word]*(sentence.count(word)/len(sentence.split())) # getting the tfidf value for each word\n",
    "            vector += (vec * tf_idf) # calculating tfidf weighted w2v\n",
    "            tf_idf_weight += tf_idf\n",
    "    if tf_idf_weight != 0:\n",
    "        vector /= tf_idf_weight\n",
    "    tfidf_w2v_vectors_essay_test.append(vector)\n",
    "\n",
    "print(len(tfidf_w2v_vectors_essay_test))\n",
    "print(len(tfidf_w2v_vectors_essay_test[0]))"
   ]
  },
  {
   "cell_type": "code",
   "execution_count": 0,
   "metadata": {
    "colab": {
     "base_uri": "https://localhost:8080/",
     "height": 34
    },
    "colab_type": "code",
    "id": "gpuLNflp5WM8",
    "outputId": "9439c7e0-d8ab-4d8d-c13b-db468885d0ff"
   },
   "outputs": [
    {
     "data": {
      "text/plain": [
       "scipy.sparse.csr.csr_matrix"
      ]
     },
     "execution_count": 46,
     "metadata": {
      "tags": []
     },
     "output_type": "execute_result"
    }
   ],
   "source": [
    "import scipy   \n",
    "tfidf_w2v_vectors_essay_train=scipy.sparse.csr_matrix(tfidf_w2v_vectors_essay_train)\n",
    "type(tfidf_w2v_vectors_essay_train)\n",
    "\n",
    "tfidf_w2v_vectors_essay_test=scipy.sparse.csr_matrix(tfidf_w2v_vectors_essay_test)\n",
    "type(tfidf_w2v_vectors_essay_test)\n",
    "\n",
    "# Xtfidf_w2v_vectors_cv=scipy.sparse.csr_matrix(Xtfidf_w2v_vectors_cv)\n",
    "# type(Xtfidf_w2v_vectors_cv)"
   ]
  },
  {
   "cell_type": "markdown",
   "metadata": {
    "colab_type": "text",
    "id": "PBURdlCl5WNB"
   },
   "source": [
    "#### 2.8.2 Using Pretrained Models: TFIDF weighted W2V on project_title"
   ]
  },
  {
   "cell_type": "code",
   "execution_count": 0,
   "metadata": {
    "colab": {},
    "colab_type": "code",
    "id": "j-EXCz_t5WND"
   },
   "outputs": [],
   "source": [
    "# train test split\n",
    "from sklearn.model_selection import train_test_split\n",
    "\n",
    "tfidf_w2v_vectors_Pro_title_train_, tfidf_w2v_vectors_Pro_title_test_, y_train, y_test = train_test_split(preprocessed_project_title, y, test_size=0.33, stratify=y)\n",
    "\n",
    "# tfidf_w2v_vectors_Pro_title_train, tfidf_w2v_vectors_Pro_title_cv, y_train, y_cv = train_test_split(tfidf_w2v_vectors_Pro_title_train, y_train, test_size=0.33, stratify=y_train)"
   ]
  },
  {
   "cell_type": "code",
   "execution_count": 0,
   "metadata": {
    "colab": {},
    "colab_type": "code",
    "id": "t-Km3tww5WNL"
   },
   "outputs": [],
   "source": [
    "# S = [\"abc def pqr\", \"def def def abc\", \"pqr pqr def\"]\n",
    "tfidf_model = TfidfVectorizer()\n",
    "tfidf_model.fit(tfidf_w2v_vectors_Pro_title_train_)\n",
    "# we are converting a dictionary with word as a key, and the idf as a value\n",
    "dictionary = dict(zip(tfidf_model.get_feature_names(), list(tfidf_model.idf_)))\n",
    "tfidf_words = set(tfidf_model.get_feature_names())"
   ]
  },
  {
   "cell_type": "code",
   "execution_count": 0,
   "metadata": {
    "colab": {
     "base_uri": "https://localhost:8080/",
     "height": 68
    },
    "colab_type": "code",
    "id": "o3cKU3Xh5WNP",
    "outputId": "bcf3976a-2068-47c8-ef38-00536feb6ad7"
   },
   "outputs": [
    {
     "name": "stderr",
     "output_type": "stream",
     "text": [
      "100%|██████████| 13400/13400 [00:00<00:00, 26230.32it/s]"
     ]
    },
    {
     "name": "stdout",
     "output_type": "stream",
     "text": [
      "13400\n",
      "300\n"
     ]
    },
    {
     "name": "stderr",
     "output_type": "stream",
     "text": [
      "\n"
     ]
    }
   ],
   "source": [
    "# average Word2Vec\n",
    "# compute average word2vec for each review.\n",
    "tfidf_w2v_vectors_Pro_title_train = []; # the avg-w2v for each sentence/review is stored in this list\n",
    "for sentence in tqdm(tfidf_w2v_vectors_Pro_title_train_): # for each review/sentence\n",
    "    vector = np.zeros(300) # as word vectors are of zero length\n",
    "    tf_idf_weight =0; # num of words with a valid vector in the sentence/review\n",
    "    for word in sentence.split(): # for each word in a review/sentence\n",
    "        if (word in glove_words) and (word in tfidf_words):\n",
    "            vec = model_[word] # getting the vector for each word\n",
    "            # here we are multiplying idf value(dictionary[word]) and the tf value((sentence.count(word)/len(sentence.split())))\n",
    "            tf_idf = dictionary[word]*(sentence.count(word)/len(sentence.split())) # getting the tfidf value for each word\n",
    "            vector += (vec * tf_idf) # calculating tfidf weighted w2v\n",
    "            tf_idf_weight += tf_idf\n",
    "    if tf_idf_weight != 0:\n",
    "        vector /= tf_idf_weight\n",
    "    tfidf_w2v_vectors_Pro_title_train.append(vector)\n",
    "\n",
    "print(len(tfidf_w2v_vectors_Pro_title_train))\n",
    "print(len(tfidf_w2v_vectors_Pro_title_train[0]))"
   ]
  },
  {
   "cell_type": "code",
   "execution_count": 0,
   "metadata": {
    "colab": {
     "base_uri": "https://localhost:8080/",
     "height": 68
    },
    "colab_type": "code",
    "id": "UjiCuMbu5WNS",
    "outputId": "f0544969-eefd-4329-a53e-fab409c60506"
   },
   "outputs": [
    {
     "name": "stderr",
     "output_type": "stream",
     "text": [
      "100%|██████████| 6600/6600 [00:00<00:00, 18540.05it/s]"
     ]
    },
    {
     "name": "stdout",
     "output_type": "stream",
     "text": [
      "6600\n",
      "300\n"
     ]
    },
    {
     "name": "stderr",
     "output_type": "stream",
     "text": [
      "\n"
     ]
    }
   ],
   "source": [
    "# average Word2Vec\n",
    "# compute average word2vec for each review.\n",
    "tfidf_w2v_vectors_Pro_title_test = []; # the avg-w2v for each sentence/review is stored in this list\n",
    "for sentence in tqdm(tfidf_w2v_vectors_Pro_title_test_): # for each review/sentence\n",
    "    vector = np.zeros(300) # as word vectors are of zero length\n",
    "    tf_idf_weight =0; # num of words with a valid vector in the sentence/review\n",
    "    for word in sentence.split(): # for each word in a review/sentence\n",
    "        if (word in glove_words) and (word in tfidf_words):\n",
    "            vec = model_[word] # getting the vector for each word\n",
    "            # here we are multiplying idf value(dictionary[word]) and the tf value((sentence.count(word)/len(sentence.split())))\n",
    "            tf_idf = dictionary[word]*(sentence.count(word)/len(sentence.split())) # getting the tfidf value for each word\n",
    "            vector += (vec * tf_idf) # calculating tfidf weighted w2v\n",
    "            tf_idf_weight += tf_idf\n",
    "    if tf_idf_weight != 0:\n",
    "        vector /= tf_idf_weight\n",
    "    tfidf_w2v_vectors_Pro_title_test.append(vector)\n",
    "\n",
    "print(len(tfidf_w2v_vectors_Pro_title_test))\n",
    "print(len(tfidf_w2v_vectors_Pro_title_test[0]))"
   ]
  },
  {
   "cell_type": "code",
   "execution_count": 0,
   "metadata": {
    "colab": {
     "base_uri": "https://localhost:8080/",
     "height": 34
    },
    "colab_type": "code",
    "id": "SQSD-62c5WNW",
    "outputId": "c8ab77ce-41da-4ac3-ae6f-f1e92eb7b950"
   },
   "outputs": [
    {
     "data": {
      "text/plain": [
       "scipy.sparse.csr.csr_matrix"
      ]
     },
     "execution_count": 51,
     "metadata": {
      "tags": []
     },
     "output_type": "execute_result"
    }
   ],
   "source": [
    "import scipy   \n",
    "tfidf_w2v_vectors_Pro_title_train=scipy.sparse.csr_matrix(tfidf_w2v_vectors_Pro_title_train)\n",
    "type(tfidf_w2v_vectors_Pro_title_train)\n",
    "\n",
    "tfidf_w2v_vectors_Pro_title_test=scipy.sparse.csr_matrix(tfidf_w2v_vectors_Pro_title_test)\n",
    "type(tfidf_w2v_vectors_Pro_title_test)\n",
    "\n",
    "# tfidf_w2v_vectors_Pro_title_cv=scipy.sparse.csr_matrix(tfidf_w2v_vectors_Pro_title_cv)\n",
    "# type(tfidf_w2v_vectors_Pro_title_cv)"
   ]
  },
  {
   "cell_type": "code",
   "execution_count": 0,
   "metadata": {
    "colab": {},
    "colab_type": "code",
    "id": "Z1LEM9C85WNa"
   },
   "outputs": [],
   "source": [
    "X_tfidf_w2v_train = hstack((tfidf_w2v_vectors_essay_train,tfidf_w2v_vectors_Pro_title_train ,X_train_digits_in_summary_norm,X_train_teacher_number_of_previously_posted_projects_norm,X_train_price_norm,X_train_St_0_cl_cat,X_train_St_1_cl_cat,X_train_St_0_sub_cat,X_train_St_1_sub_cat,X_train_St_0_sc_st,X_train_St_1_sc_st,X_train_St_0_pgc,X_train_St_1_pgc,X_train_St_0_tp,X_train_St_1_tp\n",
    "))\n",
    "X_tfidf_w2v_train=X_tfidf_w2v_train.todense()\n",
    "X_tfidf_w2v_train=np.array(X_tfidf_w2v_train)\n",
    "\n",
    "# X_tfidf_w2v_cv = hstack((Xtfidf_w2v_vectors_cv,tfidf_w2v_vectors_Pro_title_cv ,X_cv_digits_in_summary_norm,X_cv_teacher_number_of_previously_posted_projects_norm,X_cv_price_norm,X_cv_teacher_prefix_ohe,X_cv_project_grade_category_ohe,X_cv_School_state_ohe,X_cv_clean_sub_cat_ohe,X_cv_clean_cat_ohe))\n",
    "# X_tfidf_w2v_cv=X_tfidf_w2v_cv.todense()\n",
    "# X_tfidf_w2v_cv=np.array(X_tfidf_w2v_cv)\n",
    "\n",
    "X_tfidf_w2v_test = hstack((tfidf_w2v_vectors_essay_test,tfidf_w2v_vectors_Pro_title_test ,X_test_digits_in_summary_norm,X_test_teacher_number_of_previously_posted_projects_norm,X_test_price_norm,X_test_St_0_cl_cat,X_test_St_1_cl_cat,X_test_St_0_sub_cat,X_test_St_1_sub_cat,X_test_St_0_sc_st,X_test_St_1_sc_st,X_test_St_0_pgc,X_test_St_1_pgc,X_test_St_0_tp,X_test_St_1_tp\n",
    "))\n",
    "X_tfidf_w2v_test=X_tfidf_w2v_test.todense()\n",
    "X_tfidf_w2v_test=np.array(X_tfidf_w2v_test)\n",
    "# X_All = hstack((categories_one_hot,sub_categories_one_hot,school_state_one_hot,project_grade_category_one_hot,teacher_prefix_one_hot,price_standardized,Teacher_posted_projects_standardized,digits_in_summary_standardized,project_title_bow,project_title_Tfidf,avg_w2v_vectors_Pro_title,tfidf_w2v_vectors_Pro_title,text_bow,text_tfidf,avg_w2v_vectors_essay,tfidf_w2v_vectors_essay))\n",
    "\n"
   ]
  },
  {
   "cell_type": "markdown",
   "metadata": {
    "colab_type": "text",
    "id": "GM-PLO215WNe"
   },
   "source": [
    "####  2.8.3 Applying  Random Forest  on `TFIDF W2V`, `SET 4`"
   ]
  },
  {
   "cell_type": "markdown",
   "metadata": {
    "colab_type": "text",
    "id": "YHOjn3W05WNf"
   },
   "source": [
    "#### 2.5.1 Applying Random Forest GridSearchCV on Train data to obtain the best `C`"
   ]
  },
  {
   "cell_type": "code",
   "execution_count": 0,
   "metadata": {
    "colab": {
     "base_uri": "https://localhost:8080/",
     "height": 410
    },
    "colab_type": "code",
    "id": "3fgR7Zb85WNg",
    "outputId": "f1139629-29bd-4886-c689-5370f789de14"
   },
   "outputs": [
    {
     "data": {
      "image/png": "[encoded data removed]",
      "text/plain": [
       "<Figure size 1440x432 with 4 Axes>"
      ]
     },
     "metadata": {
      "tags": []
     },
     "output_type": "display_data"
    }
   ],
   "source": [
    "from sklearn.metrics import roc_auc_score\n",
    "import matplotlib.pyplot as plt\n",
    "from sklearn.model_selection import train_test_split\n",
    "from sklearn.model_selection import GridSearchCV\n",
    "from sklearn.model_selection import cross_val_score\n",
    "# from sklearn.multioutput import MultiOutputClassifier\n",
    "# from sklearn.datasets import make_multilabel_classification\n",
    "from sklearn.tree import DecisionTreeClassifier\n",
    "from sklearn.ensemble import RandomForestClassifier\n",
    "\n",
    "Gt1 = RandomForestClassifier(class_weight='balanced',min_samples_split=5)\n",
    "parameters = {'n_estimators': [5,10,20,25,30,40,45], 'max_depth':[2, 3, 4, 5, 7, 8, 10]}\n",
    "clf1 = GridSearchCV(Gt1, parameters, cv=2, scoring='roc_auc',return_train_score=True)\n",
    "se1 = clf1.fit(X_tfidf_w2v_train, y_train)\n",
    "\n",
    "import seaborn as sns; sns.set()\n",
    "max_scores1 = pd.DataFrame(clf1.cv_results_).groupby(['param_max_depth','param_n_estimators']).max().unstack()[['mean_test_score', 'mean_train_score']]\n",
    "fig, ax = plt.subplots(1,2, figsize=(20,6))\n",
    "sns.heatmap(max_scores1.mean_train_score, annot = True, fmt='.4g', ax=ax[0])\n",
    "sns.heatmap(max_scores1.mean_test_score, annot = True, fmt='.4g', ax=ax[1])\n",
    "ax[0].set_title('Train Set')\n",
    "ax[1].set_title('CV Set')\n",
    "plt.show()\n",
    "\n",
    "# clf1.cv_results_.keys()"
   ]
  },
  {
   "cell_type": "code",
   "execution_count": 0,
   "metadata": {
    "colab": {
     "base_uri": "https://localhost:8080/",
     "height": 187
    },
    "colab_type": "code",
    "id": "emyWHE195WNj",
    "outputId": "6405d3a8-172d-4483-df6e-6c87839d1977"
   },
   "outputs": [
    {
     "name": "stdout",
     "output_type": "stream",
     "text": [
      "RandomForestClassifier(bootstrap=True, ccp_alpha=0.0, class_weight='balanced',\n",
      "                       criterion='gini', max_depth=3, max_features='auto',\n",
      "                       max_leaf_nodes=None, max_samples=None,\n",
      "                       min_impurity_decrease=0.0, min_impurity_split=None,\n",
      "                       min_samples_leaf=1, min_samples_split=5,\n",
      "                       min_weight_fraction_leaf=0.0, n_estimators=45,\n",
      "                       n_jobs=None, oob_score=False, random_state=None,\n",
      "                       verbose=0, warm_start=False)\n",
      "0.6576095121407887\n",
      "0.5805747474747475\n"
     ]
    }
   ],
   "source": [
    "#Best Estimator and Best tune parameters\n",
    "print(clf1.best_estimator_)\n",
    "#Mean cross-validated score of the best_estimator\n",
    "print(clf1.score(X_tfidf_w2v_train,y_train))\n",
    "print(clf1.score(X_tfidf_w2v_test,y_test))"
   ]
  },
  {
   "cell_type": "code",
   "execution_count": 0,
   "metadata": {
    "colab": {},
    "colab_type": "code",
    "id": "5z3pM98Y5WNo"
   },
   "outputs": [],
   "source": [
    "best_tune_parameters=[{'n_estimators':[45], 'max_depth':[3] } ]"
   ]
  },
  {
   "cell_type": "markdown",
   "metadata": {
    "colab_type": "text",
    "id": "JDLoyt555WNv"
   },
   "source": [
    "#### 2.5.2 Receiver Operating Characteristic-`(Tfidf_W2V)`"
   ]
  },
  {
   "cell_type": "code",
   "execution_count": 0,
   "metadata": {
    "colab": {
     "base_uri": "https://localhost:8080/",
     "height": 301
    },
    "colab_type": "code",
    "id": "MZFKw9ic5WNw",
    "outputId": "6ca3bb2e-6a65-4fbb-b448-f927cdccf340"
   },
   "outputs": [
    {
     "data": {
      "image/png": "[encoded data removed]",
      "text/plain": [
       "<Figure size 432x288 with 1 Axes>"
      ]
     },
     "metadata": {
      "tags": []
     },
     "output_type": "display_data"
    }
   ],
   "source": [
    "# https://scikitlearn.org/stable/modules/generated/sklearn.metrics.roc_curve.html#sklearn.metrics.roc_curve\n",
    "from sklearn.metrics import roc_curve, auc\n",
    "from sklearn.tree import DecisionTreeClassifier\n",
    "from sklearn.metrics import roc_curve, auc\n",
    "\n",
    "clf11= RandomForestClassifier(class_weight = 'balanced',max_depth=3,n_estimators=45)\n",
    "# clfV1=DecisionTreeClassifier (class_weight = 'balanced',max_depth=10,min_samples_split=500)\n",
    "clf11.fit(X_tfidf_w2v_train, y_train)\n",
    "# for visulation\n",
    "# clfV1.fit(X_Tfidf_train, y_train)\n",
    "#https://scikitlearn.org/stable/modules/generated/sklearn.linear_model.SGDClassifier.html#sklearn.linear_model.SGDClassifier.decision_function\n",
    "y_train_pred1 = clf11.predict_proba(X_tfidf_w2v_train) [:,1]\n",
    "y_test_pred1 = clf11.predict_proba(X_tfidf_w2v_test) [:,1]\n",
    "train_fpr1, train_tpr1, tr_thresholds1 = roc_curve(y_train, y_train_pred1)\n",
    "test_fpr1, test_tpr1, te_thresholds1 = roc_curve(y_test, y_test_pred1)\n",
    "plt.plot(train_fpr1, train_tpr1, label=\"train AUC =\"+str(auc(train_fpr1, train_tpr1)))\n",
    "plt.plot(test_fpr1, test_tpr1, label=\"test AUC =\"+str(auc(test_fpr1, test_tpr1)))\n",
    "plt.legend()\n",
    "plt.xlabel(\"False Positive Rate\")\n",
    "plt.ylabel(\"True Positive Rate\")\n",
    "plt.title(\"ERROR PLOTS\")\n",
    "plt.grid(True)\n",
    "plt.show()"
   ]
  },
  {
   "cell_type": "markdown",
   "metadata": {
    "colab_type": "text",
    "id": "rwVy3dS25WN0"
   },
   "source": [
    "#### 2.5.3 Confusion matrix-`Tfidf_W2V`"
   ]
  },
  {
   "cell_type": "code",
   "execution_count": 0,
   "metadata": {
    "colab": {
     "base_uri": "https://localhost:8080/",
     "height": 268
    },
    "colab_type": "code",
    "id": "aU20i7_F5WN2",
    "outputId": "0e510bce-f4c1-4f9c-f835-250c17fb381c"
   },
   "outputs": [
    {
     "data": {
      "image/png": "[encoded data removed]",
      "text/plain": [
       "<Figure size 432x288 with 2 Axes>"
      ]
     },
     "metadata": {
      "tags": []
     },
     "output_type": "display_data"
    }
   ],
   "source": [
    "# https://stackoverflow.com/questions/35572000/how-can-i-plot-a-confusion-matrix\n",
    "#function to get heatmap confusion matrix\n",
    "def get_confusion_matrix(clf,X_te,y_test):\n",
    "    y_pred = clf.predict(X_te)\n",
    "    df_cm = pd.DataFrame(confusion_matrix(y_test, y_pred), index =['Actual NO','Actual YES'],columns =['Predicted NO','Predicted YES'] )\n",
    "    sns.heatmap(df_cm, annot=True,annot_kws={\"size\": 16}, fmt='g')\n",
    "# %%time\n",
    "get_confusion_matrix(clf11,X_tfidf_w2v_test,y_test)\n"
   ]
  },
  {
   "cell_type": "code",
   "execution_count": 0,
   "metadata": {
    "colab": {
     "base_uri": "https://localhost:8080/",
     "height": 270
    },
    "colab_type": "code",
    "id": "YS8JlM-J5WN6",
    "outputId": "095df175-3261-4466-c51e-76d20e456b8a"
   },
   "outputs": [
    {
     "data": {
      "image/png": "[encoded data removed]",
      "text/plain": [
       "<Figure size 432x288 with 2 Axes>"
      ]
     },
     "metadata": {
      "tags": []
     },
     "output_type": "display_data"
    }
   ],
   "source": [
    "# https://stackoverflow.com/questions/35572000/how-can-i-plot-a-confusion-matrix\n",
    "#function to get heatmap confusion matrix\n",
    "def get_confusion_matrix(clf,X_te,y_test):\n",
    "    y_pred = clf.predict(X_te)\n",
    "    df_cm = pd.DataFrame(confusion_matrix(y_test, y_pred), index =['Actual NO','Actual YES'],columns =['Predicted NO','Predicted YES'] )\n",
    "    sns.heatmap(df_cm, annot=True,annot_kws={\"size\": 16}, fmt='g')\n",
    "# %%time\n",
    "get_confusion_matrix(clf11,X_tfidf_w2v_train,y_train)"
   ]
  },
  {
   "cell_type": "markdown",
   "metadata": {
    "colab_type": "text",
    "id": "aOHSSZzy5WN-"
   },
   "source": [
    "#### Selecting the Best features from the `Tfidf_W2V` model"
   ]
  },
  {
   "cell_type": "code",
   "execution_count": 0,
   "metadata": {
    "colab": {},
    "colab_type": "code",
    "id": "kpQgrPr95WN_"
   },
   "outputs": [],
   "source": [
    "# from sklearn.feature_selection import SelectFromModel\n",
    "# from sklearn.linear_model import LogisticRegression\n",
    "# from sklearn.linear_model import SGDClassifier\n",
    "\n",
    "# selector = SelectFromModel(estimator=SGDClassifier(max_depth=None,class_weight = 'balanced')).fit(X_tfidf_w2v_train, y_train)\n",
    "# # selector.estimator_.coef_\n",
    "# selector.threshold_\n",
    "# selector.get_support()"
   ]
  },
  {
   "cell_type": "code",
   "execution_count": 0,
   "metadata": {
    "colab": {},
    "colab_type": "code",
    "id": "qclByB135WOC"
   },
   "outputs": [],
   "source": [
    "x=X_tfidf_w2v_train\n",
    "x1=X_tfidf_w2v_test\n",
    "X_tfidf_w2v_train=None\n",
    "X_tfidf_w2v_test=None\n",
    "# X_Tfidf_train.shape\n",
    "# X_Tfidf_test.shape"
   ]
  },
  {
   "cell_type": "markdown",
   "metadata": {
    "colab_type": "text",
    "id": "nk4HbaDN5WOJ"
   },
   "source": [
    "#### 2.5.4 Applying GBDT & GridSearchCV on Train data to obtain the best `C`"
   ]
  },
  {
   "cell_type": "code",
   "execution_count": 0,
   "metadata": {
    "colab": {
     "base_uri": "https://localhost:8080/",
     "height": 410
    },
    "colab_type": "code",
    "id": "xVBbaVKY5WOK",
    "outputId": "66f74242-fe74-4df9-d50b-fe3db73d926b"
   },
   "outputs": [
    {
     "data": {
      "image/png": "[encoded data removed]",
      "text/plain": [
       "<Figure size 1440x432 with 4 Axes>"
      ]
     },
     "metadata": {
      "tags": []
     },
     "output_type": "display_data"
    }
   ],
   "source": [
    "from sklearn.metrics import roc_auc_score\n",
    "import matplotlib.pyplot as plt\n",
    "from sklearn.model_selection import train_test_split\n",
    "from sklearn.model_selection import GridSearchCV\n",
    "from sklearn.model_selection import cross_val_score\n",
    "from sklearn.tree import DecisionTreeClassifier\n",
    "from sklearn.ensemble import GradientBoostingClassifier\n",
    "from sklearn.model_selection import RandomizedSearchCV\n",
    "\n",
    "Gt1 = GradientBoostingClassifier(min_samples_split=15)\n",
    "parameters = {'n_estimators': [20,40,60,80,100,200], 'max_depth':[2,3,5,6,7,8,10,11] }\n",
    "clf1 = RandomizedSearchCV(Gt1, parameters, cv=2, scoring='roc_auc',return_train_score=True)\n",
    "se1 = clf1.fit(x, y_train)\n",
    "\n",
    "import seaborn as sns; sns.set()\n",
    "max_scores1 = pd.DataFrame(clf1.cv_results_).groupby(['param_max_depth','param_n_estimators']).max().unstack()[['mean_test_score', 'mean_train_score']]\n",
    "fig, ax = plt.subplots(1,2, figsize=(20,6))\n",
    "sns.heatmap(max_scores1.mean_train_score, annot = True, fmt='.4g', ax=ax[0])\n",
    "sns.heatmap(max_scores1.mean_test_score, annot = True, fmt='.4g', ax=ax[1])\n",
    "ax[0].set_title('Train Set')\n",
    "ax[1].set_title('CV Set')\n",
    "plt.show()\n",
    "\n",
    "# clf1.cv_results_.keys()"
   ]
  },
  {
   "cell_type": "code",
   "execution_count": 0,
   "metadata": {
    "colab": {
     "base_uri": "https://localhost:8080/",
     "height": 221
    },
    "colab_type": "code",
    "id": "z7hWT65K5WOP",
    "outputId": "534450ad-3727-4b2a-9e48-144490d9552d"
   },
   "outputs": [
    {
     "name": "stdout",
     "output_type": "stream",
     "text": [
      "GradientBoostingClassifier(ccp_alpha=0.0, criterion='friedman_mse', init=None,\n",
      "                           learning_rate=0.1, loss='deviance', max_depth=2,\n",
      "                           max_features=None, max_leaf_nodes=None,\n",
      "                           min_impurity_decrease=0.0, min_impurity_split=None,\n",
      "                           min_samples_leaf=1, min_samples_split=15,\n",
      "                           min_weight_fraction_leaf=0.0, n_estimators=80,\n",
      "                           n_iter_no_change=None, presort='deprecated',\n",
      "                           random_state=None, subsample=1.0, tol=0.0001,\n",
      "                           validation_fraction=0.1, verbose=0,\n",
      "                           warm_start=False)\n",
      "0.6907921586099354\n",
      "0.5880856749311295\n"
     ]
    }
   ],
   "source": [
    "#Best Estimator and Best tune parameters\n",
    "print(clf1.best_estimator_)\n",
    "#Mean cross-validated score of the best_estimator\n",
    "print(clf1.score(x,y_train))\n",
    "print(clf1.score(x1,y_test))"
   ]
  },
  {
   "cell_type": "code",
   "execution_count": 0,
   "metadata": {
    "colab": {},
    "colab_type": "code",
    "id": "AowpybpN5WOS"
   },
   "outputs": [],
   "source": [
    "best_tune_parameters=[{'n_estimators':[80], 'max_depth':[2] } ]"
   ]
  },
  {
   "cell_type": "markdown",
   "metadata": {
    "colab_type": "text",
    "id": "4vFNehrO5WOW"
   },
   "source": [
    "#### 2.5.5 Receiver Operating Characteristic-`(Tfidf_W2V)`"
   ]
  },
  {
   "cell_type": "code",
   "execution_count": 0,
   "metadata": {
    "colab": {
     "base_uri": "https://localhost:8080/",
     "height": 301
    },
    "colab_type": "code",
    "id": "NeeOM1bk5WOX",
    "outputId": "a905958f-df8b-4bb0-f052-87083c2ba302"
   },
   "outputs": [
    {
     "data": {
      "image/png": "[encoded data removed]",
      "text/plain": [
       "<Figure size 432x288 with 1 Axes>"
      ]
     },
     "metadata": {
      "tags": []
     },
     "output_type": "display_data"
    }
   ],
   "source": [
    "# https://scikitlearn.org/stable/modules/generated/sklearn.metrics.roc_curve.html#sklearn.metrics.roc_curve\n",
    "from sklearn.metrics import roc_curve, auc\n",
    "from sklearn.tree import DecisionTreeClassifier\n",
    "from sklearn.metrics import roc_curve, auc\n",
    "\n",
    "clf11= GradientBoostingClassifier(max_depth=2,n_estimators=80)\n",
    "# clfV1=DecisionTreeClassifier (class_weight = 'balanced',max_depth=10,min_samples_split=500)\n",
    "clf11.fit(x, y_train)\n",
    "# for visulation\n",
    "# clfV1.fit(X_Tfidf_train, y_train)\n",
    "#https://scikitlearn.org/stable/modules/generated/sklearn.linear_model.SGDClassifier.html#sklearn.linear_model.SGDClassifier.decision_function\n",
    "y_train_pred1 = clf11.predict_proba(x) [:,1]\n",
    "y_test_pred1 = clf11.predict_proba(x1) [:,1]\n",
    "train_fpr1, train_tpr1, tr_thresholds1 = roc_curve(y_train, y_train_pred1)\n",
    "test_fpr1, test_tpr1, te_thresholds1 = roc_curve(y_test, y_test_pred1)\n",
    "plt.plot(train_fpr1, train_tpr1, label=\"train AUC =\"+str(auc(train_fpr1, train_tpr1)))\n",
    "plt.plot(test_fpr1, test_tpr1, label=\"test AUC =\"+str(auc(test_fpr1, test_tpr1)))\n",
    "plt.legend()\n",
    "plt.xlabel(\"False Positive Rate\")\n",
    "plt.ylabel(\"True Positive Rate\")\n",
    "plt.title(\"ERROR PLOTS\")\n",
    "plt.grid(True)\n",
    "plt.show()"
   ]
  },
  {
   "cell_type": "markdown",
   "metadata": {
    "colab_type": "text",
    "id": "EcgPjyHl5WOb"
   },
   "source": [
    "#### 2.5.6 Confusion matrix-`Tfidf_W2V`"
   ]
  },
  {
   "cell_type": "code",
   "execution_count": 0,
   "metadata": {
    "colab": {
     "base_uri": "https://localhost:8080/",
     "height": 268
    },
    "colab_type": "code",
    "id": "7A05Xq3d5WOc",
    "outputId": "fba4ade2-072a-4a34-ece0-735487da1674"
   },
   "outputs": [
    {
     "data": {
      "image/png": "[encoded data removed]",
      "text/plain": [
       "<Figure size 432x288 with 2 Axes>"
      ]
     },
     "metadata": {
      "tags": []
     },
     "output_type": "display_data"
    }
   ],
   "source": [
    "# https://stackoverflow.com/questions/35572000/how-can-i-plot-a-confusion-matrix\n",
    "#function to get heatmap confusion matrix\n",
    "def get_confusion_matrix(clf,X_te,y_test):\n",
    "    y_pred = clf.predict(X_te)\n",
    "    df_cm = pd.DataFrame(confusion_matrix(y_test, y_pred), index =['Actual NO','Actual YES'],columns =['Predicted NO','Predicted YES'] )\n",
    "    sns.heatmap(df_cm, annot=True,annot_kws={\"size\": 16}, fmt='g')\n",
    "# %%time\n",
    "get_confusion_matrix(clf11,x1,y_test)\n"
   ]
  },
  {
   "cell_type": "code",
   "execution_count": 0,
   "metadata": {
    "colab": {
     "base_uri": "https://localhost:8080/",
     "height": 268
    },
    "colab_type": "code",
    "id": "hkbOrd6o5WOg",
    "outputId": "10b6b6f3-7f21-4a62-f8f5-e721665fb6dc"
   },
   "outputs": [
    {
     "data": {
      "image/png": "[encoded data removed]",
      "text/plain": [
       "<Figure size 432x288 with 2 Axes>"
      ]
     },
     "metadata": {
      "tags": []
     },
     "output_type": "display_data"
    }
   ],
   "source": [
    "# https://stackoverflow.com/questions/35572000/how-can-i-plot-a-confusion-matrix\n",
    "#function to get heatmap confusion matrix\n",
    "def get_confusion_matrix(clf,X_te,y_test):\n",
    "    y_pred = clf.predict(X_te)\n",
    "    df_cm = pd.DataFrame(confusion_matrix(y_test, y_pred), index =['Actual NO','Actual YES'],columns =['Predicted NO','Predicted YES'] )\n",
    "    sns.heatmap(df_cm, annot=True,annot_kws={\"size\": 16}, fmt='g')\n",
    "# %%time\n",
    "get_confusion_matrix(clf11,x,y_train)"
   ]
  },
  {
   "cell_type": "code",
   "execution_count": 0,
   "metadata": {
    "colab": {},
    "colab_type": "code",
    "id": "zx307cRJ5WOk"
   },
   "outputs": [],
   "source": [
    "#To make best use of the memory we are setting the variable names to 'None' and performing garbage collection.\n",
    "# X_tfidf_w2v_test=None\n",
    "# X_tfidf_w2v_train=None\n",
    "# y_tfidf_w2v_train=None\n",
    "x=None\n",
    "x1=None\n",
    "gc.collect()"
   ]
  },
  {
   "cell_type": "markdown",
   "metadata": {
    "colab_type": "text",
    "id": "-yez6XkD5WOo"
   },
   "source": [
    "####  2.10 Pretty table summary"
   ]
  },
  {
   "cell_type": "code",
   "execution_count": 4,
   "metadata": {
    "colab": {
     "base_uri": "https://localhost:8080/",
     "height": 119
    },
    "colab_type": "code",
    "id": "Vol4IAmM5WOp",
    "outputId": "0b1f1d11-29ec-43c0-cf6c-833b4e06d16f"
   },
   "outputs": [
    {
     "name": "stdout",
     "output_type": "stream",
     "text": [
      "+--------------------+-------+--------------+-----------+----------+\n",
      "|     Vectorizer     | Model | n_estimators | max_depth | Test-AUC |\n",
      "+--------------------+-------+--------------+-----------+----------+\n",
      "|        BOW         |   RF  |      40      |     8     |  68.16   |\n",
      "|        BOW         |  GBDT |     200      |     2     |  70.16   |\n",
      "|       TFIDF        |   RF  |      60      |     7     |  68.16   |\n",
      "|       TFIDF        |  GBDT |      80      |     5     |  69.67   |\n",
      "| TFIDF_weighted_W2V |   RF  |      45      |     3     |  57.45   |\n",
      "| TFIDF_weighted_W2V |  GBDT |      80      |     2     |   58.8   |\n",
      "|      AVG_W2V       |   RF  |      45      |     5     |  58.07   |\n",
      "|      AVG_W2V       |  GBDT |      60      |     4     |   58.2   |\n",
      "+--------------------+-------+--------------+-----------+----------+\n"
     ]
    }
   ],
   "source": [
    "#http://zetcode.com/python/prettytable/\n",
    "from prettytable import PrettyTable\n",
    "    \n",
    "x = PrettyTable()\n",
    "x.field_names = [\"Vectorizer\",\"Model\", \"n_estimators\",\"max_depth\",\"Test-AUC\"]\n",
    "\n",
    "\n",
    "x.add_row([\"BOW \",\"RF\", '40','8', 68.16])\n",
    "x.add_row([\"BOW \",\"GBDT\", '200','2', 70.16])\n",
    "x.add_row([\"TFIDF\",\"RF\", '60','7', 68.16])\n",
    "x.add_row([\"TFIDF\",\"GBDT\", '80','5', 69.67])\n",
    "x.add_row([\"TFIDF_weighted_W2V\",\"RF\", '45','3', 57.45])\n",
    "x.add_row([\"TFIDF_weighted_W2V\",\"GBDT\", '80','2', 58.80])\n",
    "x.add_row([\"AVG_W2V\",\"RF\", '45','5', 58.07])\n",
    "x.add_row([\"AVG_W2V\",\"GBDT\", '60','4', 58.20])\n",
    "\n",
    "print(x) "
   ]
  }
 ],
 "metadata": {
  "colab": {
   "collapsed_sections": [],
   "name": "Donors_Choose_RF_ GBDT_Assignment_8 -TFIDF weighted W2V.ipynb",
   "provenance": []
  },
  "kernelspec": {
   "display_name": "Python 3",
   "language": "python",
   "name": "python3"
  },
  "language_info": {
   "codemirror_mode": {
    "name": "ipython",
    "version": 3
   },
   "file_extension": ".py",
   "mimetype": "text/x-python",
   "name": "python",
   "nbconvert_exporter": "python",
   "pygments_lexer": "ipython3",
   "version": "3.7.1"
  }
 },
 "nbformat": 4,
 "nbformat_minor": 1
}
