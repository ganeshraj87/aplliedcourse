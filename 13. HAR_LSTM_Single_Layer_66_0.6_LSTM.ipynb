{
 "cells": [
  {
   "cell_type": "code",
   "execution_count": 0,
   "metadata": {
    "colab": {},
    "colab_type": "code",
    "id": "bPfuVwYP4nCw"
   },
   "outputs": [],
   "source": [
    "# Importing Libraries"
   ]
  },
  {
   "cell_type": "code",
   "execution_count": 24,
   "metadata": {
    "colab": {
     "base_uri": "https://localhost:8080/",
     "height": 122
    },
    "colab_type": "code",
    "id": "IQSanVNq5YeZ",
    "outputId": "0a5f63eb-d03b-4637-b9b0-ae78ff53df09"
   },
   "outputs": [
    {
     "name": "stdout",
     "output_type": "stream",
     "text": [
      "Go to this URL in a browser: https://accounts.google.com/o/oauth2/auth?client_id=947318989803-6bn6qk8qdgf4n4g3pfee6491hc0brc4i.apps.googleusercontent.com&redirect_uri=urn%3aietf%3awg%3aoauth%3a2.0%3aoob&response_type=code&scope=email%20https%3a%2f%2fwww.googleapis.com%2fauth%2fdocs.test%20https%3a%2f%2fwww.googleapis.com%2fauth%2fdrive%20https%3a%2f%2fwww.googleapis.com%2fauth%2fdrive.photos.readonly%20https%3a%2f%2fwww.googleapis.com%2fauth%2fpeopleapi.readonly\n",
      "\n",
      "Enter your authorization code:\n",
      "··········\n",
      "Mounted at /content/drive\n"
     ]
    }
   ],
   "source": [
    "from google.colab import drive\n",
    "drive.mount('/content/drive')"
   ]
  },
  {
   "cell_type": "code",
   "execution_count": 25,
   "metadata": {
    "colab": {
     "base_uri": "https://localhost:8080/",
     "height": 170
    },
    "colab_type": "code",
    "id": "fIr4cHRX5Xjb",
    "outputId": "c84b99fc-03f5-4274-ec84-b996924d4c07"
   },
   "outputs": [
    {
     "name": "stdout",
     "output_type": "stream",
     "text": [
      "Collecting patool\n",
      "\u001b[?25l  Downloading https://files.pythonhosted.org/packages/43/94/52243ddff508780dd2d8110964320ab4851134a55ab102285b46e740f76a/patool-1.12-py2.py3-none-any.whl (77kB)\n",
      "\u001b[K     |████████████████████████████████| 81kB 1.4MB/s \n",
      "\u001b[?25hInstalling collected packages: patool\n",
      "Successfully installed patool-1.12\n",
      "patool: Extracting /content/drive/My Drive/HumanActivityRecognition.zip ...\n",
      "patool: running /usr/bin/7z x -o./Unpack_awsrkuu_ -- \"/content/drive/My Drive/HumanActivityRecognition.zip\"\n",
      "patool: ... /content/drive/My Drive/HumanActivityRecognition.zip extracted to `HumanActivityRecognition' (multiple files in root).\n"
     ]
    },
    {
     "data": {
      "text/plain": [
       "'HumanActivityRecognition'"
      ]
     },
     "execution_count": 25,
     "metadata": {
      "tags": []
     },
     "output_type": "execute_result"
    }
   ],
   "source": [
    "!pip3 install patool\n",
    "import patoolib\n",
    "patoolib.extract_archive('/content/drive/My Drive/HumanActivityRecognition.zip')"
   ]
  },
  {
   "cell_type": "code",
   "execution_count": 0,
   "metadata": {
    "colab": {},
    "colab_type": "code",
    "id": "5TjZYC0S4nC9"
   },
   "outputs": [],
   "source": [
    "import pandas as pd\n",
    "import numpy as np"
   ]
  },
  {
   "cell_type": "code",
   "execution_count": 0,
   "metadata": {
    "colab": {},
    "colab_type": "code",
    "id": "6eX9G-W14nDF"
   },
   "outputs": [],
   "source": [
    "# Activities are the class labels\n",
    "# It is a 6 class classification\n",
    "ACTIVITIES = {\n",
    "    0: 'WALKING',\n",
    "    1: 'WALKING_UPSTAIRS',\n",
    "    2: 'WALKING_DOWNSTAIRS',\n",
    "    3: 'SITTING',\n",
    "    4: 'STANDING',\n",
    "    5: 'LAYING',\n",
    "}\n",
    "\n",
    "# Utility function to print the confusion matrix\n",
    "def confusion_matrix(Y_true, Y_pred):\n",
    "    Y_true = pd.Series([ACTIVITIES[y] for y in np.argmax(Y_true, axis=1)])\n",
    "    Y_pred = pd.Series([ACTIVITIES[y] for y in np.argmax(Y_pred, axis=1)])\n",
    "\n",
    "    return pd.crosstab(Y_true, Y_pred, rownames=['True'], colnames=['Pred'])"
   ]
  },
  {
   "cell_type": "markdown",
   "metadata": {
    "colab_type": "text",
    "id": "w_XAdzM24nDM"
   },
   "source": [
    "### Data"
   ]
  },
  {
   "cell_type": "code",
   "execution_count": 0,
   "metadata": {
    "colab": {},
    "colab_type": "code",
    "id": "ol1aYZBv4nDP"
   },
   "outputs": [],
   "source": [
    "# Data directory\n",
    "DATADIR = 'UCI_HAR_Dataset'"
   ]
  },
  {
   "cell_type": "code",
   "execution_count": 0,
   "metadata": {
    "colab": {},
    "colab_type": "code",
    "id": "E6v-8k0d4nDW"
   },
   "outputs": [],
   "source": [
    "# Raw data signals\n",
    "# Signals are from Accelerometer and Gyroscope\n",
    "# The signals are in x,y,z directions\n",
    "# Sensor signals are filtered to have only body acceleration\n",
    "# excluding the acceleration due to gravity\n",
    "# Triaxial acceleration from the accelerometer is total acceleration\n",
    "SIGNALS = [\n",
    "    \"body_acc_x\",\n",
    "    \"body_acc_y\",\n",
    "    \"body_acc_z\",\n",
    "    \"body_gyro_x\",\n",
    "    \"body_gyro_y\",\n",
    "    \"body_gyro_z\",\n",
    "    \"total_acc_x\",\n",
    "    \"total_acc_y\",\n",
    "    \"total_acc_z\"\n",
    "]"
   ]
  },
  {
   "cell_type": "code",
   "execution_count": 0,
   "metadata": {
    "colab": {},
    "colab_type": "code",
    "id": "0qnMjxat4nDd"
   },
   "outputs": [],
   "source": [
    "# Utility function to read the data from csv file\n",
    "def _read_csv(filename):\n",
    "    return pd.read_csv(filename, delim_whitespace=True, header=None)\n",
    "\n",
    "# Utility function to load the load\n",
    "def load_signals(subset):\n",
    "    signals_data = []\n",
    "\n",
    "    for signal in SIGNALS:\n",
    "        filename = f'/content/HumanActivityRecognition/HAR/UCI_HAR_Dataset/{subset}/Inertial Signals/{signal}_{subset}.txt'\n",
    "        signals_data.append(\n",
    "            _read_csv(filename).as_matrix()\n",
    "        ) \n",
    "\n",
    "    # Transpose is used to change the dimensionality of the output,\n",
    "    # aggregating the signals by combination of sample/timestep.\n",
    "    # Resultant shape is (7352 train/2947 test samples, 128 timesteps, 9 signals)\n",
    "    return np.transpose(signals_data, (1, 2, 0))"
   ]
  },
  {
   "cell_type": "code",
   "execution_count": 0,
   "metadata": {
    "colab": {},
    "colab_type": "code",
    "id": "NKVqn2g14nDm"
   },
   "outputs": [],
   "source": [
    "\n",
    "def load_y(subset):\n",
    "    \"\"\"\n",
    "    The objective that we are trying to predict is a integer, from 1 to 6,\n",
    "    that represents a human activity. We return a binary representation of \n",
    "    every sample objective as a 6 bits vector using One Hot Encoding\n",
    "    (https://pandas.pydata.org/pandas-docs/stable/generated/pandas.get_dummies.html)\n",
    "    \"\"\"\n",
    "   \n",
    "    filename = f'/content/HumanActivityRecognition/HAR/UCI_HAR_Dataset/{subset}/y_{subset}.txt'\n",
    "    y = _read_csv(filename)[0]\n",
    "\n",
    "    return pd.get_dummies(y).as_matrix()"
   ]
  },
  {
   "cell_type": "code",
   "execution_count": 0,
   "metadata": {
    "colab": {},
    "colab_type": "code",
    "id": "Tzkjp4A24nDt"
   },
   "outputs": [],
   "source": [
    "def load_data():\n",
    "    \"\"\"\n",
    "    Obtain the dataset from multiple files.\n",
    "    Returns: X_train, X_test, y_train, y_test\n",
    "    \"\"\"\n",
    "    X_train, X_test = load_signals('train'), load_signals('test')\n",
    "    y_train, y_test = load_y('train'), load_y('test')\n",
    "\n",
    "    return X_train, X_test, y_train, y_test"
   ]
  },
  {
   "cell_type": "code",
   "execution_count": 0,
   "metadata": {
    "colab": {},
    "colab_type": "code",
    "id": "B1Qz2Der4nD1"
   },
   "outputs": [],
   "source": [
    "# Importing tensorflow\n",
    "np.random.seed(42)\n",
    "import tensorflow as tf\n",
    "tf.set_random_seed(42)"
   ]
  },
  {
   "cell_type": "code",
   "execution_count": 0,
   "metadata": {
    "colab": {},
    "colab_type": "code",
    "id": "cqBifQ1V4nD9"
   },
   "outputs": [],
   "source": [
    "# Configuring a session\n",
    "session_conf = tf.ConfigProto(\n",
    "    intra_op_parallelism_threads=1,\n",
    "    inter_op_parallelism_threads=1\n",
    ")"
   ]
  },
  {
   "cell_type": "code",
   "execution_count": 0,
   "metadata": {
    "colab": {},
    "colab_type": "code",
    "id": "NUff6Bmd4nEI"
   },
   "outputs": [],
   "source": [
    "# Import Keras\n",
    "from keras import backend as K\n",
    "sess = tf.Session(graph=tf.get_default_graph(), config=session_conf)\n",
    "K.set_session(sess)"
   ]
  },
  {
   "cell_type": "code",
   "execution_count": 0,
   "metadata": {
    "colab": {},
    "colab_type": "code",
    "id": "PV6rVx1j4nEO"
   },
   "outputs": [],
   "source": [
    "# Importing libraries\n",
    "from keras.models import Sequential\n",
    "from keras.layers import LSTM\n",
    "from keras.layers.core import Dense, Dropout"
   ]
  },
  {
   "cell_type": "code",
   "execution_count": 0,
   "metadata": {
    "colab": {},
    "colab_type": "code",
    "id": "v2CAgsgb4nEU"
   },
   "outputs": [],
   "source": [
    "# Initializing parameters\n",
    "epochs = 32\n",
    "batch_size = 16\n",
    "n_hidden1 = 66\n",
    "# n_hidden2 = 33"
   ]
  },
  {
   "cell_type": "code",
   "execution_count": 0,
   "metadata": {
    "colab": {},
    "colab_type": "code",
    "id": "4-4UbJlX4nEa"
   },
   "outputs": [],
   "source": [
    "# Utility function to count the number of classes\n",
    "def _count_classes(y):\n",
    "    return len(set([tuple(category) for category in y]))"
   ]
  },
  {
   "cell_type": "code",
   "execution_count": 72,
   "metadata": {
    "colab": {
     "base_uri": "https://localhost:8080/",
     "height": 85
    },
    "colab_type": "code",
    "id": "6ptV0Z8O4nEh",
    "outputId": "640930bb-de97-4151-9c83-a35bf5908cef"
   },
   "outputs": [
    {
     "name": "stderr",
     "output_type": "stream",
     "text": [
      "/usr/local/lib/python3.6/dist-packages/ipykernel_launcher.py:11: FutureWarning: Method .as_matrix will be removed in a future version. Use .values instead.\n",
      "  # This is added back by InteractiveShellApp.init_path()\n",
      "/usr/local/lib/python3.6/dist-packages/ipykernel_launcher.py:13: FutureWarning: Method .as_matrix will be removed in a future version. Use .values instead.\n",
      "  del sys.path[0]\n"
     ]
    }
   ],
   "source": [
    "# Loading the train and test data\n",
    "X_train, X_test, Y_train, Y_test = load_data()"
   ]
  },
  {
   "cell_type": "code",
   "execution_count": 73,
   "metadata": {
    "colab": {
     "base_uri": "https://localhost:8080/",
     "height": 68
    },
    "colab_type": "code",
    "id": "3C3YyHHD4nEn",
    "outputId": "5e7bc019-e09c-4ddc-de13-e28da7063cd3"
   },
   "outputs": [
    {
     "name": "stdout",
     "output_type": "stream",
     "text": [
      "128\n",
      "9\n",
      "7352\n"
     ]
    }
   ],
   "source": [
    "timesteps = len(X_train[0])\n",
    "input_dim = len(X_train[0][0])\n",
    "n_classes = _count_classes(Y_train)\n",
    "\n",
    "print(timesteps)\n",
    "print(input_dim)\n",
    "print(len(X_train))"
   ]
  },
  {
   "cell_type": "markdown",
   "metadata": {
    "colab_type": "text",
    "id": "DqEKELgc4nEv"
   },
   "source": [
    "- Defining the Architecture of LSTM"
   ]
  },
  {
   "cell_type": "code",
   "execution_count": 74,
   "metadata": {
    "colab": {
     "base_uri": "https://localhost:8080/",
     "height": 272
    },
    "colab_type": "code",
    "id": "GKRzvx4N4nEx",
    "outputId": "90dcdb99-1269-4489-ce4b-342c4c53ddcf"
   },
   "outputs": [
    {
     "name": "stdout",
     "output_type": "stream",
     "text": [
      "WARNING:tensorflow:Large dropout rate: 0.6 (>0.5). In TensorFlow 2.x, dropout() uses dropout rate instead of keep_prob. Please ensure that this is intended.\n",
      "Model: \"sequential_5\"\n",
      "_________________________________________________________________\n",
      "Layer (type)                 Output Shape              Param #   \n",
      "=================================================================\n",
      "lstm_5 (LSTM)                (None, 66)                20064     \n",
      "_________________________________________________________________\n",
      "dropout_5 (Dropout)          (None, 66)                0         \n",
      "_________________________________________________________________\n",
      "dense_5 (Dense)              (None, 6)                 402       \n",
      "=================================================================\n",
      "Total params: 20,466\n",
      "Trainable params: 20,466\n",
      "Non-trainable params: 0\n",
      "_________________________________________________________________\n"
     ]
    }
   ],
   "source": [
    "# Initiliazing the sequential model\n",
    "model = Sequential()\n",
    "from keras.callbacks import EarlyStopping\n",
    "from keras.callbacks import ModelCheckpoint\n",
    "from keras.models import load_model\n",
    "\n",
    "# Configuring the parameters\n",
    "model.add(LSTM(n_hidden1, input_shape=(timesteps, input_dim))) #,,return_sequences = True\n",
    "# Adding a dropout layer\n",
    "model.add(Dropout(0.6))\n",
    "\n",
    "# model.add(LSTM(n_hidden2, input_shape=(timesteps, input_dim)))\n",
    "# # Adding a dropout layer\n",
    "# model.add(Dropout(0.7))\n",
    "# Adding a dense output layer with sigmoid activation\n",
    "model.add(Dense(n_classes, activation='sigmoid'))\n",
    "model.summary()"
   ]
  },
  {
   "cell_type": "code",
   "execution_count": 0,
   "metadata": {
    "colab": {},
    "colab_type": "code",
    "id": "iEumPPg-4nE3"
   },
   "outputs": [],
   "source": [
    "# Compiling the model\n",
    "model.compile(loss='categorical_crossentropy',\n",
    "              optimizer='rmsprop',\n",
    "              metrics=['accuracy'])"
   ]
  },
  {
   "cell_type": "code",
   "execution_count": 76,
   "metadata": {
    "colab": {
     "base_uri": "https://localhost:8080/",
     "height": 1000
    },
    "colab_type": "code",
    "id": "H0NZd3qQ4nE8",
    "outputId": "09d049cc-c6a4-4c2a-b96a-171e3396f661"
   },
   "outputs": [
    {
     "name": "stdout",
     "output_type": "stream",
     "text": [
      "Train on 7352 samples, validate on 2947 samples\n",
      "Epoch 1/32\n",
      "7352/7352 [==============================] - 43s 6ms/step - loss: 1.2165 - acc: 0.4804 - val_loss: 1.0231 - val_acc: 0.5351\n",
      "Epoch 2/32\n",
      "7352/7352 [==============================] - 42s 6ms/step - loss: 0.9784 - acc: 0.5722 - val_loss: 1.1168 - val_acc: 0.4679\n",
      "Epoch 3/32\n",
      "7352/7352 [==============================] - 41s 6ms/step - loss: 0.8013 - acc: 0.6260 - val_loss: 0.8258 - val_acc: 0.6067\n",
      "Epoch 4/32\n",
      "7352/7352 [==============================] - 41s 6ms/step - loss: 0.8027 - acc: 0.6340 - val_loss: 0.9166 - val_acc: 0.6498\n",
      "Epoch 5/32\n",
      "7352/7352 [==============================] - 41s 6ms/step - loss: 0.7224 - acc: 0.6887 - val_loss: 0.8064 - val_acc: 0.7011\n",
      "Epoch 6/32\n",
      "7352/7352 [==============================] - 41s 6ms/step - loss: 0.7062 - acc: 0.6751 - val_loss: 0.8184 - val_acc: 0.7089\n",
      "Epoch 7/32\n",
      "7352/7352 [==============================] - 42s 6ms/step - loss: 0.5461 - acc: 0.7769 - val_loss: 0.6499 - val_acc: 0.7184\n",
      "Epoch 8/32\n",
      "7352/7352 [==============================] - 41s 6ms/step - loss: 0.4655 - acc: 0.8428 - val_loss: 0.9957 - val_acc: 0.7228\n",
      "Epoch 9/32\n",
      "7352/7352 [==============================] - 41s 6ms/step - loss: 0.4051 - acc: 0.8619 - val_loss: 0.7026 - val_acc: 0.8117\n",
      "Epoch 10/32\n",
      "7352/7352 [==============================] - 42s 6ms/step - loss: 0.3175 - acc: 0.8995 - val_loss: 0.3685 - val_acc: 0.8653\n",
      "Epoch 11/32\n",
      "7352/7352 [==============================] - 41s 6ms/step - loss: 0.2710 - acc: 0.9074 - val_loss: 0.5330 - val_acc: 0.8717\n",
      "Epoch 12/32\n",
      "7352/7352 [==============================] - 42s 6ms/step - loss: 0.2749 - acc: 0.9151 - val_loss: 0.4381 - val_acc: 0.8768\n",
      "Epoch 13/32\n",
      "7352/7352 [==============================] - 41s 6ms/step - loss: 0.2383 - acc: 0.9256 - val_loss: 0.4444 - val_acc: 0.8721\n",
      "Epoch 14/32\n",
      "7352/7352 [==============================] - 41s 6ms/step - loss: 0.1921 - acc: 0.9347 - val_loss: 0.4037 - val_acc: 0.8687\n",
      "Epoch 15/32\n",
      "7352/7352 [==============================] - 41s 6ms/step - loss: 0.1919 - acc: 0.9374 - val_loss: 0.3120 - val_acc: 0.8992\n",
      "Epoch 16/32\n",
      "7352/7352 [==============================] - 41s 6ms/step - loss: 0.1958 - acc: 0.9400 - val_loss: 0.2919 - val_acc: 0.9057\n",
      "Epoch 17/32\n",
      "7352/7352 [==============================] - 43s 6ms/step - loss: 0.2576 - acc: 0.9267 - val_loss: 0.4852 - val_acc: 0.8531\n",
      "Epoch 18/32\n",
      "7352/7352 [==============================] - 41s 6ms/step - loss: 0.1717 - acc: 0.9387 - val_loss: 0.3191 - val_acc: 0.9026\n",
      "Epoch 19/32\n",
      "7352/7352 [==============================] - 41s 6ms/step - loss: 0.1755 - acc: 0.9382 - val_loss: 0.3675 - val_acc: 0.9009\n",
      "Epoch 20/32\n",
      "7352/7352 [==============================] - 41s 6ms/step - loss: 0.1639 - acc: 0.9416 - val_loss: 0.2869 - val_acc: 0.9084\n",
      "Epoch 21/32\n",
      "7352/7352 [==============================] - 41s 6ms/step - loss: 0.1648 - acc: 0.9399 - val_loss: 0.3324 - val_acc: 0.8945\n",
      "Epoch 22/32\n",
      "7352/7352 [==============================] - 41s 6ms/step - loss: 0.1687 - acc: 0.9391 - val_loss: 0.5019 - val_acc: 0.9053\n",
      "Epoch 23/32\n",
      "7352/7352 [==============================] - 41s 6ms/step - loss: 0.1644 - acc: 0.9429 - val_loss: 0.3353 - val_acc: 0.9206\n",
      "Epoch 24/32\n",
      "7352/7352 [==============================] - 41s 6ms/step - loss: 0.1592 - acc: 0.9425 - val_loss: 0.3182 - val_acc: 0.9209\n",
      "Epoch 25/32\n",
      "7352/7352 [==============================] - 41s 6ms/step - loss: 0.1568 - acc: 0.9467 - val_loss: 0.2759 - val_acc: 0.9240\n",
      "Epoch 26/32\n",
      "7352/7352 [==============================] - 41s 6ms/step - loss: 0.1363 - acc: 0.9461 - val_loss: 0.3511 - val_acc: 0.8918\n",
      "Epoch 27/32\n",
      "7352/7352 [==============================] - 41s 6ms/step - loss: 0.1583 - acc: 0.9472 - val_loss: 0.3457 - val_acc: 0.9067\n",
      "Epoch 28/32\n",
      "7352/7352 [==============================] - 42s 6ms/step - loss: 0.1756 - acc: 0.9446 - val_loss: 0.7317 - val_acc: 0.8738\n",
      "Epoch 29/32\n",
      "7352/7352 [==============================] - 41s 6ms/step - loss: 0.1448 - acc: 0.9517 - val_loss: 0.3776 - val_acc: 0.9125\n",
      "Epoch 30/32\n",
      "7352/7352 [==============================] - 41s 6ms/step - loss: 0.1397 - acc: 0.9476 - val_loss: 0.4637 - val_acc: 0.9101\n",
      "Epoch 31/32\n",
      "7352/7352 [==============================] - 41s 6ms/step - loss: 0.1483 - acc: 0.9490 - val_loss: 0.3766 - val_acc: 0.9036\n",
      "Epoch 32/32\n",
      "7352/7352 [==============================] - 41s 6ms/step - loss: 0.1437 - acc: 0.9509 - val_loss: 0.4356 - val_acc: 0.8972\n"
     ]
    },
    {
     "data": {
      "text/plain": [
       "<keras.callbacks.History at 0x7fc0c9adf518>"
      ]
     },
     "execution_count": 76,
     "metadata": {
      "tags": []
     },
     "output_type": "execute_result"
    }
   ],
   "source": [
    "# Training the model\n",
    "model.fit(X_train,\n",
    "          Y_train,\n",
    "          batch_size=batch_size,\n",
    "          validation_data=(X_test, Y_test),\n",
    "          epochs=epochs)\n",
    "\n",
    " \n",
    "# evaluate the model\n",
    " "
   ]
  },
  {
   "cell_type": "code",
   "execution_count": 78,
   "metadata": {
    "colab": {
     "base_uri": "https://localhost:8080/",
     "height": 187
    },
    "colab_type": "code",
    "id": "ypYxoW-p4nFD",
    "outputId": "ce2dcbff-bbc1-4be8-9e0a-bb65501f7082"
   },
   "outputs": [
    {
     "name": "stdout",
     "output_type": "stream",
     "text": [
      "Pred                LAYING  SITTING  ...  WALKING_DOWNSTAIRS  WALKING_UPSTAIRS\n",
      "True                                 ...                                      \n",
      "LAYING                 505       32  ...                   0                 0\n",
      "SITTING                  5      382  ...                   0                 4\n",
      "STANDING                 0      110  ...                   0                 1\n",
      "WALKING                  0        1  ...                   3                22\n",
      "WALKING_DOWNSTAIRS       0        0  ...                 414                 4\n",
      "WALKING_UPSTAIRS         0        0  ...                   9               453\n",
      "\n",
      "[6 rows x 6 columns]\n"
     ]
    }
   ],
   "source": [
    "# Confusion Matrix\n",
    "print(confusion_matrix(Y_test, model.predict(X_test)))"
   ]
  },
  {
   "cell_type": "code",
   "execution_count": 79,
   "metadata": {
    "colab": {
     "base_uri": "https://localhost:8080/",
     "height": 34
    },
    "colab_type": "code",
    "id": "CwNdKRG14nFJ",
    "outputId": "cc84eda8-adb8-4ed3-e370-77b78c57fdbb"
   },
   "outputs": [
    {
     "name": "stdout",
     "output_type": "stream",
     "text": [
      "2947/2947 [==============================] - 2s 568us/step\n"
     ]
    }
   ],
   "source": [
    "score = model.evaluate(X_test, Y_test)"
   ]
  },
  {
   "cell_type": "code",
   "execution_count": 80,
   "metadata": {
    "colab": {
     "base_uri": "https://localhost:8080/",
     "height": 34
    },
    "colab_type": "code",
    "id": "ce-3ypQM4nFO",
    "outputId": "288a287e-aa11-4a6e-afdd-97d5dec1312f"
   },
   "outputs": [
    {
     "data": {
      "text/plain": [
       "[0.4355118162471876, 0.8971835765184933]"
      ]
     },
     "execution_count": 80,
     "metadata": {
      "tags": []
     },
     "output_type": "execute_result"
    }
   ],
   "source": [
    "score"
   ]
  },
  {
   "cell_type": "markdown",
   "metadata": {
    "colab_type": "text",
    "id": "VcURu_ht4nFU"
   },
   "source": [
    "- With a simple single layer architecture we got 92.4% accuracy and a loss of 0.37 from the best model.\n",
    "\n"
   ]
  }
 ],
 "metadata": {
  "colab": {
   "collapsed_sections": [],
   "name": "HAR_LSTM_Single_Layer_66_0.6_LSTM.ipynb",
   "provenance": []
  },
  "kernelspec": {
   "display_name": "Python 3",
   "language": "python",
   "name": "python3"
  },
  "language_info": {
   "codemirror_mode": {
    "name": "ipython",
    "version": 3
   },
   "file_extension": ".py",
   "mimetype": "text/x-python",
   "name": "python",
   "nbconvert_exporter": "python",
   "pygments_lexer": "ipython3",
   "version": "3.7.1"
  }
 },
 "nbformat": 4,
 "nbformat_minor": 1
}
