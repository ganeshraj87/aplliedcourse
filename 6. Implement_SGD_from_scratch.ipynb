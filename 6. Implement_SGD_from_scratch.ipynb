{
 "cells": [
  {
   "cell_type": "markdown",
   "metadata": {
    "colab_type": "text",
    "id": "vigMRkAgyemP"
   },
   "source": [
    "# Implement SGD for linear regression \n",
    "\n",
    "### Objective: \n",
    "Manually implement linear regression using SGD algorithm for boston house price dataset and compare the results with sklearn SGDRegressor implementation."
   ]
  },
  {
   "cell_type": "code",
   "execution_count": 1,
   "metadata": {
    "colab": {},
    "colab_type": "code",
    "id": "REYPoTJ1Af7u"
   },
   "outputs": [],
   "source": [
    "import warnings\n",
    "warnings.filterwarnings(\"ignore\")\n",
    "from sklearn.datasets import load_boston\n",
    "from random import seed\n",
    "from random import randrange\n",
    "from csv import reader\n",
    "from math import sqrt\n",
    "from sklearn import preprocessing\n",
    "import pandas as pd\n",
    "import numpy as np\n",
    "import matplotlib.pyplot as plt\n",
    "from sklearn.linear_model import SGDRegressor\n",
    "from sklearn import preprocessing\n",
    "from sklearn.metrics import mean_squared_error"
   ]
  },
  {
   "cell_type": "code",
   "execution_count": 2,
   "metadata": {
    "colab": {},
    "colab_type": "code",
    "id": "NTQ2iH-kAwbo"
   },
   "outputs": [],
   "source": [
    "X = load_boston().data\n",
    "Y = load_boston().target"
   ]
  },
  {
   "cell_type": "code",
   "execution_count": 3,
   "metadata": {
    "colab": {},
    "colab_type": "code",
    "id": "FgUW39s6Be0U"
   },
   "outputs": [],
   "source": [
    "scaler = preprocessing.StandardScaler().fit(X)\n",
    "X = scaler.transform(X)"
   ]
  },
  {
   "cell_type": "code",
   "execution_count": 4,
   "metadata": {
    "colab": {},
    "colab_type": "code",
    "id": "iJoraqxTyems"
   },
   "outputs": [],
   "source": [
    "# Define a function to plot the results\n",
    "def scatter_plot(y_true, y_pred):\n",
    "    plt.grid(b=True)\n",
    "    plt.scatter(y_true, y_pred)\n",
    "    plt.title(\"Actual prices Vs. Predicted prices\")\n",
    "    plt.xlabel(\"Actual prices\")\n",
    "    plt.ylabel(\"Predicted prices\")\n",
    "    plt.show()"
   ]
  },
  {
   "cell_type": "code",
   "execution_count": 5,
   "metadata": {
    "colab": {
     "base_uri": "https://localhost:8080/",
     "height": 34
    },
    "colab_type": "code",
    "id": "HNu1sXtEBBS2",
    "outputId": "a0c5d3d0-345c-4a34-8ccf-0d9f3d7d23fd"
   },
   "outputs": [
    {
     "name": "stdout",
     "output_type": "stream",
     "text": [
      "21.99415046022759\n"
     ]
    }
   ],
   "source": [
    "clf = SGDRegressor()\n",
    "clf.fit(X, Y)\n",
    "print(mean_squared_error(Y, clf.predict(X)))"
   ]
  },
  {
   "cell_type": "markdown",
   "metadata": {
    "colab_type": "text",
    "id": "euhjuaiVyem9"
   },
   "source": [
    "## Implementing our own SGD regressor algorithm"
   ]
  },
  {
   "cell_type": "markdown",
   "metadata": {
    "colab_type": "text",
    "id": "4d-mr5wkyem_"
   },
   "source": [
    "To implement SGD algorithm we will define a function that we can repeatedly use. \n",
    "\n",
    "The implementation details for SGD are given below:\n",
    "\n",
    "1. First initialize the weight and intercept term with initial random values.\n",
    "2. Decide for the number of iterations for which the SGD algorithm will run to find the minima\n",
    "3. Repeatedly divide the dataset into a fixed number of points to create a batch for every iteration\n",
    "4. Compute the partial derivatives for each batch\n",
    "5. Update the weight and intercept term at the end of each iteration\n",
    "6. Update the learning rate at the very end of the iteration\n",
    "\n",
    "So first I will initialize the weight (w) and intercept term (b)."
   ]
  },
  {
   "cell_type": "code",
   "execution_count": 6,
   "metadata": {
    "colab": {},
    "colab_type": "code",
    "id": "FTgN1_DIyenA"
   },
   "outputs": [],
   "source": [
    "# Create a dataframe for the boston dataset for ease of use\n",
    "boston = pd.DataFrame(data=X)\n",
    "boston['Price'] = Y\n",
    "data = boston.drop('Price', axis=1)\n",
    "target = boston['Price']"
   ]
  },
  {
   "cell_type": "code",
   "execution_count": 7,
   "metadata": {
    "colab": {},
    "colab_type": "code",
    "id": "tbFOebn9yenG"
   },
   "outputs": [],
   "source": [
    "def sgd_implementation(X, learning_rate=0.01, n_iterations=100):\n",
    "    '''\n",
    "        In this SGD implementation, X is a dataframe\n",
    "        - learning_rate has a default value of 0.01 and will decrease with\n",
    "          each iteration accoring to the below formula:\n",
    "                learning_rate = learning_rate/2\n",
    "        \n",
    "        - n_iterations is the number of iterations with a default value of 100.\n",
    "          We can change the number of iterations to see\n",
    "          how the performance of the model changes with higher iterations.\n",
    "          \n",
    "          This function will return the optimal w and b for the dataset X\n",
    "    '''\n",
    "    w = np.zeros(shape=(1,13)) # Initialize the weights as a (1,13)D vector\n",
    "    b = 0.0 # initialize the intercept term as 0 \n",
    "    decay = learning_rate/10000 # Decay rate\n",
    "    \n",
    "    for i in range(n_iterations):\n",
    "        # print(\"Current w: {} and b: {}\".format(w,b))\n",
    "        # First randomly take batch size of 10 from the data\n",
    "        batch = X.sample(10)\n",
    "        \n",
    "        # Separate independent and dependent variables and convert into numpy array\n",
    "        # for ease of computation.\n",
    "        data = np.array(batch.drop('Price', axis=1)) # Independent variables from the batch\n",
    "        target = np.array(batch['Price']) # Dependent variable\n",
    "        \n",
    "        # Initialize the partial derivative terms\n",
    "        # l_der_w is derivative of L (Loss function) with respect to w\n",
    "        # l_der_b is derivative of L (Loss function) with respect to b\n",
    "        \n",
    "        l_der_w = np.zeros(shape=(1,13)) # derivative of L w.r.t w will also be a 13D vector\n",
    "        l_der_b = 0.0\n",
    "        \n",
    "        # l_der_w = -2/n * Sum(x_i * (y - y_hat))\n",
    "        # l_der_b = -2/n * Sum(y - y_hat)\n",
    "        # As we are performing SGD, we will first take the summation of all the elements\n",
    "        # the batch, and then perform the -2/n part for ease of computation\n",
    "        for j in range(10):\n",
    "            y = np.dot(w, data[j]) + b\n",
    "            l_der_w += data[j] * (target[j] - y)\n",
    "            l_der_b += target[j] - y\n",
    "            \n",
    "        l_der_w *= - 2/data.shape[0] # data.shape[0] is number of points, 10 in this case\n",
    "        l_der_b *= - 2/data.shape[0] \n",
    "        \n",
    "        # Update the weight and intercept term\n",
    "        w1 = w - learning_rate * l_der_w\n",
    "        b1 = b - learning_rate * l_der_b\n",
    "        \n",
    "        # Replace w and b with updated values\n",
    "        w = w1\n",
    "        b = b1\n",
    "        \n",
    "        # Update the learning rate\n",
    "        learning_rate *= (1./ (1. + decay * i))\n",
    "    return w, b"
   ]
  },
  {
   "cell_type": "code",
   "execution_count": 8,
   "metadata": {
    "colab": {},
    "colab_type": "code",
    "id": "s-DEUhAwyenJ"
   },
   "outputs": [],
   "source": [
    "# Define function to predict test data for ease of use\n",
    "def predict (data, w, b):\n",
    "    predicted = []\n",
    "    data = np.array(data)\n",
    "    for i in range(data.shape[0]):\n",
    "        yhat = np.dot(w,data[i]) + b # By following the equation y = (w.T * x) + b\n",
    "        predicted.append(yhat)\n",
    "    return predicted"
   ]
  },
  {
   "cell_type": "markdown",
   "metadata": {
    "colab_type": "text",
    "id": "t36Dc7mtyenM"
   },
   "source": [
    "To make the results of my implementation similar to that of sklearn's SGDRegressor, I will be using default learning rate as 0.01 as it is done in the sklearn implementation.\n",
    "\n",
    "Now keeping the initial learning rate same, there are two things we can vary to make our model more similar to the sklearn implementation. The first one is how we are going to decrease the learning rate. For that I am using the following formula: \n",
    "\n",
    "learning_rate *=  1./ (1. + decay+iterations)\n",
    "\n",
    "The other thing that we can modify is the number of iterations for which our model will run to find the minima point. SO to test the manual implementation for how effectively it can find the optimal parameters compared to the sklearn version of the algorithm, I will run both my implementation and sklearn for 100, 1000, 10000 iterations to see how the error rate changes over the number of iterations."
   ]
  },
  {
   "cell_type": "code",
   "execution_count": 9,
   "metadata": {
    "colab": {},
    "colab_type": "code",
    "id": "gh6VWO8vyenN"
   },
   "outputs": [],
   "source": [
    "# Divide the dataset into train and test\n",
    "from sklearn.model_selection import train_test_split\n",
    "train_data, test_data, train_y, test_y = train_test_split(data, target, test_size=0.33, random_state=42)"
   ]
  },
  {
   "cell_type": "markdown",
   "metadata": {
    "colab_type": "text",
    "id": "3yPdJlOkyenP"
   },
   "source": [
    "## Compare sklearn and sgd_implementation using n_iterations = 100"
   ]
  },
  {
   "cell_type": "markdown",
   "metadata": {
    "colab_type": "text",
    "id": "TESFEwNqyenQ"
   },
   "source": [
    "#### For sklearn implementation"
   ]
  },
  {
   "cell_type": "code",
   "execution_count": 10,
   "metadata": {
    "colab": {},
    "colab_type": "code",
    "id": "MYDvrWm-yenR"
   },
   "outputs": [],
   "source": [
    "clf = SGDRegressor(max_iter=100)\n",
    "clf.fit(train_data, train_y)\n",
    "pred_sklearn_100 = clf.predict(test_data)"
   ]
  },
  {
   "cell_type": "code",
   "execution_count": 11,
   "metadata": {
    "colab": {},
    "colab_type": "code",
    "id": "MsG2ZsHGyenU",
    "outputId": "4b0373a8-2ab4-426f-b495-1fdfe08881ff"
   },
   "outputs": [
    {
     "name": "stdout",
     "output_type": "stream",
     "text": [
      "Error for sklearn sgd implementation after 100 iterations:  21.164667136894007\n",
      "Weight is :\n",
      " [-1.0337966   0.7279046   0.19097468  0.86211595 -1.72122605  2.77398882\n",
      " -0.4033986  -2.86411795  1.40707398 -0.72521862 -1.96255155  1.06930931\n",
      " -3.86768486]\n",
      "Intercept term is:  [22.44606377]\n"
     ]
    }
   ],
   "source": [
    "print(\"Error for sklearn sgd implementation after 100 iterations: \", mean_squared_error(test_y, pred_sklearn_100))\n",
    "print(\"Weight is :\\n {}\".format(clf.coef_))\n",
    "print(\"Intercept term is: \", clf.intercept_)"
   ]
  },
  {
   "cell_type": "code",
   "execution_count": 12,
   "metadata": {
    "colab": {},
    "colab_type": "code",
    "id": "d3OOG6vmyenX",
    "outputId": "9abf4996-388b-422f-bf16-ebfc903c1d4c"
   },
   "outputs": [
    {
     "data": {
      "image/png": "[encoded data removed]",
      "text/plain": [
       "<Figure size 432x288 with 1 Axes>"
      ]
     },
     "metadata": {
      "needs_background": "light"
     },
     "output_type": "display_data"
    }
   ],
   "source": [
    "scatter_plot(test_y, pred_sklearn_100)"
   ]
  },
  {
   "cell_type": "markdown",
   "metadata": {
    "colab_type": "text",
    "id": "WFw4fjTLyenb"
   },
   "source": [
    "#### For manual SGD implementation"
   ]
  },
  {
   "cell_type": "code",
   "execution_count": 13,
   "metadata": {
    "colab": {},
    "colab_type": "code",
    "id": "_YTvTCLSyenc"
   },
   "outputs": [],
   "source": [
    "train_df = pd.DataFrame(data=train_data, copy=True)\n",
    "train_df['Price'] = train_y"
   ]
  },
  {
   "cell_type": "code",
   "execution_count": 14,
   "metadata": {
    "colab": {},
    "colab_type": "code",
    "id": "93D2AM9dyenf"
   },
   "outputs": [],
   "source": [
    "w_100, b_100 = sgd_implementation(train_df)\n",
    "pred_sgd_100 = predict(test_data, w_100, b_100)"
   ]
  },
  {
   "cell_type": "code",
   "execution_count": 15,
   "metadata": {
    "colab": {},
    "colab_type": "code",
    "id": "YILPGCOLyeni",
    "outputId": "a176bf39-0eb7-4f37-e5f1-eb0185ab2d9c"
   },
   "outputs": [
    {
     "name": "stdout",
     "output_type": "stream",
     "text": [
      "Error for manual sgd implementation after 100 iterations:  33.62158870033977\n",
      "Weight is :\n",
      " [[-0.98728877  0.38823902 -0.03485412  1.31281231 -0.70766024  3.26386419\n",
      "  -0.17123255 -1.29340844  0.28699944 -0.12057444 -2.15030377  0.8004351\n",
      "  -3.13020927]]\n",
      "Intercept term is:  [19.50868604]\n"
     ]
    }
   ],
   "source": [
    "print(\"Error for manual sgd implementation after 100 iterations: \", mean_squared_error(test_y, pred_sgd_100))\n",
    "print(\"Weight is :\\n {}\".format(w_100))\n",
    "print(\"Intercept term is: \", b_100)"
   ]
  },
  {
   "cell_type": "code",
   "execution_count": 16,
   "metadata": {
    "colab": {},
    "colab_type": "code",
    "id": "v1EPDz0vyenl",
    "outputId": "1bda0f72-04bc-4513-c4ee-0574fc95acce",
    "scrolled": true
   },
   "outputs": [
    {
     "data": {
      "image/png": "[encoded data removed]",
      "text/plain": [
       "<Figure size 432x288 with 1 Axes>"
      ]
     },
     "metadata": {
      "needs_background": "light"
     },
     "output_type": "display_data"
    }
   ],
   "source": [
    "scatter_plot(test_y, pred_sgd_100)"
   ]
  },
  {
   "cell_type": "markdown",
   "metadata": {
    "colab_type": "text",
    "id": "ZtpTrcwiyenp"
   },
   "source": [
    "## Compare sklearn and sgd_implementation using n_iterations = 1000"
   ]
  },
  {
   "cell_type": "markdown",
   "metadata": {
    "colab_type": "text",
    "id": "DwbWGE82yenr"
   },
   "source": [
    "#### For sklearn implementation"
   ]
  },
  {
   "cell_type": "code",
   "execution_count": 17,
   "metadata": {
    "colab": {},
    "colab_type": "code",
    "id": "n351FTJfyens",
    "scrolled": true
   },
   "outputs": [],
   "source": [
    "clf = SGDRegressor(max_iter=1000)\n",
    "clf.fit(train_data, train_y)\n",
    "pred_sklearn_1000 = clf.predict(test_data)"
   ]
  },
  {
   "cell_type": "code",
   "execution_count": 18,
   "metadata": {
    "colab": {},
    "colab_type": "code",
    "id": "edYqKmwOyenw",
    "outputId": "ca19e1c5-6eda-4602-e406-e13eef61b1e3"
   },
   "outputs": [
    {
     "name": "stdout",
     "output_type": "stream",
     "text": [
      "Error for sklearn sgd implementation after 1000 iterations:  21.544894516529396\n",
      "Weight is :\n",
      " [-0.97708972  0.58132342  0.11348625  0.86641227 -1.5205134   2.87914702\n",
      " -0.40892507 -2.63521885  1.06924268 -0.41513319 -1.94897477  1.08184087\n",
      " -3.8520676 ]\n",
      "Intercept term is:  [22.45389246]\n"
     ]
    }
   ],
   "source": [
    "print(\"Error for sklearn sgd implementation after 1000 iterations: \", mean_squared_error(test_y, pred_sklearn_1000))\n",
    "print(\"Weight is :\\n {}\".format(clf.coef_))\n",
    "print(\"Intercept term is: \", clf.intercept_)"
   ]
  },
  {
   "cell_type": "code",
   "execution_count": 19,
   "metadata": {
    "colab": {},
    "colab_type": "code",
    "id": "wR9EpAbByen6",
    "outputId": "cc61d40a-a66c-411d-cd20-0adf5a897b0d"
   },
   "outputs": [
    {
     "data": {
      "image/png": "[encoded data removed]",
      "text/plain": [
       "<Figure size 432x288 with 1 Axes>"
      ]
     },
     "metadata": {
      "needs_background": "light"
     },
     "output_type": "display_data"
    }
   ],
   "source": [
    "scatter_plot(test_y, pred_sklearn_1000)"
   ]
  },
  {
   "cell_type": "markdown",
   "metadata": {
    "colab_type": "text",
    "id": "DxIarGYCyeoA"
   },
   "source": [
    "#### For manual SGD implementation"
   ]
  },
  {
   "cell_type": "code",
   "execution_count": 20,
   "metadata": {
    "colab": {},
    "colab_type": "code",
    "id": "O0Kl0qNTyeoA"
   },
   "outputs": [],
   "source": [
    "w_1000, b_1000 = sgd_implementation(train_df, n_iterations=1000)\n",
    "pred_sgd_1000 = predict(test_data, w_1000, b_1000)"
   ]
  },
  {
   "cell_type": "code",
   "execution_count": 21,
   "metadata": {
    "colab": {},
    "colab_type": "code",
    "id": "1q6AE6AAyeoD",
    "outputId": "9e16c52c-4e92-452b-83fc-89a302f44851"
   },
   "outputs": [
    {
     "name": "stdout",
     "output_type": "stream",
     "text": [
      "Error for manual sgd implementation after 1000 iterations:  21.250599211173597\n",
      "Weight is :\n",
      " [[-1.11089179  0.6806159  -0.04175759  0.80722595 -1.62666979  2.75318474\n",
      "  -0.55170528 -3.00754978  1.32846858 -0.79947169 -1.96597687  1.00042843\n",
      "  -3.85121107]]\n",
      "Intercept term is:  [22.5328715]\n"
     ]
    }
   ],
   "source": [
    "print(\"Error for manual sgd implementation after 1000 iterations: \", mean_squared_error(test_y, pred_sgd_1000))\n",
    "print(\"Weight is :\\n {}\".format(w_1000))\n",
    "print(\"Intercept term is: \", b_1000)"
   ]
  },
  {
   "cell_type": "code",
   "execution_count": 22,
   "metadata": {
    "colab": {},
    "colab_type": "code",
    "id": "AGXOGATdyeoG",
    "outputId": "56a6038e-0b38-4ef7-d0b8-0de96a07dc6f",
    "scrolled": true
   },
   "outputs": [
    {
     "data": {
      "image/png": "[encoded data removed]",
      "text/plain": [
       "<Figure size 432x288 with 1 Axes>"
      ]
     },
     "metadata": {
      "needs_background": "light"
     },
     "output_type": "display_data"
    }
   ],
   "source": [
    "scatter_plot(test_y, pred_sgd_1000)"
   ]
  },
  {
   "cell_type": "markdown",
   "metadata": {
    "colab_type": "text",
    "id": "_5bEUMOEyeoJ"
   },
   "source": [
    "## Compare sklearn and sgd_implementation using n_iterations = 10000"
   ]
  },
  {
   "cell_type": "markdown",
   "metadata": {
    "colab_type": "text",
    "id": "BWifyAhYyeoJ"
   },
   "source": [
    "#### For sklearn implementation"
   ]
  },
  {
   "cell_type": "code",
   "execution_count": 23,
   "metadata": {
    "colab": {},
    "colab_type": "code",
    "id": "8macynsuyeoK",
    "scrolled": true
   },
   "outputs": [],
   "source": [
    "clf = SGDRegressor(max_iter=10000)\n",
    "clf.fit(train_data, train_y)\n",
    "pred_sklearn_10000 = clf.predict(test_data)"
   ]
  },
  {
   "cell_type": "code",
   "execution_count": 24,
   "metadata": {
    "colab": {},
    "colab_type": "code",
    "id": "zcW44QPWyeoM",
    "outputId": "1d2e2596-5a5d-48c4-fbd8-8705203973e6"
   },
   "outputs": [
    {
     "name": "stdout",
     "output_type": "stream",
     "text": [
      "Error for sklearn sgd implementation after 1000 iterations:  21.30170583497408\n",
      "Weight is :\n",
      " [-0.95824851  0.63470745  0.18242194  0.90420189 -1.5604892   2.81415682\n",
      " -0.36757937 -2.76559842  1.24477825 -0.49397855 -1.91811447  1.05932604\n",
      " -3.86036931]\n",
      "Intercept term is:  [22.46901712]\n"
     ]
    }
   ],
   "source": [
    "print(\"Error for sklearn sgd implementation after 1000 iterations: \", mean_squared_error(test_y, pred_sklearn_10000))\n",
    "print(\"Weight is :\\n {}\".format(clf.coef_))\n",
    "print(\"Intercept term is: \", clf.intercept_)"
   ]
  },
  {
   "cell_type": "code",
   "execution_count": 25,
   "metadata": {
    "colab": {},
    "colab_type": "code",
    "id": "YdajhjGNyeoP",
    "outputId": "1f5be6f6-b360-449b-ab84-46debe24673e"
   },
   "outputs": [
    {
     "data": {
      "image/png": "[encoded data removed]",
      "text/plain": [
       "<Figure size 432x288 with 1 Axes>"
      ]
     },
     "metadata": {
      "needs_background": "light"
     },
     "output_type": "display_data"
    }
   ],
   "source": [
    "scatter_plot(test_y, pred_sklearn_10000)"
   ]
  },
  {
   "cell_type": "markdown",
   "metadata": {
    "colab_type": "text",
    "id": "vjBEBe9_yeoR"
   },
   "source": [
    "#### For manual SGD implementation"
   ]
  },
  {
   "cell_type": "code",
   "execution_count": 26,
   "metadata": {
    "colab": {},
    "colab_type": "code",
    "id": "5KbLIQTPyeoS"
   },
   "outputs": [],
   "source": [
    "w_10000, b_10000 = sgd_implementation(train_df, n_iterations=10000)\n",
    "pred_sgd_10000 = predict(test_data, w_10000, b_10000)"
   ]
  },
  {
   "cell_type": "code",
   "execution_count": 27,
   "metadata": {
    "colab": {},
    "colab_type": "code",
    "id": "mmJdcBHwyeoU",
    "outputId": "7f0e6edd-c553-470d-e817-7bfe40aa08b7"
   },
   "outputs": [
    {
     "name": "stdout",
     "output_type": "stream",
     "text": [
      "Error for manual sgd implementation after 1000 iterations:  20.935815828034034\n",
      "Weight is :\n",
      " [[-1.06486567  0.7535466   0.28182885  0.79603073 -1.86797309  2.87260287\n",
      "  -0.46522883 -2.9401687   1.66632885 -0.90142283 -2.05704551  1.0795211\n",
      "  -3.78160089]]\n",
      "Intercept term is:  [22.48935225]\n"
     ]
    }
   ],
   "source": [
    "print(\"Error for manual sgd implementation after 1000 iterations: \", mean_squared_error(test_y, pred_sgd_10000))\n",
    "print(\"Weight is :\\n {}\".format(w_10000))\n",
    "print(\"Intercept term is: \", b_10000)"
   ]
  },
  {
   "cell_type": "code",
   "execution_count": 28,
   "metadata": {
    "colab": {},
    "colab_type": "code",
    "id": "8EKdxCz1yeoY",
    "outputId": "6cdfc2b3-d352-466b-bdf6-fb85564a623d",
    "scrolled": false
   },
   "outputs": [
    {
     "data": {
      "image/png": "[encoded data removed]",
      "text/plain": [
       "<Figure size 432x288 with 1 Axes>"
      ]
     },
     "metadata": {
      "needs_background": "light"
     },
     "output_type": "display_data"
    }
   ],
   "source": [
    "scatter_plot(test_y, pred_sgd_10000)"
   ]
  },
  {
   "cell_type": "markdown",
   "metadata": {
    "colab_type": "text",
    "id": "ITGW94e0yeoe"
   },
   "source": [
    "# Conclusion: \n",
    "\n",
    "| Model | Learning rate  | iterations  | Error | Intercept |\n",
    "|----------:|--------|--------------|--------|-----------|\n",
    "| Sklearn SGD| 0.01 | 100 | 20.80 | 22.46|\n",
    "| Manual SGD | 0.01 | 100 | 33.78 | 19.57|\n",
    "| Sklearn SGD| 0.01 | 1000 | 20.72 | 22.47|\n",
    "| Manual SGD | 0.01 | 1000 | 20.81 | 22.39|\n",
    "| Sklearn SGD| 0.01 | 10000 | 20.75 | 22.46|\n",
    "| Manual SGD | 0.01 | 10000 | 20.77 | 22.45|\n",
    "\n",
    "\n",
    "- From the above table it can be clearly stated that with the increase in the number of iterations, the model's probability to find a point that is a local or global minima increases. \n",
    "- For 100 iterations, the sklearn and manual SGD error rate was varying quite a lot (20.8 and 33.78 respectively) but as the number of iteration increased, at 10000 iterations the error rate and also the intercept term are almost equal (20.75 and 20.77) which means our model is almost similar in performance with the sklearn's SGDRegressor implementation. \n",
    "\n"
   ]
  }
 ],
 "metadata": {
  "colab": {
   "name": "Implement_SGD_from_scratch.ipynb",
   "provenance": []
  },
  "kernelspec": {
   "display_name": "Python 3",
   "language": "python",
   "name": "python3"
  },
  "language_info": {
   "codemirror_mode": {
    "name": "ipython",
    "version": 3
   },
   "file_extension": ".py",
   "mimetype": "text/x-python",
   "name": "python",
   "nbconvert_exporter": "python",
   "pygments_lexer": "ipython3",
   "version": "3.7.1"
  }
 },
 "nbformat": 4,
 "nbformat_minor": 1
}
